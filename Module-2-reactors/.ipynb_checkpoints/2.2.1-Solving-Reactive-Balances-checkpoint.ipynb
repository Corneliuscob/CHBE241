{
 "cells": [
  {
   "cell_type": "markdown",
   "metadata": {},
   "source": [
    "# Solving-Reactive-Balances\n",
    "\n",
    "# Introduction\n",
    "\n",
    "> We will solve the example in the diagram 4.71 using the molecular spcies and atomic species balance. Python will be implemented to perform calculations.\n",
    "\n",
    "## Problem statement\n",
    "\n",
    "\n",
    "Recall the block diagram in figure 4.7-1\n",
    "\n",
    "$$\n",
    "    C_2H_6 \\rightarrow C_2H_4 + H_2\n",
    "$$\n",
    "\n",
    "![](img/ethane-reaction.png)\n",
    "\n",
    "What are the __mol flows__ of the exit streams of ethane $ C_6H_6$ and ethylene $C_4H_4$?"
   ]
  },
  {
   "cell_type": "markdown",
   "metadata": {},
   "source": [
    "\n",
    "## Solving using the molecular species balance\n",
    "\n",
    "> First, we __identify our molecular species__; for us, this is Hydrogen, Ethane and Ethylene.\n",
    "\n",
    "> Next, we write out their respective balance equations.\n",
    "\n",
    "$$ C_2H_6 balance: 100 \\frac{kmol}{min}_{input} =Output + Consumed  $$\n",
    "\n",
    "$$ C_2H_4 balance: X \\frac{kmol}{min}_{generated} = X_2\\frac{kmol}{min}_{Output} $$\n",
    "   \n",
    "$$ H_2 balance: 40 \\frac{kmol}{min}_{generated} = 40 \\frac{kmol}{min}_{consumed} $$\n",
    "\n",
    "> To further relate these equations we use the dehydrogenation reaction:\n",
    "\n",
    "$$ C_2H_6 \\rightarrow C_2H_4 + H_2 $$ \n",
    "\n",
    ">Since there is a 1:1 ratio between the Generation of Hydrogen to $C_2H_4$:\n",
    "\n",
    "$$ 40 \\frac{kmol}{min}H_{2generated} * \\frac{1 \\frac{kmol}{min}C_2H_4}{1 \\frac{kmol}{min}H_2}  = 40\\frac{kmol}{min}C_2H_{4generated} $$\n",
    "\n",
    "\\begin{array}{lrrr|r}\n",
    "& C_2H_6 & C_2H_4 & H_2  \\\\ \n",
    "Ethane balance    & 1 & 1 & -1 &   5 \\\\\n",
    "Ethylene balance  & 0 & -1 & 5 &   -8 \\\\\n",
    "Hydrogen balance  & 4 & -1 & 2 &   -1 \\\\\n",
    "Chemical reaction  & -1 & 1 & 1 \n",
    "\\end{array}\n",
    "\n",
    "\n",
    "> We then assign our inputs and outputs to python variables and assign simple relationships\n"
   ]
  },
  {
   "cell_type": "code",
   "execution_count": 1,
   "metadata": {
    "collapsed": true
   },
   "outputs": [],
   "source": [
    "import sympy\n",
    "\n",
    "sympy.var('')\n",
    "\n",
    "\n",
    "\n"
   ]
  },
  {
   "cell_type": "markdown",
   "metadata": {},
   "source": [
    "\n"
   ]
  },
  {
   "cell_type": "code",
   "execution_count": null,
   "metadata": {
    "collapsed": true
   },
   "outputs": [],
   "source": []
  },
  {
   "cell_type": "code",
   "execution_count": null,
   "metadata": {
    "collapsed": true
   },
   "outputs": [],
   "source": []
  }
 ],
 "metadata": {
  "kernelspec": {
   "display_name": "Python 3",
   "language": "python",
   "name": "python3"
  },
  "language_info": {
   "codemirror_mode": {
    "name": "ipython",
    "version": 3
   },
   "file_extension": ".py",
   "mimetype": "text/x-python",
   "name": "python",
   "nbconvert_exporter": "python",
   "pygments_lexer": "ipython3",
   "version": "3.6.1"
  }
 },
 "nbformat": 4,
 "nbformat_minor": 2
}
