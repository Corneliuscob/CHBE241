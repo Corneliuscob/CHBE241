{
 "cells": [
  {
   "cell_type": "markdown",
   "metadata": {},
   "source": [
    "# Solving-Reactive-Balances\n",
    "\n",
    "# Introduction\n",
    "\n",
    "> We will solve the example in the diagram 4.71 using the molecular spcies and atomic species balance. Python will be implemented to perform calculations.\n",
    "\n",
    "## Problem statement\n",
    "\n",
    "\n",
    "Recall the block diagram in figure 4.7-1\n",
    "\n",
    "$$\n",
    "    C_2H_6 \\rightarrow C_2H_4 + H_2\n",
    "$$\n",
    "\n",
    "![](img/ethane-reaction.png)\n",
    "\n",
    "What are the __mol flows__ of the exit streams of ethane $ C_6H_6$ and ethylene $C_4H_4$?"
   ]
  },
  {
   "cell_type": "markdown",
   "metadata": {},
   "source": [
    "## Solving using the molecular species balance\n",
    "\n",
    "> First, we __identify our molecular species__; for us, this is Hydrogen, Ethane and Ethylene.\n",
    "\n",
    "> Then, we write out their respective balance equations.\n",
    "\n",
    "$$ C_2H_6 balance: Input =Output + Consumption$$\n",
    "\n",
    "$$ C_2H_4 balance: Generation = Output$$\n",
    "   \n",
    "$$ H_2 balance: Generation = Output $$\n",
    "\n",
    "> We then assign our inputs and outputs to python variables and assign simple relationships\n"
   ]
  },
  {
   "cell_type": "code",
   "execution_count": 34,
   "metadata": {},
   "outputs": [],
   "source": [
    "#variables we are not sure of take 0\n",
    "\n",
    "# Ethane's balance\n",
    "Ethane_input = 100\n",
    "Ethane_output = 0\n",
    "Ethane_consumption = 0 \n",
    "# Ethylene's balance\n",
    "Ethylene_generation = 0\n",
    "Ethylene_output = 0\n",
    "# Hydrogen balance\n",
    "Hydrogen_generation =40\n",
    "Hydrogen_ouput = 0\n",
    "# We know that the hydrogen output  is equal to its \n",
    "#generation and thus assign it to\n",
    "Hydrogen_output = Hydrogen_generation\n",
    "\n",
    "\n",
    "\n",
    "\n"
   ]
  },
  {
   "cell_type": "code",
   "execution_count": null,
   "metadata": {},
   "outputs": [],
   "source": [
    "\n"
   ]
  },
  {
   "cell_type": "code",
   "execution_count": null,
   "metadata": {},
   "outputs": [],
   "source": []
  },
  {
   "cell_type": "code",
   "execution_count": null,
   "metadata": {
    "collapsed": true
   },
   "outputs": [],
   "source": []
  }
 ],
 "metadata": {
  "kernelspec": {
   "display_name": "Python 3",
   "language": "python",
   "name": "python3"
  },
  "language_info": {
   "codemirror_mode": {
    "name": "ipython",
    "version": 3
   },
   "file_extension": ".py",
   "mimetype": "text/x-python",
   "name": "python",
   "nbconvert_exporter": "python",
   "pygments_lexer": "ipython3",
   "version": "3.6.1"
  }
 },
 "nbformat": 4,
 "nbformat_minor": 2
}
