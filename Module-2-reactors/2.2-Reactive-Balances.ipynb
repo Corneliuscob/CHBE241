{
 "cells": [
  {
   "cell_type": "markdown",
   "metadata": {
    "foo": true
   },
   "source": [
    "# Reactive Balances"
   ]
  },
  {
   "cell_type": "markdown",
   "metadata": {},
   "source": [
    "## Introduction\n",
    "\n",
    "Often when we evaluate processes, __chemical reactions__ take place. These chemical reactions __add complexity__ to our system by introducing new unknowns. To reduce these complexities, we can use __molecular species balances__, __atomic balances__ or the __extent of reactions__ to help solve problems."
   ]
  },
  {
   "cell_type": "markdown",
   "metadata": {},
   "source": [
    "## The Production of Ethylene\n",
    "\n",
    "> Ethylene is a major chemical product primarily used to form the platic polyethylene.\n",
    "\n",
    "> It is also a natural chemical released by fruits to ripen. You can separate your bananas to help them ripen faster. As bananas die, they take other bananas down.\n",
    "\n",
    "Let's consider the production of ethylene in steady-state.\n",
    "In production, Ethylene is formed by the dehydrogenation of Ethane:\n",
    "\n",
    "$$\n",
    "    C_2H_6 \\rightarrow C_2H_4 + H_2\n",
    "$$\n",
    "\n",
    "![](img/ethane-reaction.png)"
   ]
  },
  {
   "cell_type": "markdown",
   "metadata": {},
   "source": [
    "The __Molecular species balances__ are the balances of all chemical compounds in this reaction.\n",
    "\n",
    "$$C_2H_6 balance: Accumulation = Input -Output +Generation - Consumpion $$\n",
    "\n",
    "Since the system is in steady state and the reaction does not produce Ethane: \n",
    "\n",
    "$$ Accumulation = 0 , Generation = 0 $$\n",
    "\n",
    "Rearranging and applying similar logic to the other species give us 3 equations:\n",
    "\n",
    "$$ C_2H_6 balance: Input =Output + Consumption $$\n",
    "\n",
    "$$ C_2H_4 balance: Generation = Output$$\n",
    "   \n",
    "$$ H_2 balance: Generation = Output $$\n"
   ]
  },
  {
   "cell_type": "markdown",
   "metadata": {},
   "source": [
    "The __Atomic species balances__ are the balances of all the elemental species in this reaction.\n",
    "\n",
    "The Two species here are Hydrogen and Carbon. \n",
    "\n",
    "Atomic species **must** follow the law of conservation, thus both species take on the equation:\n",
    "\n",
    "$$ Carbon (C)  \\space  balance: Input = Output$$\n",
    "$$ Hydrogen (H) \\space balance: Input = Output$$"
   ]
  },
  {
   "cell_type": "markdown",
   "metadata": {},
   "source": [
    "The __Extent of reaction__ (denoted by $\\xi$ ) is when the __molar flow rates__ of each chemical species are used. "
   ]
  },
  {
   "cell_type": "code",
   "execution_count": 41,
   "metadata": {},
   "outputs": [
    {
     "ename": "ModuleNotFoundError",
     "evalue": "No module named 'molecular_weight.py'; 'molecular_weight' is not a package",
     "output_type": "error",
     "traceback": [
      "\u001b[0;31m---------------------------------------------------------------------------\u001b[0m",
      "\u001b[0;31mModuleNotFoundError\u001b[0m                       Traceback (most recent call last)",
      "\u001b[0;32m<ipython-input-41-0c621e4e3422>\u001b[0m in \u001b[0;36m<module>\u001b[0;34m()\u001b[0m\n\u001b[0;32m----> 1\u001b[0;31m \u001b[0;32mimport\u001b[0m \u001b[0mmolecular_weight\u001b[0m\u001b[0;34m.\u001b[0m\u001b[0mpy\u001b[0m\u001b[0;34m\u001b[0m\u001b[0m\n\u001b[0m",
      "\u001b[0;31mModuleNotFoundError\u001b[0m: No module named 'molecular_weight.py'; 'molecular_weight' is not a package"
     ]
    }
   ],
   "source": [
    "import molecular_weight.py\n"
   ]
  },
  {
   "cell_type": "code",
   "execution_count": 43,
   "metadata": {},
   "outputs": [
    {
     "ename": "SyntaxError",
     "evalue": "invalid syntax (<ipython-input-43-e9f267633cc1>, line 1)",
     "output_type": "error",
     "traceback": [
      "\u001b[0;36m  File \u001b[0;32m\"<ipython-input-43-e9f267633cc1>\"\u001b[0;36m, line \u001b[0;32m1\u001b[0m\n\u001b[0;31m    from Mweight import molecular_weight.py\u001b[0m\n\u001b[0m                                        ^\u001b[0m\n\u001b[0;31mSyntaxError\u001b[0m\u001b[0;31m:\u001b[0m invalid syntax\n"
     ]
    }
   ],
   "source": [
    "from Mweight import molecular_weight.py"
   ]
  },
  {
   "cell_type": "code",
   "execution_count": null,
   "metadata": {
    "collapsed": true
   },
   "outputs": [],
   "source": []
  }
 ],
 "metadata": {
  "kernelspec": {
   "display_name": "Python 3",
   "language": "python",
   "name": "python3"
  },
  "language_info": {
   "codemirror_mode": {
    "name": "ipython",
    "version": 3
   },
   "file_extension": ".py",
   "mimetype": "text/x-python",
   "name": "python",
   "nbconvert_exporter": "python",
   "pygments_lexer": "ipython3",
   "version": "3.6.1"
  }
 },
 "nbformat": 4,
 "nbformat_minor": 2
}
