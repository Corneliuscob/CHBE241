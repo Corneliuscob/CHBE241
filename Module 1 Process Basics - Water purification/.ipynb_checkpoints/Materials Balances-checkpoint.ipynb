{
 "cells": [
  {
   "cell_type": "markdown",
   "metadata": {},
   "source": [
    "# Materials Balances"
   ]
  },
  {
   "cell_type": "markdown",
   "metadata": {},
   "source": [
    "## Introduction"
   ]
  },
  {
   "cell_type": "markdown",
   "metadata": {},
   "source": [
    "There are certain restrictions imposed by nature that must be considered when desigin or analyzing a process. For example, you cannot input 1,000 g of lead and output 2000g of lead or gold. Similarly, if you burn 20 kg of wood, you should know that 20 kg of ash and smoke would be the result of the chemical reaction. The basis of these obseravtions is the law of conservation of mass."
   ]
  },
  {
   "cell_type": "markdown",
   "metadata": {},
   "source": [
    "## Overview"
   ]
  },
  {
   "cell_type": "markdown",
   "metadata": {},
   "source": [
    "### The Law of Conservation of Mass"
   ]
  },
  {
   "cell_type": "markdown",
   "metadata": {},
   "source": [
    "The law of conservation of mass states that mass cannot be destroyed or created. We will not be concerned with the almost infinitesimal conversions between mass and energy associated with chemical reactions. This law means that in chemcial reactions, the mass of the products will always be equal to the mas of the reactants. This includes anything from fires to acid-base titrations. Therefore: $$ input + generation - output - consumption = accumulation $$"
   ]
  },
  {
   "cell_type": "code",
   "execution_count": null,
   "metadata": {
    "collapsed": true
   },
   "outputs": [],
   "source": []
  }
 ],
 "metadata": {
  "kernelspec": {
   "display_name": "Python 3",
   "language": "python",
   "name": "python3"
  },
  "language_info": {
   "codemirror_mode": {
    "name": "ipython",
    "version": 3
   },
   "file_extension": ".py",
   "mimetype": "text/x-python",
   "name": "python",
   "nbconvert_exporter": "python",
   "pygments_lexer": "ipython3",
   "version": "3.6.1"
  }
 },
 "nbformat": 4,
 "nbformat_minor": 2
}
