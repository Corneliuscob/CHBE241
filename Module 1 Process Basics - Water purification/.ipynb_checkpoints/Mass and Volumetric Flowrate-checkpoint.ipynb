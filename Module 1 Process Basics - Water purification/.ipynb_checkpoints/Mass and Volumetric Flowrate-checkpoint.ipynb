{
 "cells": [
  {
   "cell_type": "markdown",
   "metadata": {},
   "source": [
    "# Flowrate"
   ]
  },
  {
   "cell_type": "markdown",
   "metadata": {},
   "source": [
    "## Introduction\n",
    "Almost every process involves the movement of material from one point to another. The movement of material is somtimes present between process untis, production facilities, and transportation depots. The rate at which matrials are transported is the flow rate."
   ]
  },
  {
   "cell_type": "markdown",
   "metadata": {},
   "source": [
    "## Overview\n",
    "\n"
   ]
  },
  {
   "cell_type": "markdown",
   "metadata": {},
   "source": [
    "### Mass Flow Rate"
   ]
  },
  {
   "cell_type": "markdown",
   "metadata": {
    "collapsed": true
   },
   "source": [
    "Mass flow rate is the measurement of mass per unit time (mass/time). This flowrate is usually denoted by this character \\begin{equation*} \\dot{m} = \\frac{ kg }{s} \\end{equation*}"
   ]
  },
  {
   "cell_type": "markdown",
   "metadata": {},
   "source": [
    "Since mass must be consereved, the input masses of a process must equal the output masses, unless there is accumulation. Because of this, mass flowrate is a very useful tool in solving material balances."
   ]
  },
  {
   "cell_type": "markdown",
   "metadata": {},
   "source": [
    "### Volumetric Flow Rate"
   ]
  },
  {
   "cell_type": "markdown",
   "metadata": {},
   "source": [
    "Volumetric flow rate is the measurement of volume per unit time (volume/time) This flow rate is usually denoted by this character \\begin{equation*} \\dot{V} = \\frac{ m^3 }{s} \\end{equation*}"
   ]
  },
  {
   "cell_type": "markdown",
   "metadata": {},
   "source": [
    "Although volume is nearly conserved for solids and liquids, it is not for gases. For example if gas was flowing through a nozzle, the mass flow rate would not change but the gas would compress or expand. ![](Nozzle.JPG)"
   ]
  },
  {
   "cell_type": "markdown",
   "metadata": {},
   "source": [
    "Since mass flow rate is more useful, but volumetric flow rate is easier to measure, we need to be able to convert one from the other. For this, we use density."
   ]
  },
  {
   "cell_type": "markdown",
   "metadata": {},
   "source": [
    "\\begin{equation*} \\rho = \\frac{m}{V} = \\frac{\\dot{m}}{\\dot{V}} = \\frac{\\frac{kg}{s}}{\\frac{m^3}{s}} = \\frac{kg}{m^3}  \\end{equation*}"
   ]
  },
  {
   "cell_type": "markdown",
   "metadata": {},
   "source": [
    "Now, if we have density and volumetric flow rate, we can solve for mass flow rate."
   ]
  },
  {
   "cell_type": "markdown",
   "metadata": {},
   "source": [
    "### Flow Rate Measurement"
   ]
  },
  {
   "cell_type": "markdown",
   "metadata": {},
   "source": [
    "Flow rates are measured by a device called a flowmeter. This device provides a continous reading of the flow rate in the line. Two commonly used flowmeteres are rotameters ![](Rotameter.JPG) and orifice meter ![](Orifice_meter.JPG)"
   ]
  },
  {
   "cell_type": "markdown",
   "metadata": {},
   "source": [
    "The rotameter is a tapered vertical tube containing a small ball (the black dot in the image). The larger the flow rate, the higher the ball rises due to the increased friction force. ![](Sphere.JPG)"
   ]
  },
  {
   "cell_type": "markdown",
   "metadata": {},
   "source": [
    "The orifice meter is an obstruction in the flow channel which causes a pressure drop. The magnitude of the pressure drop dictates the flow rate. The larger the pressure drop, the larger the flow rate."
   ]
  },
  {
   "cell_type": "code",
   "execution_count": null,
   "metadata": {
    "collapsed": true
   },
   "outputs": [],
   "source": []
  }
 ],
 "metadata": {
  "kernelspec": {
   "display_name": "Python 3",
   "language": "python",
   "name": "python3"
  },
  "language_info": {
   "codemirror_mode": {
    "name": "ipython",
    "version": 3
   },
   "file_extension": ".py",
   "mimetype": "text/x-python",
   "name": "python",
   "nbconvert_exporter": "python",
   "pygments_lexer": "ipython3",
   "version": "3.6.1"
  }
 },
 "nbformat": 4,
 "nbformat_minor": 2
}
