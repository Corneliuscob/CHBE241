{
 "cells": [
  {
   "cell_type": "markdown",
   "metadata": {},
   "source": [
    "# Unit Conversions"
   ]
  },
  {
   "cell_type": "markdown",
   "metadata": {},
   "source": [
    "## Conversion Factors"
   ]
  },
  {
   "cell_type": "markdown",
   "metadata": {},
   "source": [
    "Conversion factors are ratios between two expressions of the same quantity. For an example:"
   ]
  },
  {
   "cell_type": "markdown",
   "metadata": {},
   "source": [
    "\\begin{equation*} \\frac{1 cm}{10 mm} \\quad \\text{(1 centimeter per 10 millimeters)} \\end{equation*}\n",
    "\n",
    "or\n",
    "\n",
    "\\begin{equation*} \\frac{1 kg^2}{1,000,000 g^2} \\quad \\text{(1 kilogram squared per 1,000,000 grams squared)} \\end{equation*}\n",
    "\n",
    "or\n",
    "\n",
    "\\begin{equation*} \\frac{1 m^3}{1,000,000,000 mm^3} \\quad \\text{(1 cubic meter per 1,000,000,000 cubic millimeters)} \\end{equation*}"
   ]
  },
  {
   "cell_type": "markdown",
   "metadata": {},
   "source": [
    "## Converting Units"
   ]
  },
  {
   "cell_type": "markdown",
   "metadata": {},
   "source": [
    "To convert a quantity from one unit to its equiviling of another unit, we will use conversion factors. For example, if we want to convert 7.2 km to meters, we would write:"
   ]
  },
  {
   "cell_type": "markdown",
   "metadata": {},
   "source": [
    "\\begin{equation*} 7.2 km \\times \\frac{1,000 m}{1 km} = 7,200 m  \\end{equation*}\n",
    "\n",
    "As you can see, the original unit is km, the final unit is m, and the conversion factor is 1,000m / 1km."
   ]
  },
  {
   "cell_type": "code",
   "execution_count": null,
   "metadata": {
    "collapsed": true
   },
   "outputs": [],
   "source": []
  }
 ],
 "metadata": {
  "kernelspec": {
   "display_name": "Python 3",
   "language": "python",
   "name": "python3"
  },
  "language_info": {
   "codemirror_mode": {
    "name": "ipython",
    "version": 3
   },
   "file_extension": ".py",
   "mimetype": "text/x-python",
   "name": "python",
   "nbconvert_exporter": "python",
   "pygments_lexer": "ipython3",
   "version": "3.6.1"
  }
 },
 "nbformat": 4,
 "nbformat_minor": 2
}
