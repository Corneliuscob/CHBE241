{
 "cells": [
  {
   "cell_type": "markdown",
   "metadata": {},
   "source": [
    "# Flowrate"
   ]
  },
  {
   "cell_type": "markdown",
   "metadata": {},
   "source": [
    "## Introduction\n",
    "Almost every process involves the movement of material from one point to another. The movement of material is somtimes present between process untis, production facilities, and transportation depots. The rate at which matrials are transported is the flow rate."
   ]
  },
  {
   "cell_type": "markdown",
   "metadata": {},
   "source": [
    "## Overview\n",
    "\n"
   ]
  },
  {
   "cell_type": "markdown",
   "metadata": {},
   "source": [
    "### Mass Flow Rate"
   ]
  },
  {
   "cell_type": "markdown",
   "metadata": {
    "collapsed": true
   },
   "source": [
    "Mass flow rate is the measurement of mass per unit time (mass/time). This flowrate is usually denoted by this character $ \\dot{m} $\n",
    "where $ \\dot{m} = \\frac{ kg }{s} $"
   ]
  },
  {
   "cell_type": "markdown",
   "metadata": {},
   "source": [
    "Since mass must be consereved, the input masses of a process must equal the output masses, unless there is accumulation. Therefore, mass flowrate is a very useful tool in solving material balances."
   ]
  },
  {
   "cell_type": "markdown",
   "metadata": {},
   "source": [
    "### Volumetric Flow Rate"
   ]
  },
  {
   "cell_type": "markdown",
   "metadata": {},
   "source": [
    "Volumetric flow rate is the measurement of volume per unit time (volume/time) This flow rate is usually denoted by this character $ \\dot{V} $, where $ \\dot{V} = \\frac{ m^3 }{s} $"
   ]
  },
  {
   "cell_type": "markdown",
   "metadata": {},
   "source": [
    "Although volume is nearly conserved for solids and liquids, it is not for gases. For example if a gas was flowing through a nozzle, the mass flow rate would not change but the gas would compress or expand. ![](../figures/Nozzle.JPG)"
   ]
  },
  {
   "cell_type": "markdown",
   "metadata": {},
   "source": [
    "Since mass flow rate is more useful, but volumetric flow rate is easier to measure, we need to be able to convert from one to the other. Therefore, we use density."
   ]
  },
  {
   "cell_type": "markdown",
   "metadata": {},
   "source": [
    "$$ \\rho = \\frac{m}{V} = \\frac{\\dot{m}}{\\dot{V}} = \\frac{\\frac{kg}{s}}{\\frac{m^3}{s}} = \\frac{kg}{m^3}   $$"
   ]
  },
  {
   "cell_type": "markdown",
   "metadata": {},
   "source": [
    "Now, if we have density and volumetric flow rate, we can solve for mass flow rate."
   ]
  },
  {
   "cell_type": "markdown",
   "metadata": {},
   "source": [
    "### Flow Rate Measurement"
   ]
  },
  {
   "cell_type": "markdown",
   "metadata": {},
   "source": [
    "Flow rates are measured by a device called a flowmeter. This device provides a continous reading of the flow rate in the line. Two commonly used flowmeteres are rotameters ![](../figures/Rotameter.JPG) and orifice meter ![](../figures/Orifice_meter.JPG)"
   ]
  },
  {
   "cell_type": "markdown",
   "metadata": {},
   "source": [
    "The rotameter is a tapered vertical tube containing a small ball (the black dot in the image). The larger the flow rate, the higher the ball rises due to the increased friction force.\n",
    "\n",
    "![](../figures/Sphere.JPG)"
   ]
  },
  {
   "cell_type": "markdown",
   "metadata": {},
   "source": [
    "The orifice meter is an obstruction in the flow channel which causes a pressure drop. The magnitude of the pressure drop dictates the flow rate. The larger the pressure drop, the larger the flow rate. The pressure drop is measured by a manometer."
   ]
  },
  {
   "cell_type": "markdown",
   "metadata": {
    "collapsed": true
   },
   "source": [
    "### Manometer"
   ]
  },
  {
   "cell_type": "markdown",
   "metadata": {},
   "source": [
    "Manometers are one of the most commonaly used tools in measuring pressure drops. This is done by measureing the heights of the diffrent fluids in the manometer. ![](../figures/Manometer.JPG) "
   ]
  },
  {
   "cell_type": "markdown",
   "metadata": {},
   "source": [
    "Writing and equation the expressions for the pressures at points (a) and (b) in the figure shown above, we get the general manometer equation:\n",
    "\n",
    "$$ \\mathbf{P}_1 + \\mathbf{\\rho}_1 g \\mathbf{d}_1 =  \\mathbf{P}_2 + \\mathbf{\\rho}_2 g \\mathbf{d}_2 + \\mathbf{\\rho}_f g h \\quad \\text{(General Manometer Equation)} $$"
   ]
  },
  {
   "cell_type": "markdown",
   "metadata": {},
   "source": [
    "If the densities of fluids 1 and 2 are the same, the equation simplifies to:\n",
    "\n",
    "$$ \\mathbf{P}_1 - \\mathbf{P}_2 =  (\\mathbf{\\rho}_f - \\rho) g h \\quad \\text{(Differential Manometer Equation)} $$"
   ]
  },
  {
   "cell_type": "markdown",
   "metadata": {},
   "source": [
    "If fluids 1 and 2 are gases, the equation simplifies further to:\n",
    "\n",
    "$$ \\mathbf{P}_1 - \\mathbf{P}_2 =  \\mathbf{\\rho}_f  g h \\quad \\text{(Manometer Formula for Gases)} $$"
   ]
  },
  {
   "cell_type": "markdown",
   "metadata": {},
   "source": [
    "## Problem Statement"
   ]
  },
  {
   "cell_type": "markdown",
   "metadata": {},
   "source": [
    "### Question\n",
    "A differential manometer is used to measure the drop in pressure between two points in a process line containing water. The specific gravity of the manometer fluid is 1.05. The measured levels in each arm are shown below. Calculate the pressure drop in pascals\n",
    "\n",
    "![](../figures/Problem_statement.JPG) "
   ]
  },
  {
   "cell_type": "markdown",
   "metadata": {},
   "source": [
    "### Solution"
   ]
  },
  {
   "cell_type": "code",
   "execution_count": null,
   "metadata": {
    "collapsed": true
   },
   "outputs": [],
   "source": [
    "#Declare all know varibles\n",
    "\n",
    "rho = 1000  # kg/m^3\n",
    "rho_f = 1050 # kg/m^3\n",
    "g = 9.81 # m/s^2\n",
    "h = 0.382 - 0.374 # m\n",
    "\n",
    "#Solve for pressure drop using Differential Manometer Equation\n",
    "\n",
    "P_drop = (rho_f-rho)*g*h\n",
    "\n",
    "#Print Results\n",
    "\n",
    "print(\"The pressure drop is measured to be \", P_drop, \"Pa\")"
   ]
  },
  {
   "cell_type": "markdown",
   "metadata": {},
   "source": [
    "As you can see the value we get is not exactly 3.924 Pa due to rounding error by the computer, but if you take significant figures into account the final answer is $ \\mathbf{P}_1 - \\mathbf{P}_2 = 3.92 Pa $"
   ]
  },
  {
   "cell_type": "code",
   "execution_count": null,
   "metadata": {
    "collapsed": true
   },
   "outputs": [],
   "source": []
  }
 ],
 "metadata": {
  "kernelspec": {
   "display_name": "Python 3",
   "language": "python",
   "name": "python3"
  },
  "language_info": {
   "codemirror_mode": {
    "name": "ipython",
    "version": 3
   },
   "file_extension": ".py",
   "mimetype": "text/x-python",
   "name": "python",
   "nbconvert_exporter": "python",
   "pygments_lexer": "ipython3",
   "version": "3.6.1"
  }
 },
 "nbformat": 4,
 "nbformat_minor": 2
}
