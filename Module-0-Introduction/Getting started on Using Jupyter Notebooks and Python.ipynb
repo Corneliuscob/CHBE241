{
 "cells": [
  {
   "cell_type": "markdown",
   "metadata": {},
   "source": [
    "# Getting started on Using Jupyter Notebooks and Python\n",
    "\n",
    "### Summary\n",
    "The goal of this notebook is to learn how to write simple Python code for solving chemical engineering problems. We assume that you have no prior experience with Python.\n",
    "<hr>\n",
    "\n",
    "<p style=\"color:red;\">\n",
    "TODO:\n",
    "<ol>\n",
    "<li>Update Animations</li>\n",
    "<li>Elaborate on the overwriting variables section</li>\n",
    "<li>Add more info on shortcuts</li>\n",
    "<li>Elaborate on the difference between edit mode (green) and command mode (blue)</li>\n",
    "<li>Add a link to useful tutorials at the bottom for further reading</li>\n",
    "</ol>\n",
    "</p>"
   ]
  },
  {
   "cell_type": "markdown",
   "metadata": {},
   "source": [
    "## Introduction\n",
    "\n",
    "Welcome to **CHBE 241: Material and Energy Balances**. In this course, we will use Jupyter notebooks to illustrate how to use modern, open-source software tools for chemical engineering applications.\n",
    "\n",
    "##  Running Jupyter Notebooks\n",
    "Jupyter notebooks are documents that combines Python code, text, equations and images. These notebooks are meant to be accessed through a browser. They are easily shareable and downloadable into other file types (e.g. PDF and HTML) for your convenience. \n",
    "\n",
    "To interact with and edit these notebooks, you will need to open them using a Jupyter server. In this course, we will use a Jupyter server hosted by UBC at [https://ubc.syzygy.ca/](https://ubc.syzygy.ca/). \n",
    "\n",
    "### Running Jupyter on the Cloud: [Syzygy](https://ubc.syzygy.ca/)\n",
    " 1. Go to the Syzygy server in the link above \n",
    " 2. Sign in to Syzygy with your CWL login \n",
    " 3. Click \"Start My Server\" and the Jupyter interface will open\n",
    " 4. Go to File > New > Python3 and create a new file \n",
    "![](../figures/Module 0/newnotebook_rwest.gif)\n",
    " 5. Enter this into the box `!git clone https://github.com/UBCEnvision/CHBE241` and press \"Shift+Enter\" \n",
    " 6. Go to File > Open and you should see the course syllabus downloaded into a folder called **CHBE241**"
   ]
  },
  {
   "cell_type": "markdown",
   "metadata": {},
   "source": [
    "## Using Jupyter\n",
    "\n",
    "A notebook consists of **cells** that contain either **text** or **code**. In this course, we will be using Python as our programming language. Cells that contain text are known as **markdown** cells, and they can support formatted text, images, HTML and equations written in $ \\LaTeX $.\n",
    "\n",
    "Let's take a few minutes to familiarize ourselves with Jupyter. The Jupyter interface is very user-friendly and the best way to learn is to explore by clicking on different buttons. Try doing the following:\n",
    "\n",
    "1. Take a look at the course materials and observe the different folders and files\n",
    "2. Create a new Python 3 notebook \n",
    "3. Rename the notebook and save it\n",
    "\n",
    "Jupyter notebooks have a **```.ipynb```** extension with a notebook icon beside the filename."
   ]
  },
  {
   "cell_type": "markdown",
   "metadata": {
    "collapsed": true
   },
   "source": [
    "\n",
    "## Python Code\n",
    "\n",
    "We will start with some basic variable assignment and printing in Python. Create a new notebook, then write this in the cell:\n",
    "\n",
    "```Python\n",
    "x = 5\n",
    "```\n",
    "\n",
    "and then hit *Shift+Enter*.  \n",
    "\n",
    "Make sure you use **Shift+Enter**. If you just hit Enter you'll find that it will simply add another line to the current cell. In this new cell, we can print out the value using:\n",
    "\n",
    "```Python\n",
    "print(x)\n",
    "```\n",
    "\n",
    "and then hit **Shift+Enter**.  The output of that command is printed immediately below the cell.\n",
    "\n",
    "The whole procedure should look something like this:\n",
    "\n",
    "![runandprint](../figures/Module 0/runandprint_rwest.gif)"
   ]
  },
  {
   "cell_type": "markdown",
   "metadata": {},
   "source": [
    "## Overwriting variables\n",
    "\n",
    "Since each cell is interacting with the same Python instance, if we give `x` a new value and then enter `print(x)` we'll get that new value.  That's pretty straight forward —but what if we then delete the cell where we gave `x` a new value?\n",
    "\n",
    "Let's take a look!\n",
    "\n",
    "![overwrite](../figures/Module 0/overwrite_rwest.gif)\n",
    "\n",
    "Even though we deleted the cell where we assigned `x = 7`, the assignment is still valid.  In fact, the assignment will remain valid until we explicitly execute a cell that sets x equal to a new value, or until we completely restart this Jupyter Notebook instance.\n",
    "\n",
    "If you move cells around or execute them in a nosequential order, you might confuse yourself (and others). To start again and clear things up, use the <i class=\"fa-repeat fa\"></i> button or the Kernel menu to clear outputs and restart the kernel, then choose \"Run All\" from the Cell menu."
   ]
  },
  {
   "cell_type": "markdown",
   "metadata": {},
   "source": [
    "### Basic Arithmetic\n",
    "\n",
    "Python can easily perform basic arithmetic operations.\n",
    "\n",
    "Using Python is as simple as $1+1$:"
   ]
  },
  {
   "cell_type": "code",
   "execution_count": 11,
   "metadata": {
    "collapsed": false
   },
   "outputs": [
    {
     "data": {
      "text/plain": [
       "2"
      ]
     },
     "execution_count": 11,
     "metadata": {},
     "output_type": "execute_result"
    }
   ],
   "source": [
    "1+1"
   ]
  },
  {
   "cell_type": "markdown",
   "metadata": {},
   "source": [
    "You can also assign numbers to variables:"
   ]
  },
  {
   "cell_type": "code",
   "execution_count": 70,
   "metadata": {
    "collapsed": false
   },
   "outputs": [
    {
     "name": "stdout",
     "output_type": "stream",
     "text": [
      "x + y =  7\n",
      "x * y =  12\n",
      "x ^ y =  81\n",
      "x / y =  0.75\n"
     ]
    }
   ],
   "source": [
    "x = 3\n",
    "y = 4\n",
    "print(\"x + y = \", x + y)\n",
    "print (\"x * y = \", x*y)\n",
    "print (\"x ^ y = \", x**y )\n",
    "print (\"x / y = \", x/y)  "
   ]
  },
  {
   "cell_type": "markdown",
   "metadata": {},
   "source": [
    "More advanced functions require a numerical computation library called NumPy. When using functions in the numpy library, you must first import the library and use the prefix \n",
    "\n",
    "```Python\n",
    "np.\n",
    "```\n",
    "\n",
    "before each function. For example, here's how to print the value of $\\cos(\\pi)$ and $\\sin\\big(\\frac{\\pi}{2}\\big)$:"
   ]
  },
  {
   "cell_type": "code",
   "execution_count": 10,
   "metadata": {
    "collapsed": false
   },
   "outputs": [
    {
     "name": "stdout",
     "output_type": "stream",
     "text": [
      "-1.0\n",
      "1.0\n"
     ]
    }
   ],
   "source": [
    "import numpy as np\n",
    "\n",
    "x = np.pi\n",
    "print (np.cos(x))\n",
    "print (np.sin(0.5*x))"
   ]
  },
  {
   "cell_type": "markdown",
   "metadata": {},
   "source": [
    "## Markdown Math\n",
    "Markdown can be used to render nice $\\LaTeX$-styled equations. For example, here's the Thiele modulus: $\\Phi=\\frac{R}{3}\\sqrt{\\frac{V_\\text{M}}{K_M\\cdot D_eff}}$.\n",
    "\n",
    "To write equations in Markdown, first make sure you change your cell type to **Markdown** instead of Code.\n",
    "\n",
    "* For inline math, wrap LaTeX inside single dollar signs: `$...$`\n",
    "* For single-line rendering, wrap LaTeX inside double dollar signs: `$$...$$`\n",
    "\n",
    "For example:\n",
    "\n",
    "```\n",
    "$$\n",
    "f'(a) = \\lim_{x \\to a} \\frac{f(x) - f(a)}{x - a}\n",
    "$$\n",
    "```\n",
    "\n",
    "Would render as:\n",
    "\n",
    "$$\n",
    "f'(a) = \\lim_{x \\to a} \\frac{f(x) - f(a)}{x - a}\n",
    "$$\n",
    "\n",
    "\n",
    "![](../figures/Module 0/equation.gif)"
   ]
  },
  {
   "cell_type": "markdown",
   "metadata": {
    "collapsed": true
   },
   "source": [
    "## Using Lists\n",
    "Lists are a very useful way of organizing data in Python. If you can recall from APSC160, an array is a collection of similar data elements. Lists in Python are very similar to arrays in C. \n",
    "\n",
    "Here are some examples:"
   ]
  },
  {
   "cell_type": "code",
   "execution_count": 13,
   "metadata": {
    "collapsed": false
   },
   "outputs": [
    {
     "name": "stdout",
     "output_type": "stream",
     "text": [
      "[2, 4, 6, 8]\n"
     ]
    }
   ],
   "source": [
    "my_numbers = [2, 4, 6, 8]\n",
    "print(my_numbers)"
   ]
  },
  {
   "cell_type": "markdown",
   "metadata": {},
   "source": [
    "Concatenation is combing two lists together. This is done by using **```+```** operation."
   ]
  },
  {
   "cell_type": "code",
   "execution_count": 14,
   "metadata": {
    "collapsed": false
   },
   "outputs": [
    {
     "name": "stdout",
     "output_type": "stream",
     "text": [
      "[2, 4, 6, 8, 10, 12, 14]\n"
     ]
    }
   ],
   "source": [
    "a = [2, 4, 6, 8]\n",
    "b = [10, 12, 14]\n",
    "\n",
    "print(a + b)"
   ]
  },
  {
   "cell_type": "markdown",
   "metadata": {},
   "source": [
    "You will commonly need to sum your list. This is simply done using \n",
    "\n",
    "```Python\n",
    "np.sum(list)\n",
    "```"
   ]
  },
  {
   "cell_type": "code",
   "execution_count": 15,
   "metadata": {
    "collapsed": false
   },
   "outputs": [
    {
     "name": "stdout",
     "output_type": "stream",
     "text": [
      "56\n"
     ]
    }
   ],
   "source": [
    "print(np.sum(a + b))"
   ]
  },
  {
   "cell_type": "markdown",
   "metadata": {},
   "source": [
    "For loops can also be used in Python to iterate over a list. For loops work by first typing **```for```**, then the variable or list your iterating over, then **```in```**, then the length or list that you want to iterate until. A **```:```** is used to signify the start of the for loop and everything that is in the for loop needs to be indented. Here are two examples:"
   ]
  },
  {
   "cell_type": "code",
   "execution_count": 24,
   "metadata": {
    "collapsed": false
   },
   "outputs": [
    {
     "name": "stdout",
     "output_type": "stream",
     "text": [
      "a = 2 a^2 = 4\n",
      "a = 4 a^2 = 16\n",
      "a = 5 a^2 = 25\n",
      "a = 6 a^2 = 36\n",
      "a = 8 a^2 = 64\n"
     ]
    }
   ],
   "source": [
    "a = [2, 4, 5, 6, 8]\n",
    "for i in a:\n",
    "    print(\"a =\", i, \"a^2 =\", i**2)"
   ]
  },
  {
   "cell_type": "code",
   "execution_count": 76,
   "metadata": {
    "collapsed": false
   },
   "outputs": [
    {
     "name": "stdout",
     "output_type": "stream",
     "text": [
      "b = 10 b^2 = 100\n",
      "b = 12 b^2 = 144\n",
      "b = 14 b^2 = 196\n"
     ]
    }
   ],
   "source": [
    "b = [10, 12, 14]\n",
    "for i in b:\n",
    "    print(\"b =\", i, \"b^2 =\", i**2)"
   ]
  },
  {
   "cell_type": "markdown",
   "metadata": {},
   "source": [
    "As you can see in both examples, **```i```** iterated through **```a```** in the first example and **```b```** in the second example. \n",
    "\n",
    "In Python, instead of writing a for loop, we can also use [List Comprehension](http://www.secnetix.de/olli/Python/list_comprehensions.hawk) to perform operations on elements in a list:"
   ]
  },
  {
   "cell_type": "code",
   "execution_count": 23,
   "metadata": {
    "collapsed": false
   },
   "outputs": [
    {
     "name": "stdout",
     "output_type": "stream",
     "text": [
      "[4, 16, 36, 64]\n"
     ]
    }
   ],
   "source": [
    "# Using list comprehension to square numbers in list a\n",
    "a_squared = [x**2 for x in a]\n",
    "print(a_squared)"
   ]
  },
  {
   "cell_type": "code",
   "execution_count": 26,
   "metadata": {
    "collapsed": false
   },
   "outputs": [
    {
     "name": "stdout",
     "output_type": "stream",
     "text": [
      "[2, 4, 6, 8]\n"
     ]
    }
   ],
   "source": [
    "# Using list comprehension to return only even numbers in list a\n",
    "a_squared = [x for x in a if (x % 2 == 0)]\n",
    "print(a_squared)"
   ]
  },
  {
   "cell_type": "markdown",
   "metadata": {},
   "source": [
    "## Using Dictionaries\n",
    "Dictionaries are similar to a list but a bit more complex. They work by having key-value pairs. It is common to have the key as a string and numbers as the values. \n",
    "\n",
    "They are useful for storing and retrieving data. Here is an example of atoms and the number of protons associated with that atom:"
   ]
  },
  {
   "cell_type": "code",
   "execution_count": 20,
   "metadata": {
    "collapsed": false
   },
   "outputs": [
    {
     "name": "stdout",
     "output_type": "stream",
     "text": [
      "{'Pb': 72, 'H': 1, 'F': 9, 'C': 6, 'Fe': 26}\n"
     ]
    }
   ],
   "source": [
    "number_of_protons = {'Pb' : 72,'H' : 1, 'F' : 9,'C' : 6, 'Fe' : 26}\n",
    "print(number_of_protons)"
   ]
  },
  {
   "cell_type": "markdown",
   "metadata": {},
   "source": [
    "It seems we have made a mistake with the number of protons lead has. It should be 82 instead of 72. Rather than rewriting the whole dictionary, we can change a single key's value. "
   ]
  },
  {
   "cell_type": "code",
   "execution_count": 21,
   "metadata": {
    "collapsed": false
   },
   "outputs": [
    {
     "name": "stdout",
     "output_type": "stream",
     "text": [
      "{'Pb': 82, 'H': 1, 'F': 9, 'C': 6, 'Fe': 26}\n"
     ]
    }
   ],
   "source": [
    "number_of_protons['Pb'] = 82\n",
    "print(number_of_protons)"
   ]
  },
  {
   "cell_type": "markdown",
   "metadata": {},
   "source": [
    "Now that the dictionary is fixed, let's add another atom, Radon."
   ]
  },
  {
   "cell_type": "code",
   "execution_count": 22,
   "metadata": {
    "collapsed": false
   },
   "outputs": [
    {
     "name": "stdout",
     "output_type": "stream",
     "text": [
      "{'Pb': 82, 'H': 1, 'F': 9, 'C': 6, 'Fe': 26, 'Rn': 86}\n"
     ]
    }
   ],
   "source": [
    "number_of_protons['Rn'] = 86\n",
    "print(number_of_protons)"
   ]
  },
  {
   "cell_type": "markdown",
   "metadata": {},
   "source": [
    "Now let's output the result using the a for loop."
   ]
  },
  {
   "cell_type": "code",
   "execution_count": 80,
   "metadata": {
    "collapsed": false
   },
   "outputs": [
    {
     "name": "stdout",
     "output_type": "stream",
     "text": [
      "The number of protons in Pb is 82.00  \n",
      "The number of protons in H is 1.00   \n",
      "The number of protons in F is 9.00   \n",
      "The number of protons in C is 6.00   \n",
      "The number of protons in Fe is 26.00  \n",
      "The number of protons in Rn is 86.00  \n"
     ]
    }
   ],
   "source": [
    "for atoms in number_of_protons.keys():\n",
    "    print(\"The number of protons in {:<s} is {:<7.2f}\".format(atoms,number_of_protons[atoms]))"
   ]
  },
  {
   "cell_type": "markdown",
   "metadata": {},
   "source": [
    "Since the list looks random, let's sort it by value."
   ]
  },
  {
   "cell_type": "code",
   "execution_count": 81,
   "metadata": {
    "collapsed": false
   },
   "outputs": [
    {
     "name": "stdout",
     "output_type": "stream",
     "text": [
      "The number of protons in H is 1.00   \n",
      "The number of protons in C is 6.00   \n",
      "The number of protons in F is 9.00   \n",
      "The number of protons in Fe is 26.00  \n",
      "The number of protons in Pb is 82.00  \n",
      "The number of protons in Rn is 86.00  \n"
     ]
    }
   ],
   "source": [
    "for atoms in sorted(number_of_protons, key = number_of_protons.get):\n",
    "    print(\"The number of protons in {:<s} is {:<7.2f}\".format(atoms,number_of_protons[atoms]))"
   ]
  },
  {
   "cell_type": "markdown",
   "metadata": {},
   "source": [
    "## Plotting with Python\n",
    "To plot in Python, we need to import the `matplotlib.pyplot` library. This alows Python plotting functionality similar to MATLAB. Here are some examples:"
   ]
  },
  {
   "cell_type": "code",
   "execution_count": 82,
   "metadata": {
    "collapsed": false
   },
   "outputs": [
    {
     "data": {
      "image/png": "[encoded data removed]",
      "text/plain": [
       "<matplotlib.figure.Figure at 0x265d00bfe48>"
      ]
     },
     "metadata": {},
     "output_type": "display_data"
    }
   ],
   "source": [
    "import matplotlib.pyplot as plt\n",
    "import numpy as np\n",
    "%matplotlib inline\n",
    "\n",
    "x = np.linspace(0.01,2)\n",
    "y = np.exp(x)\n",
    "z = np.log(x)\n",
    "\n",
    "plt.plot(x, y, 'b', x, z, 'r')\n",
    "plt.xlabel('x');\n",
    "plt.ylabel('f(x)');\n",
    "plt.title('Plotting e^(x) and ln(x)')\n",
    "plt.legend(['e^(x)','ln(x)'])\n",
    "plt.grid()"
   ]
  },
  {
   "cell_type": "code",
   "execution_count": 83,
   "metadata": {
    "collapsed": false
   },
   "outputs": [
    {
     "data": {
      "text/plain": [
       "(-0.050000000000000003, 1.05, -0.049999999999999933, 1.05)"
      ]
     },
     "execution_count": 83,
     "metadata": {},
     "output_type": "execute_result"
    },
    {
     "data": {
      "image/png": "[encoded data removed]",
      "text/plain": [
       "<matplotlib.figure.Figure at 0x265d0a629b0>"
      ]
     },
     "metadata": {},
     "output_type": "display_data"
    }
   ],
   "source": [
    "x = np.linspace(0,np.pi/2)\n",
    "a = np.sin(x)\n",
    "b = np.cos(x)\n",
    "plt.plot(a,b)\n",
    "plt.axis('equal')"
   ]
  },
  {
   "cell_type": "code",
   "execution_count": 84,
   "metadata": {
    "collapsed": false
   },
   "outputs": [
    {
     "data": {
      "text/plain": [
       "(-0.049974310810034395,\n",
       " 1.0494605270107222,\n",
       " -1.1000000000000001,\n",
       " 1.1000000000000001)"
      ]
     },
     "execution_count": 84,
     "metadata": {},
     "output_type": "execute_result"
    },
    {
     "data": {
      "image/png": "[encoded data removed]",
      "text/plain": [
       "<matplotlib.figure.Figure at 0x265d014bfd0>"
      ]
     },
     "metadata": {},
     "output_type": "display_data"
    }
   ],
   "source": [
    "x = np.linspace(0,np.pi)\n",
    "a = np.sin(x)\n",
    "b = np.cos(x)\n",
    "plt.plot(a,b)\n",
    "plt.axis('equal')"
   ]
  },
  {
   "cell_type": "code",
   "execution_count": 85,
   "metadata": {
    "collapsed": false
   },
   "outputs": [
    {
     "data": {
      "text/plain": [
       "(-1.0994348378207568,\n",
       " 1.0994348378207568,\n",
       " -1.0978426623878532,\n",
       " 1.0998972696375169)"
      ]
     },
     "execution_count": 85,
     "metadata": {},
     "output_type": "execute_result"
    },
    {
     "data": {
      "image/png": "[encoded data removed]",
      "text/plain": [
       "<matplotlib.figure.Figure at 0x265d0bb5198>"
      ]
     },
     "metadata": {},
     "output_type": "display_data"
    }
   ],
   "source": [
    "x = np.linspace(0,2*np.pi)\n",
    "a = np.sin(x)\n",
    "b = np.cos(x)\n",
    "plt.plot(a,b)\n",
    "plt.axis('equal')"
   ]
  },
  {
   "cell_type": "code",
   "execution_count": 86,
   "metadata": {
    "collapsed": false
   },
   "outputs": [
    {
     "data": {
      "text/plain": [
       "<matplotlib.text.Text at 0x265d1318a58>"
      ]
     },
     "execution_count": 86,
     "metadata": {},
     "output_type": "execute_result"
    },
    {
     "data": {
      "image/png": "[encoded data removed]",
      "text/plain": [
       "<matplotlib.figure.Figure at 0x265d1133160>"
      ]
     },
     "metadata": {},
     "output_type": "display_data"
    }
   ],
   "source": [
    "x = np.linspace(0.01,2)\n",
    "plt.subplot(2,1,1)\n",
    "plt.plot(x,y)\n",
    "plt.title('e^(x)')\n",
    "\n",
    "plt.subplot(2,1,2)\n",
    "plt.plot(x,z)\n",
    "plt.title('ln(x)')"
   ]
  },
  {
   "cell_type": "markdown",
   "metadata": {},
   "source": [
    "## Solving Equations\n",
    "One of the best features of Python is its massive amounts of libraries to extend its functionallity. Here is an example of solving some algebraic equations using the **`sympy`** library."
   ]
  },
  {
   "cell_type": "code",
   "execution_count": 87,
   "metadata": {
    "collapsed": false
   },
   "outputs": [
    {
     "name": "stdout",
     "output_type": "stream",
     "text": [
      "5605.67293/V\n",
      "5605.67293/P\n",
      "46327.8754545455\n"
     ]
    }
   ],
   "source": [
    "import sympy as sym\n",
    "\n",
    "sym.var('P V n R T');\n",
    "\n",
    "# Gas constant\n",
    "R = 8.314      #J/K*mol\n",
    "\n",
    "#Moles of Helium\n",
    "n = 2.3        #Moles\n",
    "\n",
    "#Temperature\n",
    "T = 293.15     #Kelvin\n",
    "\n",
    "#Equation\n",
    "eqn = sym.Eq(P*V,n*R*T)\n",
    "\n",
    "#Solve for P\n",
    "f1 = sym.solve(eqn,P)\n",
    "print(f1[0])\n",
    "\n",
    "#Solve for V\n",
    "f2 = sym.solve(eqn,V)\n",
    "print(f2[0])\n",
    "\n",
    "#Give value for V\n",
    "V = 0.121\n",
    "eqn = sym.Eq(P*V,n*R*T)\n",
    "\n",
    "#Solve for P again\n",
    "f3 = sym.solve(eqn,P)\n",
    "print(f3[0])"
   ]
  },
  {
   "cell_type": "markdown",
   "metadata": {
    "collapsed": true
   },
   "source": [
    "<hr>\n",
    "### Credits\n",
    "\n",
    "This notebook uses material from the following sources:\n",
    "\n",
    "- https://github.com/rwest/CHME4510/\n",
    "- https://github.com/jckantor/CBE20255\n",
    "- https://github.com/patrickwalls/arc-summer-school/"
   ]
  }
 ],
 "metadata": {
  "kernelspec": {
   "display_name": "Python 3",
   "language": "python",
   "name": "python3"
  },
  "language_info": {
   "codemirror_mode": {
    "name": "ipython",
    "version": 3
   },
   "file_extension": ".py",
   "mimetype": "text/x-python",
   "name": "python",
   "nbconvert_exporter": "python",
   "pygments_lexer": "ipython3",
   "version": "3.6.0"
  }
 },
 "nbformat": 4,
 "nbformat_minor": 2
}
