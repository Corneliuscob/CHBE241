{
 "cells": [
  {
   "cell_type": "markdown",
   "metadata": {},
   "source": [
    "# Introduction\n",
    "\n",
    "Welcome to CHBE 241 Material and Energy Balances. In this course, we will use Jupyter notebooks to illustrate how to use modern, open-source software tools for chemical engineering applications.\n",
    "\n",
    "# Jupyter Notebooks\n",
    "Jupyter notebooks are documents that contain live code, equations, visualizations and explanatory text. These notebooks can be easily shared and viewed in any modern web browser. To execute code in a Jupyter notebook, you will need access to Jupyter notebook server. We will use the UBC [Syzygy](https://ubc.syzygy.ca/) server for this course.\n",
    "\n",
    "## Setting up Jupyter on [Syzygy](https://ubc.syzygy.ca/)\n",
    " 1. Go to the Syzygy service in the link above \n",
    " 2. Sign in to Syzygy with your CWL login \n",
    " 3. Click \"Start My Server\" and the Jupyter interface will open\n",
    " 4. Click on File > New Notebook > Python 3 \n",
    " 5. Copy and paste this command into the blank space: **`!bash git clone https://github.com/UBCEnvision/CHBE241`**\n",
    " 6. Press **`\"Shift+Enter\"`** and wait for the command to finish loading\n",
    " 7. Click on File > Open and you should see a folder called CHBE241 which contains the course materials\n",
    " \n",
    "## The Jupyter notebook interface\n",
    "A notebook consists of **cells** that contain either **text** or **code**. In this course, we will be using Python as our programming language. Cells that contain text are known as **markdown** cells, and they can support formatted text, images, HTML and equations written in $ \\LaTeX $.\n",
    "\n",
    "Let's take a few minutes to familiarize ourselves with Jupyter. The Jupyter interface is very user-friendly and the best way to learn is to explore by clicking on different buttons. Try doing the following:\n",
    "\n",
    "1. Take a look at the course materials and observe the different folders and files\n",
    "2. Create a new Python 3 notebook \n",
    "3. Rename the notebook and save it\n",
    "\n",
    "Jupyter notebooks have a `.ipynb` extension with a notebook icon beside the filename."
   ]
  },
  {
   "cell_type": "markdown",
   "metadata": {},
   "source": [
    "## Your First Python Code\n",
    "In the empty code cell below, type in `print(\"Hello World\")` then press `Shift+Enter` and take a look at your output. Shift+Enter is a shortcut to run code is in the current cell. You can also click on Cell > Run Cells in the top menu to execute your code."
   ]
  },
  {
   "cell_type": "code",
   "execution_count": null,
   "metadata": {
    "collapsed": true
   },
   "outputs": [],
   "source": []
  },
  {
   "cell_type": "markdown",
   "metadata": {},
   "source": [
    "To switch between markdown and code cells, you can click on a cell then use the dropdown menu in the toolbar above."
   ]
  },
  {
   "cell_type": "code",
   "execution_count": null,
   "metadata": {
    "collapsed": true
   },
   "outputs": [],
   "source": []
  }
 ],
 "metadata": {
  "kernelspec": {
   "display_name": "Python 3",
   "language": "python",
   "name": "python3"
  },
  "language_info": {
   "codemirror_mode": {
    "name": "ipython",
    "version": 3
   },
   "file_extension": ".py",
   "mimetype": "text/x-python",
   "name": "python",
   "nbconvert_exporter": "python",
   "pygments_lexer": "ipython3",
   "version": "3.6.1"
  }
 },
 "nbformat": 4,
 "nbformat_minor": 2
}
