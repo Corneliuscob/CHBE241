{
 "cells": [
  {
   "cell_type": "markdown",
   "metadata": {},
   "source": [
    "# Mixer"
   ]
  },
  {
   "cell_type": "markdown",
   "metadata": {},
   "source": [
    "## Introduction\n",
    "In a process, a mixer is a unit operation that attempts to make a **heterogeneous** system into a **homogenous** system. Examples include scrambling eggs, mixing sugar and cream into coffee, and a Continuous Stirred-Tank Reactor used in water treatment. A mixer allows heat and/or mass transfer to occur between one or more streams. \n",
    "\n",
    "![](../figures/Module-1/Mixer.png)\n"
   ]
  },
  {
   "cell_type": "markdown",
   "metadata": {},
   "source": [
    "## Overview"
   ]
  },
  {
   "cell_type": "markdown",
   "metadata": {},
   "source": [
    "### Forms of Mixing\n",
    "\n",
    "* **Liquid-Liquid Mixing**\n",
    "    * Liquid-Liquid mixing is one of the most common forms of mixing in a process. As the name suggest this is the process of mixing one liquid with another. An example is the cream in your coffee\n",
    "    \n",
    "    \n",
    "* **Gas-Gas Mixing**\n",
    "    * Gas-Gas mixing, also called gas blending, is the process of mixing gases. An example is in scuba diving tanks. To prevent the bends, non-air breathing gases are added to dilute the oxygen.\n",
    "    \n",
    "    \n",
    "* **Solid-Solid Mixing**\n",
    "    * Solid-Solid mixing is one of the oldest unit operations in the process industry and involves the mixing of a solid with another solid. An example is in pharmaceuticals industry where powders are mixed together to dilute a drug.\n",
    "    \n",
    "    \n",
    "* **Liquid-Solid Mixing**\n",
    "    * Liquid-Solid mixing is the act of mixing a solid and a liquid. An example of this would be mixing sugar into your coffee.\n",
    "    \n",
    "    \n",
    "* **Liquid-Gas Mixing**\n",
    "    * Liquid-Gas mixing is the act of mixing a Gas and a liquid. An example of this would be mixing $ C O_2 $ in soda to carbonate the liquid.\n",
    "    \n",
    "    \n",
    "* **Gas-Solid Mixing**\n",
    "    * Gas-Solid mixing is the act of mixing a Gas and a Solid. This process is not very common. An example is sifting flour.\n",
    "    \n"
   ]
  },
  {
   "cell_type": "markdown",
   "metadata": {},
   "source": [
    "### Laboratory mixing\n",
    "In your CHBE 262 laboratory class you will see two main types of mixers. The first being magnetic stirrers where a magnet is inserted into your solution and the solution is placed on an apparatus and is left to mix. The second being a Continuous Stirred-Tank Reactor for water pollution treatment.\n",
    "\n",
    "![](../figures/Module-1/Mag-stir.png)"
   ]
  },
  {
   "cell_type": "markdown",
   "metadata": {},
   "source": [
    "## Problem Statement "
   ]
  },
  {
   "cell_type": "markdown",
   "metadata": {},
   "source": [
    "## Works Cited\n",
    "\n",
    "https://en.wikipedia.org/wiki/Mixing_(process_engineering)#Basic_Nomenclature\n",
    "http://www.labdepotinc.com/admin/uploads/flatspin-stirrer-86352003.png"
   ]
  },
  {
   "cell_type": "code",
   "execution_count": null,
   "metadata": {
    "collapsed": true
   },
   "outputs": [],
   "source": []
  }
 ],
 "metadata": {
  "kernelspec": {
   "display_name": "Python 3",
   "language": "python",
   "name": "python3"
  },
  "language_info": {
   "codemirror_mode": {
    "name": "ipython",
    "version": 3
   },
   "file_extension": ".py",
   "mimetype": "text/x-python",
   "name": "python",
   "nbconvert_exporter": "python",
   "pygments_lexer": "ipython3",
   "version": "3.6.1"
  }
 },
 "nbformat": 4,
 "nbformat_minor": 2
}
