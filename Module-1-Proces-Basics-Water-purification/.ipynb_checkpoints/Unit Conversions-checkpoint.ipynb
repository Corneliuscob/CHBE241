{
 "cells": [
  {
   "cell_type": "markdown",
   "metadata": {},
   "source": [
    "# Unit Conversions"
   ]
  },
  {
   "cell_type": "markdown",
   "metadata": {},
   "source": [
    "## Conversion Factors"
   ]
  },
  {
   "cell_type": "markdown",
   "metadata": {},
   "source": [
    "Conversion factors are ratios between two expressions of the same quantity. For an example:"
   ]
  },
  {
   "cell_type": "markdown",
   "metadata": {},
   "source": [
    "$$ \\frac{1 cm}{10 mm} \\quad \\text{(1 centimeter per 10 millimeters)} $$\n",
    "\n",
    "or\n",
    "\n",
    "$$ \\frac{1 kg^2}{1,000,000 g^2} \\quad \\text{(1 kilogram squared per 1,000,000 grams squared)} $$\n",
    "\n",
    "or\n",
    "\n",
    "$$ \\frac{1 m^3}{1,000,000,000 mm^3} \\quad \\text{(1 cubic meter per 1,000,000,000 cubic millimeters)} $$"
   ]
  },
  {
   "cell_type": "markdown",
   "metadata": {},
   "source": [
    "## Converting Units"
   ]
  },
  {
   "cell_type": "markdown",
   "metadata": {},
   "source": [
    "To convert a quantity from one unit to its equiviling of another unit, we will use conversion factors. For example, if we want to convert 7.2 km to meters, we would write:"
   ]
  },
  {
   "cell_type": "markdown",
   "metadata": {},
   "source": [
    "$$ 7.2 km \\times \\frac{1,000 m}{1 km} = 7,200 m  $$\n",
    "\n",
    "As you can see, the original unit is km, the final unit is m, and the conversion factor is $ \\frac{1,000m}{1km} $."
   ]
  },
  {
   "cell_type": "markdown",
   "metadata": {
    "collapsed": true
   },
   "source": [
    "## Problem Statement"
   ]
  },
  {
   "cell_type": "markdown",
   "metadata": {
    "collapsed": true
   },
   "source": [
    "### Question\n",
    "Suppose the average house uses 342 gallons of water per day. How many $cm^3$ of water per second is used on average? What where your conversion factors"
   ]
  },
  {
   "cell_type": "markdown",
   "metadata": {},
   "source": [
    "### Answer"
   ]
  },
  {
   "cell_type": "code",
   "execution_count": 1,
   "metadata": {},
   "outputs": [
    {
     "name": "stdout",
     "output_type": "stream",
     "text": [
      "The average how uses 14.983914583333332 cm^3/s\n"
     ]
    }
   ],
   "source": [
    "water_use = 342 # gallons/day\n",
    "\n",
    "seconds_per_day = 86400 # s/day\n",
    "litres_per_gallon = 3.78541 # l/gallon\n",
    "cub_m_per_litre = 0.001 # m^3/l\n",
    "cub_c_per_cub_m = 1000000 # cm^3/m^3\n",
    "\n",
    "water_use_1 = water_use*litres_per_gallon*cub_m_per_litre*cub_c_per_cub_m/seconds_per_day\n",
    "\n",
    "print(\"The average how uses\",water_use_1,\"cm^3/s\")"
   ]
  },
  {
   "cell_type": "markdown",
   "metadata": {},
   "source": [
    "The conversion factors are:\n",
    "$$ \\frac{86400s}{1 day}$$\n",
    "\n",
    "$$ \\frac{3.78541 litre}{1 gallon}$$\n",
    "\n",
    "$$ \\frac{0.001 m^3}{1 litre}$$\n",
    "\n",
    "$$ \\frac{1,000,000 cm^3}{1 m^3}$$"
   ]
  },
  {
   "cell_type": "code",
   "execution_count": null,
   "metadata": {
    "collapsed": true
   },
   "outputs": [],
   "source": []
  }
 ],
 "metadata": {
  "kernelspec": {
   "display_name": "Python 3",
   "language": "python",
   "name": "python3"
  },
  "language_info": {
   "codemirror_mode": {
    "name": "ipython",
    "version": 3
   },
   "file_extension": ".py",
   "mimetype": "text/x-python",
   "name": "python",
   "nbconvert_exporter": "python",
   "pygments_lexer": "ipython3",
   "version": "3.6.1"
  }
 },
 "nbformat": 4,
 "nbformat_minor": 2
}
