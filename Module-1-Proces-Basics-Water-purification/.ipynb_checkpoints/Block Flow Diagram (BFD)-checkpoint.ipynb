{
 "cells": [
  {
   "cell_type": "markdown",
   "metadata": {},
   "source": [
    "# Block Flow Diagram (BFD)"
   ]
  },
  {
   "cell_type": "markdown",
   "metadata": {},
   "source": [
    "## Introduction\n",
    "Block flow diagrams (BFD) are the first step in designing a chemical process. A BFD is the simplest form of flow diagrams used in industry. The blocks in a BFD can represent anything from a single piece of equipment to an entire plant."
   ]
  },
  {
   "cell_type": "markdown",
   "metadata": {},
   "source": [
    "## Overview"
   ]
  },
  {
   "cell_type": "markdown",
   "metadata": {},
   "source": [
    "### Input-Output Diagrams\n",
    "Input-output diagrams are the simplest form of BFD. The diagram consists of input arrows, one block for the complete process, and output arrows. For example:\n",
    "\n",
    "![](../figures/Module-1/Input-Output_Diagrams.jpg)"
   ]
  },
  {
   "cell_type": "markdown",
   "metadata": {},
   "source": [
    "### Process Flow Diagrams\n",
    "Process Flow Diagrams are what we will mainly focus on later in the course. This model focuses on a particular section, sections, or a whole chemical plant. This model is also much more detailed than an Input-Output Diagram. Each block can represent a specific step in the process. Here is an example of benzene production:\n",
    "\n",
    "![](../figures/Module-1/Benzene_prod_example.jpg)\n"
   ]
  },
  {
   "cell_type": "markdown",
   "metadata": {},
   "source": [
    "As you can see, there are two inputs, 10,000 kg/h of Toluene, and 820 kg/h of Hydrogen. There are also two outputs, 2,610 kg/h of Mixed Gas, and 8,210 kg/h of Benzene. In-between the outputs and inputs are the specific unit operations. This example may seem complicated but by the end of this course it will be a walk in the park."
   ]
  },
  {
   "cell_type": "markdown",
   "metadata": {},
   "source": [
    "## Works cited\n",
    "https://processdesign.mccormick.northwestern.edu/index.php/Block_Flow_Diagram"
   ]
  },
  {
   "cell_type": "code",
   "execution_count": null,
   "metadata": {
    "collapsed": true
   },
   "outputs": [],
   "source": []
  }
 ],
 "metadata": {
  "kernelspec": {
   "display_name": "Python 3",
   "language": "python",
   "name": "python3"
  },
  "language_info": {
   "codemirror_mode": {
    "name": "ipython",
    "version": 3
   },
   "file_extension": ".py",
   "mimetype": "text/x-python",
   "name": "python",
   "nbconvert_exporter": "python",
   "pygments_lexer": "ipython3",
   "version": "3.6.1"
  }
 },
 "nbformat": 4,
 "nbformat_minor": 2
}
