{
 "cells": [
  {
   "cell_type": "markdown",
   "metadata": {},
   "source": [
    "# Meeting July 21\n",
    "\n",
    "## Said \n",
    "\n",
    "### What I've done\n",
    "\n",
    "1. Finished Module 4 and 6.\n",
    "\n",
    "### Any challanges\n",
    "\n",
    "1. Having trouble formating the tables in 6.4 but Siang said he can help when he has time.\n",
    "2. Not sure where to put mixer in module 1.\n",
    "\n",
    "### Suggestion\n",
    "\n",
    "1. Should decide on standards, for example:\n",
    "    -numbering of sections and inside sections\n",
    "    -order of subsections eg. learning objectives, intorduction, overview\n",
    "    -Names of things eg. I call my topics inside modules sections while Victor calls them Notebooks"
   ]
  },
  {
   "cell_type": "code",
   "execution_count": null,
   "metadata": {
    "collapsed": true
   },
   "outputs": [],
   "source": []
  }
 ],
 "metadata": {
  "kernelspec": {
   "display_name": "Python 3",
   "language": "python",
   "name": "python3"
  },
  "language_info": {
   "codemirror_mode": {
    "name": "ipython",
    "version": 3
   },
   "file_extension": ".py",
   "mimetype": "text/x-python",
   "name": "python",
   "nbconvert_exporter": "python",
   "pygments_lexer": "ipython3",
   "version": "3.6.1"
  }
 },
 "nbformat": 4,
 "nbformat_minor": 2
}
