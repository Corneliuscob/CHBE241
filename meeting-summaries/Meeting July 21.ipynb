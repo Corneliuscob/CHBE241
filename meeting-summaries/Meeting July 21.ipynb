{
 "cells": [
  {
   "cell_type": "markdown",
   "metadata": {},
   "source": [
    "# Meeting July 21\n",
    "\n",
    "## Said \n",
    "\n",
    "### What I've done\n",
    "\n",
    "1. Finished Module 4 and 6.\n",
    "\n",
    "### Any challenges\n",
    "\n",
    "1. Having trouble formating the tables in 6.4 but Siang said he can help when he has time.\n",
    "2. Not sure where to put mixer in module 1.\n",
    "\n",
    "### Suggestion\n",
    "\n",
    "1. Should decide on standards, for example:\n",
    "    -numbering of sections and inside sections\n",
    "    -order of subsections eg. learning objectives, intorduction, overview\n",
    "    -Names of things eg. I call my topics inside modules sections while Victor calls them Notebooks"
   ]
  },
  {
   "cell_type": "markdown",
   "metadata": {
    "collapsed": true
   },
   "source": [
    "## Ngai To\n",
    "\n",
    "### What I've done\n",
    "\n",
    "1. Half finished  module 5 \n",
    "### Any challenges\n",
    "\n",
    "1. Want to put the thermo library in but there are no steam tabls. \n",
    "2. missing a conceptual question \n",
    "3. it seems like  is dependent on everything \n",
    "4. Thinking of a spray dryin question \n",
    "\n",
    "\n",
    "### Suggestion\n",
    "\n",
    "1. N/a"
   ]
  },
  {
   "cell_type": "code",
   "execution_count": null,
   "metadata": {
    "collapsed": true
   },
   "outputs": [],
   "source": []
  }
 ],
 "metadata": {
  "kernelspec": {
   "display_name": "Python 2",
   "language": "python",
   "name": "python2"
  },
  "language_info": {
   "codemirror_mode": {
    "name": "ipython",
    "version": 2
   },
   "file_extension": ".py",
   "mimetype": "text/x-python",
   "name": "python",
   "nbconvert_exporter": "python",
   "pygments_lexer": "ipython2",
   "version": "2.7.11"
  }
 },
 "nbformat": 4,
 "nbformat_minor": 2
}
