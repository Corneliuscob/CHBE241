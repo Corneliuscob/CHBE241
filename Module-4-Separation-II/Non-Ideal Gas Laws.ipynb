{
 "cells": [
  {
   "cell_type": "markdown",
   "metadata": {},
   "source": [
    "# Non-Ideal Gas Laws\n",
    "\n",
    "## Learning Objectives\n",
    "\n",
    "By the end of this section you should be able to:\n",
    "\n",
    "1. Understand why most gases dont behave ideally.\n",
    "2. Use the compressability factor.\n",
    "3. Use equations of the state for non-ideal gases.\n",
    "\n",
    "## Introduction\n",
    "\n",
    "Before this class you most likely have used the **ideal gas law**, $ P V = n R T $, but this equation of state is not very accurate in describing gases in the real world. This is because the **ideal gas law** assumes that gas particiles are infinitisemal points of mass and that these points of mass do not interact with each other. This is a major flaw in the ideal gas law and causes the ideal gas law to be close to the true when pressures are very low  and if the gases were noble gases, esspacially Helium.\n",
    "\n",
    "That is why equations of state for **non-ideal gases** are crucial for calculating how **real gases**. In this section we will focus on the **compressiblility factors** to correct the ideal gas law and the **viral equation**, the **Van der Walls equation**, and the **Soave-Redlich-Kwong equation**.\n",
    "\n",
    "## Overview\n",
    "\n",
    "### Compressability Factor\n",
    "\n",
    "The **compressibility factor** of a gas is defined as:\n",
    "\n",
    "$$ Z = \\frac{ P \\hat{V} }{R T} $$ \n",
    "\n",
    "When $ Z = 1 $, the gas behaves ideally. The amount $ Z $ differs from 1 is a measurement of how non-ideal the gas is.\n",
    "\n",
    "A method used to estimate Z, since every type of gas has diffrent Z factors at the same pressure and tempresure, is:\n",
    "\n",
    "1. Look up the **critical temperature**, $T_c$, and **critical pressure**, $P_c$, of the species.\n",
    "2. Calculate the **reduced temperature**, $T_r = \\frac{T}{T_c}$ and **reduced pressure**, $P_r = \\frac{P}{P_c}$.\n",
    "3. Look yp the values of Z on a **generalized compressibility chart**, which plots $Z$ versus $P_r$.\n",
    "\n",
    "This metbhod of estimating $Z$ is the empirical **law of corresponding states**."
   ]
  },
  {
   "cell_type": "code",
   "execution_count": null,
   "metadata": {
    "collapsed": true
   },
   "outputs": [],
   "source": []
  }
 ],
 "metadata": {
  "kernelspec": {
   "display_name": "Python 3",
   "language": "python",
   "name": "python3"
  },
  "language_info": {
   "codemirror_mode": {
    "name": "ipython",
    "version": 3
   },
   "file_extension": ".py",
   "mimetype": "text/x-python",
   "name": "python",
   "nbconvert_exporter": "python",
   "pygments_lexer": "ipython3",
   "version": "3.6.1"
  }
 },
 "nbformat": 4,
 "nbformat_minor": 2
}
