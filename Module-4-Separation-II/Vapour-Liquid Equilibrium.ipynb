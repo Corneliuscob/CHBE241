{
 "cells": [
  {
   "cell_type": "markdown",
   "metadata": {},
   "source": [
    "# Vapour-Liquid Equilibrium"
   ]
  },
  {
   "cell_type": "markdown",
   "metadata": {},
   "source": [
    "## Introduction\n",
    "\n",
    "Vapour-Liquid Equilibrium (VLE) occurs under certain circumstances where both a liquid and a vapour of a substance coexist. An example of this is half full jerrycan with gasoline. At the bottom half of the can, there is only liquid gasoline. At the top half, there is gasoline vapour. The vapour and liquid are at equilibrium, meaning that there is as much vapour becoming liquid as liquid becoming vapour."
   ]
  },
  {
   "cell_type": "markdown",
   "metadata": {},
   "source": [
    "## Overview\n",
    "\n",
    "### Vapour Pressure\n",
    "\n",
    "Vapour pressure is the pressure a vapour exerts with its solid or liquid at a given temperature at equilibrium. This means that vapour pressure is a good indication of a liquid's evaporation rate or a solid's sublimation rate.\n",
    "\n",
    "<img src=\"../figures/Module-4/Vapour_pressure.png\" style= \"height:400px\">\n",
    "\n",
    "### Antoine equation\n",
    "\n",
    "The **Antoine equation** is simple yet crucial equation the relates **vapour pressure** and **temperature**. The equation is:\n",
    "\n",
    "$$ \\log_{10} p^* = A - \\frac{B}{T + C} $$\n",
    "\n",
    "Where A, B, and C are constants that are given and\n",
    "\n",
    "$$ p^* = \\text{Vapour Pressure} $$\n",
    "\n",
    "$$ T = \\text{Temperature} $$\n",
    "\n",
    "### Raoult's Law and Henry's Law\n",
    "\n",
    "Raoult's Law and Henry's Law provide us with a relationship between the the partial pressure of a substance, $P_A$, in the gas phase and the mole fraction of the same substance, $x_A$, in the liquid phase. Raoult's law is generally valid when $x_A$ is close to 1, which means the liquid is almost pure A. Henry's Law is generaly valid when solutions of $x_A$ are close to 0.\n",
    "\n",
    "The expression for **Raoult's Law** is:\n",
    "\n",
    "$$ p_A \\equiv y_A P = x_A p_A^* (T) $$\n",
    "\n",
    "where\n",
    "\n",
    "$$ p_a = \\text{Is the partial pressure of substance A} $$\n",
    "\n",
    "$$ y_A = \\text{Is the mole fraction of substance A in the gas phase} $$\n",
    "\n",
    "$$ P = \\text{Is the pressure of the system} $$\n",
    "\n",
    "$$ x_A = \\text{Is the mole fraction of substance A in the liquid phase} $$\n",
    "\n",
    "$$ p_A^* (T) = \\text{Is the vapour pressure of pure liquid A at tempreture T} $$\n",
    "\n",
    "The expression for **Henry's Law** is:\n",
    "\n",
    "$$ p_A \\equiv y_A P = x_A H_A (T) $$\n",
    "\n",
    "where\n",
    "\n",
    "$$ p_a = \\text{Is the partial pressure of substance A} $$\n",
    "\n",
    "$$ y_A = \\text{Is the mole fraction of substance A in the gas phase} $$\n",
    "\n",
    "$$ P = \\text{Is the pressure of the system} $$\n",
    "\n",
    "$$ x_A = \\text{Is the mole fraction of substance A in the liquid phase} $$\n",
    "\n",
    "$$ H_A (T) = \\text{Is the the Henry's law constant for A in a specific solvent} $$\n",
    "\n",
    "### Saturation and Humidity\n",
    "\n",
    "The term saturation refers to any gas-vapour system. Humidity refers specifically to an air-water system. There are four main types of saturation and humidity:\n",
    "\n",
    "**Relative Saturation (Relative Humidity)**: \n",
    "\n",
    "$$ s_r (h_r) = \\frac{p_i}{p^*_i (T)} \\times 100 \\text{%} $$\n",
    "\n",
    "**Molal Saturation (Molal Humidity)**: \n",
    "\n",
    "$$ s_m (h_m) = \\frac{p_i}{P - p_i} $$\n",
    "\n",
    "**Absolute Saturation (Absolute Humidity)**: \n",
    "\n",
    "$$ s_a (h_a) = \\frac{p_i M_i}{(P - p_i) M_{dry}} $$\n",
    "\n",
    "**Relative Saturation (Relative Humidity)**: \n",
    "\n",
    "$$ s_p (h_p) = \\frac{s_m}{s^*_m} \\times 100 \\text{%} = \\frac{\\frac{p_i}{P - p_i}}{\\frac{p^*_i}{P - p^*_i}} \\times 100 \\text{%} $$\n",
    "\n",
    "### Bubble-Point and Dew-Point Temperatures\n",
    "\n",
    "The **bubble-point temperature** is the temperature at which the first vapour bubbles form when a liquid is heated slowly at given pressure. On the otherhand **dew-point temperature** is the temperature at which the first liquid droplets form when a vapour is cooled slowly at given pressure. Calculating the bubble-point and dew-point temperatures can be difficult but if the liquid and gas behave ideally, then the calculations are relatively straightforward.\n",
    "\n",
    "### Calculations for Bubble-Point and Dew-Point Pressure and Temperature\n",
    "\n",
    "Suppose we have an ideal liquid solution that follows Raoult's law and contains species A, B, C, ... with mole fractions $x_A$, $x_B$, $x_C$, .... If the mixture is heated at a constant pressure P to its **bubble-point temperature** $T_{bp}$, the partial pressures of the components are given by Raoult's:\n",
    "\n",
    "$$ p_i = x_i p_i^* (T_{bp}), \\quad i = \\text{A, B, C, ...}  $$ \n",
    "\n",
    "and the total pressure of the system is:\n",
    "\n",
    "$$ P = p_A + p_B + p_C + \\space ... \\space =  x_A p_A^* (T_{bp}) + x_B p_B^* (T_{bp}) + x_C p_C^* (T_{bp}) + \\space ... $$\n",
    "\n",
    "**Bubble-point pressure** is the pressure at which the first vapour forms when a liquid is decompressed at constant temperature. The mole fractions of the vapor can be determined by using the equation:\n",
    "\n",
    "$$y_i = \\frac{p_i}{P_{bp}} = \\frac{x_i p_i^* (T)}{P_{bp}} $$\n",
    "\n",
    "The **dew-point temperature** can be found using a similar method as to that of the **bubble-point temperature**. Suppose we have an ideal vapour the follows Raoult's law and contains species A, B, C, ... with mole fractions $x_A$, $x_B$, $x_C$, .... If the vapour is cooled slowly to its dew-point, $T_{dp}$, the mole fractions are given by the equation:\n",
    "\n",
    "$$ x_i = \\frac{y_i P}{p_i^* (T_{dp})}, \\quad i = \\text{A, B, C, ...} $$\n",
    "\n",
    "The **dew-point temperature** is the condensation of a vapour at an increasing pressure and constant pressure is given by the equation:\n",
    "\n",
    "$$ P_{dp} = \\frac{1}{\\frac{y_A P}{p_i^* (T_{dp})} + \\frac{y_B P}{p_i^* (T_{dp})} + \\frac{y_C P}{p_i^* (T_{dp})} + ...} $$"
   ]
  },
  {
   "cell_type": "markdown",
   "metadata": {
    "collapsed": true
   },
   "source": [
    "## Problem Statement"
   ]
  },
  {
   "cell_type": "markdown",
   "metadata": {
    "collapsed": true
   },
   "source": [
    "## Works Cited\n",
    "1. https://en.wikipedia.org/wiki/Vapor_pressure"
   ]
  },
  {
   "cell_type": "code",
   "execution_count": null,
   "metadata": {
    "collapsed": true
   },
   "outputs": [],
   "source": []
  }
 ],
 "metadata": {
  "kernelspec": {
   "display_name": "Python 3",
   "language": "python",
   "name": "python3"
  },
  "language_info": {
   "codemirror_mode": {
    "name": "ipython",
    "version": 3
   },
   "file_extension": ".py",
   "mimetype": "text/x-python",
   "name": "python",
   "nbconvert_exporter": "python",
   "pygments_lexer": "ipython3",
   "version": "3.6.1"
  }
 },
 "nbformat": 4,
 "nbformat_minor": 2
}
