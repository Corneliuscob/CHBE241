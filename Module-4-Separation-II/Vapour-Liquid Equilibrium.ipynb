{
 "cells": [
  {
   "cell_type": "markdown",
   "metadata": {},
   "source": [
    "# Vapour-Liquid Equilibrium"
   ]
  },
  {
   "cell_type": "markdown",
   "metadata": {},
   "source": [
    "## Introduction\n",
    "Vapour-Liquid Equilibrium (VLE) occurs under certain circumstances where both a liquid and a vapour of a substance coexist. An example of this is half full jerrycan with gasoline. At the bottom half of the can, there is only liquid gasoline. At the top half, there is gasoline vapour. The vapour and liquid are at equilibrium, meaning that there is as much vapour becoming liquid as liquid becoming vapour."
   ]
  },
  {
   "cell_type": "markdown",
   "metadata": {},
   "source": [
    "## Overview\n",
    "### Diffrence Between Vapour and Gas\n",
    "A substance is considered a gas when its temperature is **higher** than the critical tempreture and below the critical pressure. A gas can not become a liquid by just increasing the pressure, you must also lower the tempreture. \n",
    "A substance is considered a vapour when its temperature is **lower** than the critical tempreture and below the critical pressure. A vapour can become a liquid by just increasing the pressure."
   ]
  },
  {
   "cell_type": "code",
   "execution_count": null,
   "metadata": {
    "collapsed": true
   },
   "outputs": [],
   "source": []
  }
 ],
 "metadata": {
  "kernelspec": {
   "display_name": "Python 3",
   "language": "python",
   "name": "python3"
  },
  "language_info": {
   "codemirror_mode": {
    "name": "ipython",
    "version": 3
   },
   "file_extension": ".py",
   "mimetype": "text/x-python",
   "name": "python",
   "nbconvert_exporter": "python",
   "pygments_lexer": "ipython3",
   "version": "3.6.1"
  }
 },
 "nbformat": 4,
 "nbformat_minor": 2
}
