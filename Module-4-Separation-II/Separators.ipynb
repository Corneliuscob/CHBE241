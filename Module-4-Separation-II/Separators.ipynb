{
 "cells": [
  {
   "cell_type": "markdown",
   "metadata": {},
   "source": [
    "# Separators"
   ]
  },
  {
   "cell_type": "markdown",
   "metadata": {
    "collapsed": true
   },
   "source": [
    "## Introduction\n",
    "Separators convert a mixture of chemical substances into two or more distinct product mixtures. In some cases, separators may fully divide mixtures into its pure constituents."
   ]
  },
  {
   "cell_type": "markdown",
   "metadata": {},
   "source": [
    "## Overview\n",
    "### Distillation Columns\n",
    "Distillation columns are essential in the distillation of fluids. The fluids separate in a distillation column due the different volatilities of the mixture of fluids. Distillation columns are heavily used in the oil and gas industry. \n",
    "\n",
    "<img src = \"../figures/Module-4/DC.gif\" width = \"300\" height = \"700\" style=\"height:300px; float:left;\">\n",
    "\n",
    "<p style =\"width:40%; margin-left: 300px;margin-top:40px;\"> \n",
    "Here you can see how a distillation column separates crude oil into different products. Each level relates to the volatilities of the different mixtures in the crude oil.\n",
    "</p>\n",
    "<div style = \"clear:both\"></div>\n",
    "### Liquid-Liquid Extraction\n",
    "Liquid-Liquid Extraction is the separation of compounds based on their solubility’s. It is an extraction of a substance from one liquid to another."
   ]
  },
  {
   "cell_type": "code",
   "execution_count": null,
   "metadata": {
    "collapsed": true
   },
   "outputs": [],
   "source": []
  }
 ],
 "metadata": {
  "kernelspec": {
   "display_name": "Python 3",
   "language": "python",
   "name": "python3"
  },
  "language_info": {
   "codemirror_mode": {
    "name": "ipython",
    "version": 3
   },
   "file_extension": ".py",
   "mimetype": "text/x-python",
   "name": "python",
   "nbconvert_exporter": "python",
   "pygments_lexer": "ipython3",
   "version": "3.6.1"
  }
 },
 "nbformat": 4,
 "nbformat_minor": 2
}
