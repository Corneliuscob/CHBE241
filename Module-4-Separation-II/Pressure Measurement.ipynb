{
 "cells": [
  {
   "cell_type": "markdown",
   "metadata": {},
   "source": [
    "# Pressure Measurement"
   ]
  },
  {
   "cell_type": "markdown",
   "metadata": {},
   "source": [
    "## Learning Objectives\n",
    "\n",
    "By the end of this section you should be able to:\n",
    "\n",
    "1. Understand the difference between gauge and absolute pressure.\n",
    "2. Know the different ways pressure can be measured.\n",
    "\n",
    "## Introduction\n",
    "Pressure measurement is vital to any process. Measuring pressure can give you a lot of information about your system. We will go over different types of pressure, and ways to measure pressure.\n",
    "\n",
    "## Overview\n",
    "\n",
    "### Gauge vs. Absolute Pressure\n",
    "\n",
    "**Absolute pressure** is a measurement of pressure with a perfect vacuum as a reference point. This means that **absolute pressure** can never be negative. **Gauge pressure** is a measurement of pressure with the ambient air pressure (**atmospheric pressure**) as a reference point. This means that **gauge pressure** can be both negative and positive.\n",
    "\n",
    "A similar example to **gauge and absolute pressure** is Celsius and kelvin. Kelvin uses absolute zero as its reference point. This means that you can never have negative values of kelvin. Celsius uses the freezing point of water as its reference point. This means that Celsius can be both negative and positive.\n",
    "\n",
    "The equation used to relate gauge, atmospheric, and absolute pressure is:\n",
    "\n",
    "$$ P_{abs} = P_{gauge} + P_{atm} $$\n",
    "\n",
    "where\n",
    "\n",
    "$$ P_{abs} = \\text{Absolute pressure} $$\n",
    "\n",
    "$$ P_{gauge} = \\text{Gauge pressure} $$\n",
    "\n",
    "$$ P_{atm} = \\text{Atmospheric pressure} $$\n",
    "### Ways to measure pressure\n",
    "#### Manometers\n",
    "**Manometers** are one of the most common tools used to measure pressure. As specified in Module-1, they are simple to use and can give you instantaneous feedback on your system. There are three main types of manometers, open-end, differential, and sealed-end.\n",
    "\n",
    "![](../figures/Module-4/Types_of_Manometers.png)\n",
    "\n",
    "As you can see, **open-end manometers** have one end connected to a line or system and the other end open to the atmosphere. **Open-end manometers** measure **gauge pressure**. **Differential manometers** have each end connected to the same line and measure pressure drops. **Differential manometers** measure **differential pressure**. Finally, **sealed-end manometers** have the one end connected to a line or system and the other end closed to the near vacuum. **Sealed-end manometers** measure **absolute pressure**.\n",
    "\n",
    "#### Bourdon Gauges\n",
    "**Bourdon gauges** are the most common mechanical devices used to measure pressure. A bourdon gauge is a hollow metal tube that is closed at one end and bent into a C configuration. The open end is exposed to the fluid whose pressure is being measured. As the pressure increases, the tube tends to straighten to equalize the pressure in the tube. This straightening causes gears to turn which in turn will cause a pointer to rotate which will inform you on its pressure.\n",
    "\n",
    "<img src=\"../figures/Module-4/Bourdon_Gauge.png\" style = \"height:250px\">"
   ]
  },
  {
   "cell_type": "markdown",
   "metadata": {
    "collapsed": true
   },
   "source": [
    "## Problem Statement"
   ]
  },
  {
   "cell_type": "code",
   "execution_count": null,
   "metadata": {
    "collapsed": true
   },
   "outputs": [],
   "source": []
  }
 ],
 "metadata": {
  "kernelspec": {
   "display_name": "Python 3",
   "language": "python",
   "name": "python3"
  },
  "language_info": {
   "codemirror_mode": {
    "name": "ipython",
    "version": 3
   },
   "file_extension": ".py",
   "mimetype": "text/x-python",
   "name": "python",
   "nbconvert_exporter": "python",
   "pygments_lexer": "ipython3",
   "version": "3.6.1"
  }
 },
 "nbformat": 4,
 "nbformat_minor": 2
}
