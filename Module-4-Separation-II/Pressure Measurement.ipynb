{
 "cells": [
  {
   "cell_type": "markdown",
   "metadata": {},
   "source": [
    "# Pressure Measurement"
   ]
  },
  {
   "cell_type": "markdown",
   "metadata": {},
   "source": [
    "## Introduction"
   ]
  },
  {
   "cell_type": "markdown",
   "metadata": {},
   "source": [
    "## Overview\n",
    "### Gauge vs. Absolute Pressure\n",
    "**Absolute pressure** is a measurement of pressure with a perfect vacuum as a refrence point. This means that **absolute pressure** can never be negative. **Gauge pressure** is a measurement of pressure with the ambient air pressure (**atmosphiric pressure**) as a refrence point. This means that **gauge pressure** can be both negative and positive. A similar example to **gauge and absolute pressure** is celsius and kelvin. Kelvin uses absolute zero as its refrence point. This means that you can never have negative values of kelvin. Celsius uses the freezing point of water as its refrence point. This means that celsius can be both negative and positive.\n",
    "#### Equation\n",
    "$$ P_{abs} = P_{gauge} + P_{atm} $$\n",
    "\n",
    "where\n",
    "\n",
    "$$ P_{abs} = \\text{Absulute pressure} $$\n",
    "\n",
    "$$ P_{gauge} = \\text{Gauge pressure} $$\n",
    "\n",
    "$$ P_{atm} = \\text{Atmospheric pressure} $$"
   ]
  },
  {
   "cell_type": "code",
   "execution_count": null,
   "metadata": {
    "collapsed": true
   },
   "outputs": [],
   "source": []
  }
 ],
 "metadata": {
  "kernelspec": {
   "display_name": "Python 3",
   "language": "python",
   "name": "python3"
  },
  "language_info": {
   "codemirror_mode": {
    "name": "ipython",
    "version": 3
   },
   "file_extension": ".py",
   "mimetype": "text/x-python",
   "name": "python",
   "nbconvert_exporter": "python",
   "pygments_lexer": "ipython3",
   "version": "3.6.1"
  }
 },
 "nbformat": 4,
 "nbformat_minor": 2
}
