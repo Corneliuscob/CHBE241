{
 "cells": [
  {
   "cell_type": "markdown",
   "metadata": {},
   "source": [
    "# Pressure Measurement"
   ]
  },
  {
   "cell_type": "markdown",
   "metadata": {},
   "source": [
    "## Introduction\n",
    "Pressure measurement is vital to any process. Measuring pressure can give you a lot of information about your system. We will go over diffrent types of pressure, and ways to measure pressure."
   ]
  },
  {
   "cell_type": "markdown",
   "metadata": {},
   "source": [
    "## Overview\n",
    "### Gauge vs. Absolute Pressure\n",
    "**Absolute pressure** is a measurement of pressure with a perfect vacuum as a refrence point. This means that **absolute pressure** can never be negative. **Gauge pressure** is a measurement of pressure with the ambient air pressure (**atmosphiric pressure**) as a refrence point. This means that **gauge pressure** can be both negative and positive.\n",
    "\n",
    "A similar example to **gauge and absolute pressure** is celsius and kelvin. Kelvin uses absolute zero as its refrence point. This means that you can never have negative values of kelvin. Celsius uses the freezing point of water as its refrence point. This means that celsius can be both negative and positive.\n",
    "\n",
    "The equation used to relate gauge, atmospheric, and absolute pressure is:\n",
    "\n",
    "$$ P_{abs} = P_{gauge} + P_{atm} $$\n",
    "\n",
    "where\n",
    "\n",
    "$$ P_{abs} = \\text{Absulute pressure} $$\n",
    "\n",
    "$$ P_{gauge} = \\text{Gauge pressure} $$\n",
    "\n",
    "$$ P_{atm} = \\text{Atmospheric pressure} $$\n",
    "### Ways to measure pressure\n",
    "#### Manometers\n",
    "**Manometers** are one of the most common tools used to measure pressure. As specified in Module-1, they are simple to use and can give you instantanous feedback on your system. There are three main types of manometers, open-end, diffrential, and sealed-end.\n",
    "\n",
    "![](../figures/Module-4/Types_of_Manometers.png)\n",
    "\n",
    "As you can see, **open-end manometers** have one end connected to a line or system and the other end open to the atmosphere. **Open-end manometers** measure **gauge pressure**. **Diffrential manometers** have their each end conected to the same line and measure pressure drops. **Diffrential manometers** measure **diffrential pressure**. Finally, **sealed-end manometers** have the one end connected to a line or system and the other end closed to the near vacuum. **Sealed-end manometers** measure **absolute pressure**.\n",
    "\n",
    "#### Bourdon Gauges\n",
    "**Bourdon gauges** are the most common mechanical devices used to measure pressure. A bourdon gauge is a hollow metal tube that is closed at one end and bent into a C configuration. The open end is exposed to the fluid whose pressure is being measured. As the pressure increases, the tube tends to straighten to equilize the pressure in the tube. This straightening causes gears to turn which inturn will cause a pointer to rotate which will inform you on its pressure.\n",
    "\n",
    "<img src=\"../figures/Module-4/Bourdon_Gauge.png\" style = \"height:250px\">"
   ]
  },
  {
   "cell_type": "markdown",
   "metadata": {
    "collapsed": true
   },
   "source": [
    "## Problem Statement"
   ]
  },
  {
   "cell_type": "code",
   "execution_count": null,
   "metadata": {
    "collapsed": true
   },
   "outputs": [],
   "source": []
  }
 ],
 "metadata": {
  "kernelspec": {
   "display_name": "Python 3",
   "language": "python",
   "name": "python3"
  },
  "language_info": {
   "codemirror_mode": {
    "name": "ipython",
    "version": 3
   },
   "file_extension": ".py",
   "mimetype": "text/x-python",
   "name": "python",
   "nbconvert_exporter": "python",
   "pygments_lexer": "ipython3",
   "version": "3.6.1"
  }
 },
 "nbformat": 4,
 "nbformat_minor": 2
}
