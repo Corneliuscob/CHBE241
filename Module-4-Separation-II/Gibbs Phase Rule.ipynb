{
 "cells": [
  {
   "cell_type": "markdown",
   "metadata": {},
   "source": [
    "# Gibbs Phase Rule"
   ]
  },
  {
   "cell_type": "markdown",
   "metadata": {},
   "source": [
    "## Introduction\n",
    "The Gibbs Phase Rule is used when trying to find the degrees of freedom of a system at equilibruim when two phases are brought into contact with each other. The number of degrees of freedom is the number of intensive varibles you need to describe to allow the system to be solved."
   ]
  },
  {
   "cell_type": "markdown",
   "metadata": {},
   "source": [
    "## Overview\n",
    "### Equation\n",
    "The Gibbs Phase Rule equation is:\n",
    "\n",
    "$$ DF = 2 + c - \\Pi $$\n",
    "\n",
    "where\n",
    "\n",
    "$$ DF = \\text{degrees of freedom} $$\n",
    "\n",
    "$$ c = \\text{number of chemical species} $$\n",
    "\n",
    "$$ \\Pi = \\text{number of phases in a systen at equilibrium} $$\n",
    "### Examples\n",
    "1. Pure Liquid water:\n",
    "    Pure liquid water is one phase and one chemical species, therefore, the degrees of fredom by Gibbs Phase Rule is:\n",
    "    \n",
    "    $$ DF = 2 + 1 - 1 = 2 $$\n",
    "    \n",
    "2. A mixture of ice, liquid water, and steam:\n",
    "    A mixture of ice, liquid water, and steam is three phases and one chemical species, therefore, the degrees of fredom by Gibbs Phase Rule is:\n",
    "    \n",
    "    $$ DF = 2 + 1 - 3 = 0 $$\n",
    "    \n",
    "3. A Vapour-Liquid Equilibrium of acetone and methyl ethyl ketone:\n",
    "    A Vapour-Liquid Equilibrium of acetone and methyl ethyl ketone has two phases and two chemical species, therefore, the degrees of fredom by Gibbs Phase Rule is:\n",
    "    \n",
    "    $$ DF = 2 + 2 - 2 = 2 $$\n",
    "    "
   ]
  },
  {
   "cell_type": "markdown",
   "metadata": {},
   "source": [
    "## Problem Statement\n",
    "### Question \n",
    "An aquatic centre chlorinates it's pools to sanitize the water. What is the degrees of freedom of the aquitic centre? Assume the air in the aquatic centre contains only nitrogen and oxygen.\n",
    "### Answer\n",
    "Since the aquatic centre contains, air, water and chlorine.\n",
    "\n",
    "$$ c = 4 $$\n",
    "\n",
    "$$ \\Pi = 2 $$\n",
    "\n",
    "$$ \\therefore \\quad DF = 2 + 4 - 2 = 4 $$"
   ]
  },
  {
   "cell_type": "code",
   "execution_count": null,
   "metadata": {
    "collapsed": true
   },
   "outputs": [],
   "source": []
  }
 ],
 "metadata": {
  "kernelspec": {
   "display_name": "Python 3",
   "language": "python",
   "name": "python3"
  },
  "language_info": {
   "codemirror_mode": {
    "name": "ipython",
    "version": 3
   },
   "file_extension": ".py",
   "mimetype": "text/x-python",
   "name": "python",
   "nbconvert_exporter": "python",
   "pygments_lexer": "ipython3",
   "version": "3.6.1"
  }
 },
 "nbformat": 4,
 "nbformat_minor": 2
}
