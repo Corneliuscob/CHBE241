{
 "cells": [
  {
   "cell_type": "markdown",
   "metadata": {},
   "source": [
    "# Steam Tables\n",
    "\n",
    "## Learning Objectives\n",
    "\n",
    "By the end of this section you should be able to\n",
    "\n",
    "1. Understand what steam tables tell us.\n",
    "2. Use steam tables to solve thermodynamic problems.\n",
    "3. Interpolate between data points.\n",
    "\n",
    "## Introduction\n",
    "\n",
    "Water, and in specific, steam is used in many processes. Most commonly, it is used in the transfer of energy. Because of this, scientest and engineers have created extensive data tables on a variety of conditions.\n",
    "\n",
    "## Overview\n",
    "\n",
    "### Table Discription\n",
    "\n",
    "Shown below is a typical team table from the [NIST](http://webbook.nist.gov/cgi/fluid.cgi?Action=Load&ID=C7732185&Type=IsoTherm&Digits=5&PLow=0&PHigh=20&PInc=1&T=600&RefState=DEF&TUnit=K&PUnit=MPa&DUnit=kg%2Fm3&HUnit=kJ%2Fkg&WUnit=m%2Fs&VisUnit=uPa*s&STUnit=N%2Fm)\n",
    "\n",
    "![](../figures/Module-4/Steam_Table_Base.png) website. Each column represents a property. In this table, the temperature is held constant and the pressure is increasing by increments of 1.0000 MPa. The main properties we will be focusing on are temperature, pressure, internal energy and enthalpy.\n",
    "\n",
    "### How to Use Steam Tables\n",
    "\n",
    "Steam tables are typically used to calculate the change in energy in a specific process, whether it be energy generation or cooling. By measure the changes in pressure "
   ]
  },
  {
   "cell_type": "markdown",
   "metadata": {
    "collapsed": true
   },
   "source": [
    "![](../figures/Module-4/Steam_Table_Base.png)"
   ]
  },
  {
   "cell_type": "code",
   "execution_count": null,
   "metadata": {
    "collapsed": true
   },
   "outputs": [],
   "source": []
  }
 ],
 "metadata": {
  "kernelspec": {
   "display_name": "Python 3",
   "language": "python",
   "name": "python3"
  },
  "language_info": {
   "codemirror_mode": {
    "name": "ipython",
    "version": 3
   },
   "file_extension": ".py",
   "mimetype": "text/x-python",
   "name": "python",
   "nbconvert_exporter": "python",
   "pygments_lexer": "ipython3",
   "version": "3.6.1"
  }
 },
 "nbformat": 4,
 "nbformat_minor": 2
}
