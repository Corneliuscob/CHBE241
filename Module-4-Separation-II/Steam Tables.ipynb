{
 "cells": [
  {
   "cell_type": "markdown",
   "metadata": {},
   "source": [
    "# Steam Tables\n",
    "\n",
    "## Learning Objectives\n",
    "\n",
    "By the end of this section you should be able to\n",
    "\n",
    "1. Understand what steam tables tell us.\n",
    "2. Use steam tables to solve thermodynamic problems.\n",
    "3. Interpolate between data points.\n",
    "\n",
    "## Introduction\n",
    "\n",
    "Water, and in specific, steam is used in many processes. Most commonly, it is used in the transfer of energy. Because of this, scientest and engineers have created extensive data tables on a variety of conditions.\n",
    "\n",
    "## Overview\n",
    "\n",
    "### Table Discription\n",
    "\n",
    "Shown below is a typical team table. The first column represents **pressure** in bar. The second colum represents **temperature** in celsuis. The third and fourth column represents **specific volume** in cubic meters per kg for water and steam respectively. The fith and sixth column represents **internal energy** in kilojoules per kg for water and steam respectively. The seventh and nineth column represents the **enthalpy** in kilojoules per kg for water and steam respectively. Finally, the eight column represents the **heat of vaporization** in kilojoules per kg.\n",
    "\n",
    "The first row is used as the refrence point to which all of the other data is based of. As you can see, the internal energy and enthaply of water at $T = 0.01 C^{\\circ}$.\n",
    "\n",
    "![](../figures/Module-4/Steam_Table_Base.png)"
   ]
  },
  {
   "cell_type": "code",
   "execution_count": null,
   "metadata": {
    "collapsed": true
   },
   "outputs": [],
   "source": []
  }
 ],
 "metadata": {
  "kernelspec": {
   "display_name": "Python 3",
   "language": "python",
   "name": "python3"
  },
  "language_info": {
   "codemirror_mode": {
    "name": "ipython",
    "version": 3
   },
   "file_extension": ".py",
   "mimetype": "text/x-python",
   "name": "python",
   "nbconvert_exporter": "python",
   "pygments_lexer": "ipython3",
   "version": "3.6.1"
  }
 },
 "nbformat": 4,
 "nbformat_minor": 2
}
