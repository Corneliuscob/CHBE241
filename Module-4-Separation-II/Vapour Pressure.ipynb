{
 "cells": [
  {
   "cell_type": "markdown",
   "metadata": {},
   "source": [
    "# Vapour Pressure\n",
    "\n",
    "## Learning Objectives\n",
    "\n",
    "By the end of this section you should be able to:\n",
    "\n",
    "1. Understand the concept of vapour pressure.\n",
    "2. Use \n",
    "\n",
    "## Introduction\n",
    "\n",
    "Vapour pressure is the pressure a vapour exerts with its solid or liquid at a given temperature at equilibrium. This means that vapour pressure is a good indication of a liquid's evaporation rate or a solid's sublimation rate.\n",
    "\n",
    "## Overview\n",
    "\n",
    "### Vapour Pressure\n",
    "\n",
    "As you can see in the figue bellow, vapour pressure is at equilibruim\n",
    "\n",
    "<img src=\"../figures/Module-4/Vapour_pressure.png\" style= \"height:400px\">\n",
    "\n",
    "### Antoine equation\n",
    "\n",
    "The **Antoine equation** is simple yet crucial equation the relates **vapour pressure** and **temperature**. The equation is:\n",
    "\n",
    "$$ \\log_{10} p^* = A - \\frac{B}{T + C} $$\n",
    "\n",
    "Where A, B, and C are constants that are given and\n",
    "\n",
    "$$ p^* = \\text{Vapour Pressure} $$\n",
    "\n",
    "$$ T = \\text{Temperature} $$\n",
    "\n",
    "### Saturation and Humidity\n",
    "\n",
    "The term saturation refers to any gas-vapour system. Humidity refers specifically to an air-water system. There are four main types of saturation and humidity:\n",
    "\n",
    "**Relative Saturation (Relative Humidity)**: \n",
    "\n",
    "$$ s_r (h_r) = \\frac{p_i}{p^*_i (T)} \\times 100 \\text{%} $$\n",
    "\n",
    "**Molal Saturation (Molal Humidity)**: \n",
    "\n",
    "$$ s_m (h_m) = \\frac{p_i}{P - p_i} $$\n",
    "\n",
    "**Absolute Saturation (Absolute Humidity)**: \n",
    "\n",
    "$$ s_a (h_a) = \\frac{p_i M_i}{(P - p_i) M_{dry}} $$\n",
    "\n",
    "**Relative Saturation (Relative Humidity)**: \n",
    "\n",
    "$$ s_p (h_p) = \\frac{s_m}{s^*_m} \\times 100 \\text{%} = \\frac{\\frac{p_i}{P - p_i}}{\\frac{p^*_i}{P - p^*_i}} \\times 100 \\text{%} $$"
   ]
  }
 ],
 "metadata": {
  "kernelspec": {
   "display_name": "Python 3",
   "language": "python",
   "name": "python3"
  },
  "language_info": {
   "codemirror_mode": {
    "name": "ipython",
    "version": 3
   },
   "file_extension": ".py",
   "mimetype": "text/x-python",
   "name": "python",
   "nbconvert_exporter": "python",
   "pygments_lexer": "ipython3",
   "version": "3.6.1"
  }
 },
 "nbformat": 4,
 "nbformat_minor": 2
}
