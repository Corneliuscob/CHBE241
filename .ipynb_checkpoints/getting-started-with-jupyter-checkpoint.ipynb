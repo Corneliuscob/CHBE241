{
 "cells": [
  {
   "cell_type": "markdown",
   "metadata": {},
   "source": [
    "# Getting started on using Jupyter notebooks and Python \n",
    "\n",
    "##  Running Jupyter notebooks.\n",
    "Jupyter notebooks are documents that can illustrate how code interacts with chemical engineering. These notebooks are easily shareable, and downloadable into other file types for your convenience. You may view these notebooks via any links on this github webpage. IF you wish to edit the code or work on the interactive portions of Jupyter you will need to run Jupyter notebooks.\n",
    "\n",
    "\n",
    "To run Jupyter, you can use a cloud server. UBC hosts a Jupyter server at  [https://ubc.syzygy.ca/](https://ubc.syzygy.ca/). \n",
    "\n",
    "You can also run run Jupyter locally on your computer. This requires the installation of Python.\n",
    "\n",
    "## Running Jupyter from The cloud server [Syzygy](https://ubc.syzygy.ca/)\n",
    " 1. Go to the Syzygy server in the link above \n",
    " 2. Sign in to Syzygy with your CWL login \n",
    " 3. Click \"Start My Server\" and the Jupyter interface will open\n",
    " 4. Go to File > New > Python3 and create a new file \n",
    " 5. enter this into the line ```%%bash git clone https://github.com/UBCEnvision/chbe``` and press \"shift+enter\" \n",
    " 6. Open a new file and you should see the course syllabus downloaded into your local server \n",
    " \n",
    " \n",
    " This will clone the course onto your your server where you can play with/edit the code.\n",
    " \n",
    "## Running Jupyter locally\n",
    " 1. Download the python packages required from either \n",
    "  1. [Enthought Canopy](https://store.enthought.com/downloads/) or\n",
    "  2. [Anaconda](https://www.continuum.io/DOWNLOADS)\n",
    "  \n",
    "### Using Enthought\n",
    " 1. Open the program Canopy\n",
    " 2. Under the tools seections click \"Canopy Command Prompt\"\n",
    " 3. In the Command Prompt type ```jupyter notebook```\n",
    " 4. Go to File > New > Python3 and create a new file \n",
    " 5. enter this into the line ```%%bash git clone https://github.com/UBCEnvision/chbe``` and press \"shift+enter\" \n",
    " 6. Open a new file and you should see the course syllabus downloaded into your local Computer\n",
    "\n",
    "### Using Anaconda\n",
    "1. Open Anaconda Command Prompt from the start menu\n",
    "2. Type ``` jupyter Notebook```\n",
    "4. Go to File > New > Python3 and create a new file \n",
    "5. enter this into the line ```%%bash git clone https://github.com/UBCEnvision/chbe``` and press \"shift+enter\"\n",
    "6. Open a new file and you should see the course syllabus downloaded into your local computer\n",
    "\n",
    "\n",
    "### Using Jupyter\n",
    "\n",
    "Jupyter runs on python, a high level programming language. Many of its commands as a result, are intuitive and easy to pick up.\n",
    "\n",
    "First, type in ```print(\"Hello World\")``` then press \"shift+enter\" and take a look at your output. Shift+enter is the command to run whatever code is in your block. \n",
    "\n",
    "### Basic Arithmetic\n",
    "\n",
    "Jupyter can easily perform basic arithmetic operations."
   ]
  },
  {
   "cell_type": "code",
   "execution_count": 22,
   "metadata": {
    "collapsed": false
   },
   "outputs": [
    {
     "name": "stdout",
     "output_type": "stream",
     "text": [
      "x + y =  7\n",
      "x * y =  12\n",
      "x ^ y =  81\n",
      "x / y =  0\n",
      "2.0\n"
     ]
    }
   ],
   "source": [
    "x = 3\n",
    "y = 4\n",
    "print\"x + y = \", x + y\n",
    "print \"x * y = \", x*y\n",
    "print \"x ^ y = \", x**y \n",
    "print \"x / y = \", x/y  #the result is 0; to obtain a real result, x would need to be 3.0 etc...\n",
    "print 5.0/2.5"
   ]
  },
  {
   "cell_type": "markdown",
   "metadata": {},
   "source": [
    "More advanced functions require the numpy library"
   ]
  }
 ],
 "metadata": {
  "kernelspec": {
   "display_name": "Python 2",
   "language": "python",
   "name": "python2"
  },
  "language_info": {
   "codemirror_mode": {
    "name": "ipython",
    "version": 2
   },
   "file_extension": ".py",
   "mimetype": "text/x-python",
   "name": "python",
   "nbconvert_exporter": "python",
   "pygments_lexer": "ipython2",
   "version": "2.7.11"
  }
 },
 "nbformat": 4,
 "nbformat_minor": 2
}
