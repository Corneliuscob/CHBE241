{
 "cells": [
  {
   "cell_type": "markdown",
   "metadata": {},
   "source": [
    "# Getting started on using Jupyter notebooks and Python \n",
    "\n",
    "##  Running Jupyter notebooks.\n",
    "Jupyter notebooks are documents that can illustrate how code interacts with chemical engineering. These notebooks are easily shareable, and downloadable into other file types for your convenience. You may view these notebooks via any links on this github webpage. IF you wish to edit the code or work on the interactive portions of Jupyter you will need to run Jupyter notebooks.\n",
    "\n",
    "\n",
    "To run Jupyter, you can use a cloud server. UBC hosts a Jupyter server at  [https://ubc.syzygy.ca/](https://ubc.syzygy.ca/). \n",
    "\n",
    "You can also run run Jupyter locally on your computer. This requires the installation of Python.\n",
    "\n",
    "## Running Jupyter from The cloud server [Syzygy](https://ubc.syzygy.ca/)\n",
    " 1. Go to the Syzygy server in the link above \n",
    " 2. Sign in to Syzygy with your CWL login \n",
    " 3. Click \"Start My Server\" and the Jupyter interface will open\n",
    " 4. Go to File > New > Python3 and create a new file \n",
    " 5. enter this into the line ```%%bash git clone https://github.com/UBCEnvision/chbe``` and press \"shift+enter\" \n",
    " 6. Open a new file and you should see the course syllabus downloaded into your local server \n",
    " \n",
    " \n",
    " This will clone the course onto your your server where you can play with/edit the code.\n",
    " \n",
    "## Running Jupyter locally\n",
    " 1. Download the python packages required from either \n",
    "  1. [Enthought Canopy](https://store.enthought.com/downloads/) or\n",
    "  2. [Anaconda](https://www.continuum.io/DOWNLOADS)\n",
    "  \n",
    "### Using Enthought\n",
    " 1. Open the program Canopy\n",
    " 2. Under the tools seections click \"Canopy Command Prompt\"\n",
    " 3. In the Command Prompt type **```jupyter notebook```**\n",
    " 4. Go to File > New > Python3 and create a new file \n",
    " 5. enter this into the line **```%%bash git clone https://github.com/UBCEnvision/chbe```** and press \"shift+enter\" \n",
    " 6. Open a new file and you should see the course syllabus downloaded into your local Computer\n",
    "\n",
    "### Using Anaconda\n",
    "1. Open Anaconda Command Prompt from the start menu\n",
    "2. Type **``` jupyter Notebook```**\n",
    "4. Go to File > New > Python3 and create a new file \n",
    "5. enter this into the line **```%%bash git clone https://github.com/UBCEnvision/chbe```** and press \"shift+enter\"\n",
    "6. Open a new file and you should see the course syllabus downloaded into your local computer\n",
    "\n",
    "\n",
    "### Using Jupyter\n",
    "\n",
    "Jupyter runs on python, a high level programming language. Many of its commands as a result, are intuitive and easy to pick up.\n",
    "\n",
    "First, type in **```print(\"Hello World\")```** then press \"shift+enter\" and take a look at your output. Shift+enter is the command to run whatever code is in your block. "
   ]
  },
  {
   "cell_type": "code",
   "execution_count": null,
   "metadata": {
    "collapsed": true
   },
   "outputs": [],
   "source": []
  },
  {
   "cell_type": "markdown",
   "metadata": {},
   "source": [
    "## Using Python"
   ]
  },
  {
   "cell_type": "markdown",
   "metadata": {},
   "source": [
    "### Basic Arithmetic\n",
    "\n",
    "Jupyter can easily perform basic arithmetic operations."
   ]
  },
  {
   "cell_type": "code",
   "execution_count": 2,
   "metadata": {},
   "outputs": [
    {
     "name": "stdout",
     "output_type": "stream",
     "text": [
      "x + y =  7\n",
      "x * y =  12\n",
      "x ^ y =  81\n",
      "x / y =  0.75\n"
     ]
    }
   ],
   "source": [
    "x = 3\n",
    "y = 4\n",
    "print(\"x + y = \", x + y)\n",
    "print (\"x * y = \", x*y)\n",
    "print (\"x ^ y = \", x**y )\n",
    "print (\"x / y = \", x/y)  "
   ]
  },
  {
   "cell_type": "markdown",
   "metadata": {},
   "source": [
    "More advanced functions require the numpy library. When using the numpy library, you must use the prefix **```np.```** to allow Python to understand that you want to use the library."
   ]
  },
  {
   "cell_type": "code",
   "execution_count": 6,
   "metadata": {},
   "outputs": [
    {
     "name": "stdout",
     "output_type": "stream",
     "text": [
      "-1.0\n"
     ]
    }
   ],
   "source": [
    "import numpy as np\n",
    "\n",
    "x = np.pi\n",
    "print (np.cos(x))"
   ]
  },
  {
   "cell_type": "markdown",
   "metadata": {
    "collapsed": true
   },
   "source": [
    "### Lists\n",
    "Lists are a very useful way of organizing data in Python. Here are some examples:"
   ]
  },
  {
   "cell_type": "code",
   "execution_count": 7,
   "metadata": {},
   "outputs": [
    {
     "name": "stdout",
     "output_type": "stream",
     "text": [
      "[2, 4, 6, 8]\n"
     ]
    }
   ],
   "source": [
    "List_1 = [2, 4, 6, 8]\n",
    "print(List_1)"
   ]
  },
  {
   "cell_type": "markdown",
   "metadata": {},
   "source": [
    "Concatentation is combing two lists together. This is done by using **```+```** operation."
   ]
  },
  {
   "cell_type": "code",
   "execution_count": 8,
   "metadata": {},
   "outputs": [
    {
     "name": "stdout",
     "output_type": "stream",
     "text": [
      "[2, 4, 6, 8, 10, 12, 14]\n"
     ]
    }
   ],
   "source": [
    "a = [2, 4, 6, 8]\n",
    "b = [10, 12, 14]\n",
    "\n",
    "print(a + b)"
   ]
  },
  {
   "cell_type": "markdown",
   "metadata": {},
   "source": [
    "You will commonly need to sum you list. This is simply done using **```np.sum(list)```**."
   ]
  },
  {
   "cell_type": "code",
   "execution_count": 5,
   "metadata": {},
   "outputs": [
    {
     "name": "stdout",
     "output_type": "stream",
     "text": [
      "56\n"
     ]
    }
   ],
   "source": [
    "print(np.sum(a + b))"
   ]
  },
  {
   "cell_type": "markdown",
   "metadata": {},
   "source": [
    "For loops can also be used in Python to iterate over a list. For loops work by first typing **```for```**, then the varible or list your iterating over, then **```in```**, then the length or list that you want to iterate until. A **```:```** is used to signify the start of the for loop and everything that is in the for loop needs to be indented. Here are two examples:"
   ]
  },
  {
   "cell_type": "code",
   "execution_count": 22,
   "metadata": {},
   "outputs": [
    {
     "name": "stdout",
     "output_type": "stream",
     "text": [
      "a = 2 a^2 = 4\n",
      "a = 4 a^2 = 16\n",
      "a = 6 a^2 = 36\n",
      "a = 8 a^2 = 64\n"
     ]
    }
   ],
   "source": [
    "a = [2, 4, 6, 8]\n",
    "for i in a:\n",
    "    print(\"a =\", i, \"a^2 =\", i**2)"
   ]
  },
  {
   "cell_type": "code",
   "execution_count": 23,
   "metadata": {},
   "outputs": [
    {
     "name": "stdout",
     "output_type": "stream",
     "text": [
      "b = 10 b^2 = 100\n",
      "b = 12 b^2 = 144\n",
      "b = 14 b^2 = 196\n"
     ]
    }
   ],
   "source": [
    "b = [10, 12, 14]\n",
    "for i in b:\n",
    "    print(\"b =\", i, \"b^2 =\", i**2)"
   ]
  },
  {
   "cell_type": "markdown",
   "metadata": {},
   "source": [
    "As you can see in both examples, **```i```** iterated through **```a```** in the first example and **```b```** in the second example."
   ]
  },
  {
   "cell_type": "code",
   "execution_count": null,
   "metadata": {
    "collapsed": true
   },
   "outputs": [],
   "source": []
  }
 ],
 "metadata": {
  "kernelspec": {
   "display_name": "Python 3",
   "language": "python",
   "name": "python3"
  },
  "language_info": {
   "codemirror_mode": {
    "name": "ipython",
    "version": 3
   },
   "file_extension": ".py",
   "mimetype": "text/x-python",
   "name": "python",
   "nbconvert_exporter": "python",
   "pygments_lexer": "ipython3",
   "version": "3.6.1"
  }
 },
 "nbformat": 4,
 "nbformat_minor": 2
}
