{
 "cells": [
  {
   "cell_type": "markdown",
   "metadata": {},
   "source": [
    "# Getting started on using Jupyter notebooks and Python \n",
    "\n",
    "##  Running Jupyter notebooks.\n",
    "Jupyter notebooks are documents that can illustrate how code interacts with chemical engineering. These notebooks are easily shareable, and downloadable into other file types for your convenience. You may view these notebooks via any links on this github webpage. IF you wish to edit the code or work on the interactive portions of Jupyter you will need to run Jupyter notebooks.\n",
    "\n",
    "\n",
    "To run Jupyter, you can use a cloud server. UBC hosts a Jupyter server at  [https://ubc.syzygy.ca/](https://ubc.syzygy.ca/). \n",
    "\n",
    "You can also run run Jupyter locally on your computer. This requires the installation of Python.\n",
    "\n",
    "## Running Jupyter from The cloud server [Syzygy](https://ubc.syzygy.ca/)\n",
    " 1. Go to the Syzygy server in the link above \n",
    " 2. Sign in to Syzygy with your CWL login \n",
    " 3. Click \"Start My Server\" and the Jupyter interface will open\n",
    " 4. Go to File > New > Python3 and create a new file \n",
    " 5. enter this into the line ```%%bash git clone https://github.com/UBCEnvision/chbe``` and press \"shift+enter\" \n",
    " 6. Open a new file and you should see the course syllabus downloaded into your local server \n",
    " \n",
    " \n",
    " This will clone the course onto your your server where you can play with/edit the code.\n",
    " \n",
    "## Running Jupyter locally\n",
    " 1. Download the python packages required from either \n",
    "  1. [Enthought Canopy](https://store.enthought.com/downloads/) or\n",
    "  2. [Anaconda](https://www.continuum.io/DOWNLOADS)\n",
    "  \n",
    "### Using Enthought\n",
    " 1. Open the program Canopy\n",
    " 2. Under the tools seections click \"Canopy Command Prompt\"\n",
    " 3. In the Command Prompt type ```jupyter notebook```\n",
    " 4. Go to File > New > Python3 and create a new file \n",
    " 5. enter this into the line ```%%bash git clone https://github.com/UBCEnvision/chbe``` and press \"shift+enter\" \n",
    " 6. Open a new file and you should see the course syllabus downloaded into your local Computer\n",
    "\n",
    "### Using Anaconda\n",
    "1. Open Anaconda Command Prompt from the start menu\n",
    "2. Type ``` jupyter Notebook```\n",
    "4. Go to File > New > Python3 and create a new file \n",
    "5. enter this into the line ```%%bash git clone https://github.com/UBCEnvision/chbe``` and press \"shift+enter\"\n",
    "6. Open a new file and you should see the course syllabus downloaded into your local computer"
   ]
  },
  {
   "cell_type": "code",
   "execution_count": null,
   "metadata": {
    "collapsed": true
   },
   "outputs": [],
   "source": []
  }
 ],
 "metadata": {
  "kernelspec": {
   "display_name": "Python 3",
   "language": "python",
   "name": "python3"
  },
  "language_info": {
   "codemirror_mode": {
    "name": "ipython",
    "version": 3
   },
   "file_extension": ".py",
   "mimetype": "text/x-python",
   "name": "python",
   "nbconvert_exporter": "python",
   "pygments_lexer": "ipython3",
   "version": "3.6.1"
  }
 },
 "nbformat": 4,
 "nbformat_minor": 2
}
