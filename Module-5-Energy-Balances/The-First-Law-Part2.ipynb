{
 "cells": [
  {
   "cell_type": "markdown",
   "metadata": {},
   "source": [
    "# Introduction\n",
    "\n",
    "> The first law of thermodynics is used in chemical engineering very often. To help, it is important to know when simplifications of the first law can be used to help analyze problems. Recall the equation of the first law: $$ E_{tot} = Q - W  $$ This notebook will cover cases when you can add simplifications and the rationale behind hte simplifications."
   ]
  },
  {
   "cell_type": "markdown",
   "metadata": {},
   "source": [
    "## List of cases\n",
    "\n",
    "### Energy:\n",
    "1. If a problem says no change in height and no acceleration __kinetic energy $E_k$ and potential energy $E_p$ are 0.__ These are safe assumptions for chemical reactors.\n",
    "2. An __ideal__ gas undergoing an __isothermal__ reaction has __U =0.__\n",
    "3. An __ideal__ gas' change in internal energy __$\\Delta U$__ can also be written as __$nC_vdt$__\n",
    "4. $\\Delta U $ alone, can only be used in a __closed system.__\n",
    "5. __open systems__ require __enthalpy__ (which will be covered later)\n",
    "### Heat:\n",
    "6. If the temperature of the system is __equal to the surrounding__ or is __perfectly insulated,__  the system is __adiabatic.__ \n",
    "7. An adiabatic system has $\\Delta Q = 0 $\n",
    "### Work: \n",
    "8. If there is __no shaft work__ and no __electrical generation__, work = __$p\\Delta V$ __\n",
    "9. In __ideal systems__ $p\\Delta V $ turns into $nRT*ln( \\frac{V_f}{V_i})$ by the ideal gas law"
   ]
  },
  {
   "cell_type": "markdown",
   "metadata": {},
   "source": [
    "### Explanation of certain cases"
   ]
  },
  {
   "cell_type": "markdown",
   "metadata": {},
   "source": [
    "1. Self explanatory\n",
    "2. See 3 \n",
    "3. Recal that internal energy is the energy held on a molecular level. An ideal gas exhibits elastic collisions by collision theory and have no interactions in between other gas molecules. As temperature rises, the amount of collisions increases proportionally thereby directly raising the internal energy."
   ]
  }
 ],
 "metadata": {
  "kernelspec": {
   "display_name": "Python 2",
   "language": "python",
   "name": "python2"
  },
  "language_info": {
   "codemirror_mode": {
    "name": "ipython",
    "version": 2
   },
   "file_extension": ".py",
   "mimetype": "text/x-python",
   "name": "python",
   "nbconvert_exporter": "python",
   "pygments_lexer": "ipython2",
   "version": "2.7.11"
  }
 },
 "nbformat": 4,
 "nbformat_minor": 0
}
