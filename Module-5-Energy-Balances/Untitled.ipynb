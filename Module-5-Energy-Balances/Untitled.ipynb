{
 "cells": [
  {
   "cell_type": "markdown",
   "metadata": {},
   "source": [
    "# The First Law of Thermodynamics\n",
    "\n",
    "## Introduction \n",
    "\n",
    "> As Chemical engineers, the knowledge of energy flows is integral to the industry. How will equipment affect the energy of a system? How does a reactor withstand and exothermic/endothermic reaction? Thermodynamics is the stepping stone in the study of energy flows. This notebook will give you an overview of the first law of thermodynamics.\n",
    "\n",
    "## The First Law\n",
    "\n",
    "> In simple terms, energy is a unit that is __conserved__; for us the first law says that the energy of a system $E_{sys}$, is equal to the sum of heat added to the system $Q$ and the work done to or upon the system $W$. This is written mathematically as: $$E_{sys} = Q - W $$ \n",
    "\n",
    "> Let's break down these terms down one-by-one.\n",
    "\n",
    "### Energy $E$ \n",
    "\n",
    "Energy comes in many __different forms__. Sitting on a a chair reading this, you have __potential energy__. When you run in class to hand in your homework, you are demonstrating __kinetic energy__.  Your mere existence, is a form of the __internal energy__ that forms you. There are many other energies that can be classified but this course will be focusing on these three.\n",
    "\n",
    "$$E_{tot} = E_{sys} = E_k + E_p + U $$\n",
    "\n",
    "\n",
    "\n",
    "#### Fermi question!! \n",
    "Using only facts you know yourself... How fast would a car have to drive to have the same energy to climb mount Everest? How many oreo cookies would that be? __An answer will be provided at the bottom__\n",
    "\n",
    "### Heat $Q\n",
    "\n",
    "Heat is the quantity of __energy__ that is __added__ or __removed__ from the system. Clay is often fired in kilns in order to harden the structure of the material. This adds massive amounts of heat to the system in order for the silica particles of the clay to change lattice form. \n",
    "\n",
    "### Work  $W$\n",
    "\n"
   ]
  },
  {
   "cell_type": "code",
   "execution_count": null,
   "metadata": {
    "collapsed": true
   },
   "outputs": [],
   "source": []
  }
 ],
 "metadata": {
  "kernelspec": {
   "display_name": "Python 2",
   "language": "python",
   "name": "python2"
  },
  "language_info": {
   "codemirror_mode": {
    "name": "ipython",
    "version": 2
   },
   "file_extension": ".py",
   "mimetype": "text/x-python",
   "name": "python",
   "nbconvert_exporter": "python",
   "pygments_lexer": "ipython2",
   "version": "2.7.11"
  }
 },
 "nbformat": 4,
 "nbformat_minor": 2
}
