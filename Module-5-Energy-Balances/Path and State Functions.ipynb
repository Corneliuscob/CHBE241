{
 "cells": [
  {
   "cell_type": "markdown",
   "metadata": {},
   "source": [
    "# Path and State functions \n",
    "\n",
    "\n",
    "# Introduction\n",
    "\n",
    "State and path functions are how variables in a system change from an intial state, to a final state. In this notebook you will learn about state and path variables, and state and path functions, their differences and their uses. \n",
    "\n",
    "\n",
    "## State Functions\n",
    "> Remember that guy who went up Mount Everest? Imagine you are a tourist at the bottom and see that guy on top of the mountain. __Regardless of how he got there__, that guy got there and is 8,848m higher than you are and thus he has 8679888J of potential energy  more than you (assuming they weigh 100kg). \n",
    "\n",
    "> A __State function__ is the change of the state of a variable __regardless of the path it takes__\n",
    "\n",
    "> But __how __did that guy get up there? Did skydive out of a plane? Did he climb up there himself? Was he carried up by a sherpa? now we are concerned about the path the guy took to get up there. \n",
    "\n",
    "> A __Path function__ is the transition of __path variables__ from one state to another.\n",
    "\n"
   ]
  },
  {
   "cell_type": "code",
   "execution_count": null,
   "metadata": {
    "collapsed": true
   },
   "outputs": [],
   "source": []
  }
 ],
 "metadata": {
  "kernelspec": {
   "display_name": "Python 2",
   "language": "python",
   "name": "python2"
  },
  "language_info": {
   "codemirror_mode": {
    "name": "ipython",
    "version": 2
   },
   "file_extension": ".py",
   "mimetype": "text/x-python",
   "name": "python",
   "nbconvert_exporter": "python",
   "pygments_lexer": "ipython2",
   "version": "2.7.11"
  }
 },
 "nbformat": 4,
 "nbformat_minor": 0
}
