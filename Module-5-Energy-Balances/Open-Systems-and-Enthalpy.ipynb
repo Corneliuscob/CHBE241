{
 "cells": [
  {
   "cell_type": "markdown",
   "metadata": {},
   "source": [
    "# Open Systems and Enthalpy\n",
    "\n",
    "# Introduction \n",
    "To account for __open__ systems. Enthalpy is used as  a __measurement of Energy__ in a system. This This notebook will go over a short explanation of enthalpy and go over prblem 7.4-2 of the textbook.\n",
    "\n",
    "\n",
    "\n",
    "\n",
    "\n",
    "Recall that The energy equation in a closed system is $E_{tot} = Q - W  $ and after negating potential and kinetic energy becomes: $U = Q-W$. \n",
    "\n",
    "In an open sytem there is a transfer of material. This means that there needs to be a correction for internal energy $U $ to account for the particles leaving the system. Enthalpy $H$  is a measure of energy accounts for open systems and the Energy balance becomes: $$H = Q-W$$ and $$ \\Delta H =  \\Delta Q- \\Delta W $$\n",
    "\n",
    "Enthalpy is extremely useful because many processes in checmial engineering are open systems and as a result, there are extensive databases that contain entahlpy values of various chemicals. \n",
    "\n",
    "## Definition of Enthalpy\n",
    "\n",
    "Enthalpy is defined as $H= U+pV$ and a change of enthalpy is defined as $\\Delta H = \\Delta U + \\Delta pV$. This account for the open system by noticing that the pressure of the system remaisn constant with the pressure of hte surroundings.\n"
   ]
  },
  {
   "cell_type": "markdown",
   "metadata": {},
   "source": [
    "## Question  7.4-2"
   ]
  },
  {
   "cell_type": "code",
   "execution_count": null,
   "metadata": {
    "collapsed": true
   },
   "outputs": [],
   "source": []
  }
 ],
 "metadata": {
  "kernelspec": {
   "display_name": "Python 3",
   "language": "python",
   "name": "python3"
  },
  "language_info": {
   "codemirror_mode": {
    "name": "ipython",
    "version": 3
   },
   "file_extension": ".py",
   "mimetype": "text/x-python",
   "name": "python",
   "nbconvert_exporter": "python",
   "pygments_lexer": "ipython3",
   "version": "3.5.2"
  }
 },
 "nbformat": 4,
 "nbformat_minor": 2
}
