{
 "cells": [
  {
   "cell_type": "markdown",
   "metadata": {},
   "source": [
    "\n",
    "# The First Law of Thermodynamics\n",
    "\n",
    "## Introduction \n",
    "\n",
    "> As Chemical engineers, the knowledge of energy flows is integral to the industry. How will equipment affect the energy of a system? How does a reactor withstand and exothermic/endothermic reaction? Thermodynamics is the stepping stone in the study of energy flows. This notebook will give you an overview of the first law of thermodynamics.\n",
    "\n",
    "## The First Law\n",
    "\n",
    "> The first law is the concept that __energy is conserved.__ The first law says that the energy of a __closed system__ $E_{sys}$, is equal to the sum of heat added to the system $Q$ and the work done to or upon the system $W$. This is written mathematically as: $$E_{sys} = Q - W $$ \n",
    "\n",
    "and \n",
    "\n",
    "$$ \\Delta E_{sys} = \\Delta Q-\\Delta W $$\n",
    "\n",
    "__Important! The system must be closed.__\n",
    "\n",
    "> Let's break down these terms down one-by-one.\n",
    "\n",
    "### Energy $E$ \n",
    "\n",
    "Energy comes in many __different forms__. Sitting on a a chair reading this, you have __potential energy__. When you run in class to hand in your homework, you are demonstrating __kinetic energy__.  Your mere existence, is a form of the __internal energy__ that forms you. There are many other energies that can be classified but this course will be focusing on these three.\n",
    "\n",
    "$$E_{tot} = E_{sys} = E_k + E_p + U $$ \n",
    "\n",
    "\n",
    "\n",
    "#### Fermi question!! \n",
    "Using only facts you know yourself... How fast would a car have to drive to have the same energy to climb mount Everest? How many oreo cookies would that be? __An answer will be provided at the bottom__\n",
    "\n",
    "### Heat $Q$\n",
    "\n",
    "Heat is the quantity of __energy__ that is __added__ or __removed__ from the system. Clay is often fired in kilns in order to harden the structure of the material. This adds massive amounts of heat to the system in order for the silica particles of the clay to change lattice form. \n",
    "\n",
    "### Work  $W$\n",
    "Work is the mechanical energy that the system either takes or gives. This usually breaks down into a __change of pressure and volume.__ \n",
    "\n",
    "__sign convention of work:__\n",
    "The textbook defines \n",
    "\n",
    "$(+)W$ as  __work done by the system__\n",
    "\n",
    "> and\n",
    "\n",
    "$(-)W$ as  __work done on the system__\n",
    "\n",
    "####  For example:\n",
    "\n",
    "> __pumping a water gun:__ solving the work equation (which will be solved in later chapters)  gives a negative work __$-W$__ which is substituted into the first law equation: $$ U = Q - (-W) $$ Resulting in a net positive increase of internal energy assuming that $Q$ is positive (more energy to decimate your opponents... or at least before ytou have to pump again).\n",
    "\n",
    "> __an ejection seat launching a pilot away:__ solving the work equation,  gives a positive work $W$ which is substitued into the first law equation : $$ U = Q - (+W) $$ Assuming little heat is gained, the internal energy is now large (to launch that pilot far from the airplane. \n"
   ]
  },
  {
   "cell_type": "markdown",
   "metadata": {
    "collapsed": true
   },
   "source": [
    "### A solution to Fermi. \n",
    "\n",
    "I know that the Mount Everest is apporximately 30000ft. The average person weight 65kg. therfore using the __potential energy__ formula and rough unit conversion  $$E_p = mgh$$  $$ E_p = 65_{kg} * 30000_{ft} * 0.3_{m/ft} * 9.81_{m/s^2} = 5 738 850 J$$\n",
    "Let's guess that an oreo has 100  small calories (cal) $$ \\therefore \\space \\frac{5 738 850J }{100_{cal} * 4.2_{J/cal}} = 13 664 \\space oreo cookies. $$ A car weighs approximately 1000kg. Using the __kinetic energy__ formula:\n",
    "$$ E_k = \\frac{1}{2} * m *v^2 $$\n",
    "$$ 5 738 850J = 1000_{kg} * \\frac{1}{2} * v^2 $$ \n",
    "solving for v results in  $v = 107.13_{m/s} $ which is  just over the spped of the bullet train in Japan.\n",
    "\n",
    "[more fermi!](http://www.fermiquestions.com/play)"
   ]
  },
  {
   "cell_type": "code",
   "execution_count": null,
   "metadata": {
    "collapsed": true
   },
   "outputs": [],
   "source": []
  }
 ],
 "metadata": {
  "kernelspec": {
   "display_name": "Python 2",
   "language": "python",
   "name": "python2"
  },
  "language_info": {
   "codemirror_mode": {
    "name": "ipython",
    "version": 2
   },
   "file_extension": ".py",
   "mimetype": "text/x-python",
   "name": "python",
   "nbconvert_exporter": "python",
   "pygments_lexer": "ipython2",
   "version": "2.7.11"
  }
 },
 "nbformat": 4,
 "nbformat_minor": 2
}
