{
 "cells": [
  {
   "cell_type": "markdown",
   "metadata": {},
   "source": [
    "## First Draft Modules Completed\n",
    "Module-0 (Said, Victor, Ngaito)\n",
    "\n",
    "Module-1 (Said)\n",
    "\n",
    "\n",
    "## Said \n",
    "### Changes Week 1\n",
    "1. Completed the first draft of module one, half of the introduction notebook, and MATH 152.\n",
    "2. Got rid of conservation of mass as its own section and included it onto material balances\n",
    "\n",
    "### Suggestions\n",
    "1. Continous, batch, and semi-batch should be moved to module one.\n",
    "2. I dont think we should have a section about excel since we will be using python instead.\n",
    "\n",
    "### Challenges\n",
    "1. Found it hard to come up with examples, I used a mixture of my own, textbook, and online examples. Not sure if we should only make our own.\n",
    "2. Should each notebook be content heavy?"
   ]
  },
  {
   "cell_type": "code",
   "execution_count": null,
   "metadata": {
    "collapsed": true
   },
   "outputs": [],
   "source": []
  }
 ],
 "metadata": {
  "kernelspec": {
   "display_name": "Python 3",
   "language": "python",
   "name": "python3"
  },
  "language_info": {
   "codemirror_mode": {
    "name": "ipython",
    "version": 3
   },
   "file_extension": ".py",
   "mimetype": "text/x-python",
   "name": "python",
   "nbconvert_exporter": "python",
   "pygments_lexer": "ipython3",
   "version": "3.6.1"
  }
 },
 "nbformat": 4,
 "nbformat_minor": 2
}
