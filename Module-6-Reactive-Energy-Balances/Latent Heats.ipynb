{
 "cells": [
  {
   "cell_type": "markdown",
   "metadata": {},
   "source": [
    "# Latent Heats\n",
    "\n",
    "## Learning objectives\n",
    "\n",
    "By the end of this section you should be able to:\n",
    "\n",
    "1. Understand the concept of **latent heat**.\n",
    "2. Differentiate between **heat of melting**, **fusion**, and **vapourization**.\n",
    "3. Understand the concept of **higher heating value** and **lower heating value**.\n",
    "\n",
    "## Introduction\n",
    "\n",
    "The change in **specific enthalpy** of substance that occurs when that substance transitions from one phase to another is known as **latent heat**.\n",
    "\n",
    "## Overview\n",
    "\n",
    "### Heat of Vapourization \n",
    "\n",
    "The change in **specific enthalpy** for liquid water to steam at $100 ^{\\circ} C$ and $1$ atm is $\\Delta \\hat{H}_v (T,P) = 2,255.6 \\space kJ/kg$. This change **specific enthalpy** in is called the **heat of vapourization**. The condensation of this steam back to liquid water at $100 ^{\\circ} C$ and $1$ atm would result in a change **specific enthalpy** of $\\Delta \\hat{H}_v (T,P) = -2,255.6 \\space kJ/kg$.\n",
    "\n",
    "### Heat of Melting and Heat of fusion\n",
    "\n",
    "The change in **specific enthalpy** for liquid water to ice at $0 ^{\\circ} C$ and $1$ atm is $\\Delta \\hat{H}_f (T,P) = -333 \\space kJ/kg$. This change **specific enthalpy** in is called the **heat of fusion**. The melting of this ice back to liquid water at $100 ^{\\circ} C$ and $1$ atm would result in a change **specific enthalpy** of $\\Delta \\hat{H}_m (T,P) = 333 \\space kJ/kg $. This change **specific enthalpy** in is called the **heat of melting**.\n",
    "\n",
    "### High Heat Value and Low Heat Value\n",
    "\n",
    "The **heating value** of a combustible material is the negative of the standard heat of comubustion. The **higher heating value** is the negative of the standard heat of combustion with liquid water as a product. The **lower heating value** is the negative of the standard heat of combustion with steam as a product. To calculate the **higher heating value** or **lower heating value**, we need the number of moles of water $n$, and we can use the equation.\n",
    "\n",
    "$$ HHV = LHV + n \\space \\Delta \\hat{H}_v \\space (H_2 O, 25 ^{\\circ} C) $$"
   ]
  },
  {
   "cell_type": "code",
   "execution_count": null,
   "metadata": {
    "collapsed": true
   },
   "outputs": [],
   "source": []
  }
 ],
 "metadata": {
  "kernelspec": {
   "display_name": "Python 3",
   "language": "python",
   "name": "python3"
  },
  "language_info": {
   "codemirror_mode": {
    "name": "ipython",
    "version": 3
   },
   "file_extension": ".py",
   "mimetype": "text/x-python",
   "name": "python",
   "nbconvert_exporter": "python",
   "pygments_lexer": "ipython3",
   "version": "3.6.1"
  }
 },
 "nbformat": 4,
 "nbformat_minor": 2
}
