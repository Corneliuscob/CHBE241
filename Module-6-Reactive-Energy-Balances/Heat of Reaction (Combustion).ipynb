{
 "cells": [
  {
   "cell_type": "markdown",
   "metadata": {},
   "source": [
    "# Heat of Reaction (Combustion)\n",
    "\n",
    "## Learning Objectives\n",
    "\n",
    "## Introduction\n",
    "\n",
    "The **heat of reaction**, $\\Delta \\hat{H}_r (T,P) $ is the change in enthalpy for a process in which the quantities of reactants at a temperature and pressure, T and P, react completely in a single reaction to form products.\n",
    "\n",
    "## Overview\n",
    "\n",
    "### Exothermic and Endothermic\n",
    "\n",
    "A simple example we can use to explain the diffrence between **exothermic** and **endothermic** reactions is the burning of hydrogen gas in oxygen.\n",
    "\n",
    "$$ 2 \\space H_{2} \\small{\\text{(g)}} + O_{2 } \\small{\\text{(g)}} \\longrightarrow 2 \\space H_2 O \\small{\\text{(v)}} $$\n",
    "\n",
    "This reaction is **exothermic**. An **exothermic** reaction occurs when the products of the reaction have a lower internal energy. The net energy released, the **heat of reaction**, in this case would be negative and released as heat.\n",
    "\n",
    "If you have the reverse reaction\n",
    "\n",
    "$$ 2 \\space H_2 O \\small{\\text{(v)}} \\longrightarrow 2 \\space H_{2} \\small{\\text{(g)}} + O_{2 } \\small{\\text{(g)}} $$\n",
    "\n",
    "The reaction will be **endothermic**. An **endothermic** reaction occurs when the products of the reaction have a higher internal energy. The net energy released, the **heat of reaction**, in this case would be positive will need heat for the reaction to occur.\n",
    "\n",
    "### How to Solve Questions Using Heat of Reaction\n",
    "\n",
    "In module \n",
    "\n",
    "### Important Terms and Observations\n",
    "\n",
    "1. If $ \\Delta \\hat{H}_r (T,P) $ is negative, the reaction is exothermic at the temperature and pressure T and P, and if $ \\Delta \\hat{H}_r (T,P) $ is positive the reaction is endothermic at T and P.\n",
    "2. At low and moderate pressures, $ \\Delta \\hat{H}_r (T,P) $ is nearly independant of pressure. Thus, the heat of reaction will become $ \\Delta \\hat{H}_r (T) $. We will mostly be using this type of heat of reaction.\n",
    "3. The value of the heat of reaction depends on the how the stoichiometric equation is writte. For example,\n",
    "\n",
    "    $$ H_{2} \\small{\\text{(g)}} + \\frac{1}{2} \\space O_{2 } \\small{\\text{(g)}} \\longrightarrow 2 \\space H_2 O \\small{\\text{(v)}}: \\quad  -241.8 \\space \\frac{kJ}{mol}$$\n",
    "    \n",
    "    $$ 2 \\space H_{2} \\small{\\text{(g)}} + O_{2 } \\small{\\text{(g)}} \\longrightarrow 2 \\space H_2 O \\small{\\text{(v)}}: \\quad  -483.6 \\space \\frac{kJ}{mol}$$\n",
    "    \n",
    "4. The magnitute of the heat of reaction depends on the phase of the products, whether it be gas, liquid, or solid. For example,\n",
    "    \n",
    "    $$ C H_{4} \\small{\\text{(g)}} + 2 \\space O_{2 } \\small{\\text{(g)}} \\longrightarrow C O_{2} \\small{\\text{(g)}} + 2 \\space H_2 O \\small{\\text{(v)}}: \\quad  -802.3 \\space \\frac{kJ}{mol}$$\n",
    "    \n",
    "    $$ C H_{4} \\small{\\text{(g)}} + 2 \\space O_{2 } \\small{\\text{(g)}} \\longrightarrow C O_{2} \\small{\\text{(g)}} + 2 \\space H_2 O \\small{\\text{(l)}}: \\quad  -890.3 \\space \\frac{kJ}{mol}$$\n",
    "    \n",
    "5. The **standard heat of reaction**, denoted by $ \\Delta \\hat{H}_r ^{\\circ} $, is the heat of reaction at a specific refrence point, usually $25 ^{\\circ} C$ and $1$ atm."
   ]
  },
  {
   "cell_type": "code",
   "execution_count": null,
   "metadata": {
    "collapsed": true
   },
   "outputs": [],
   "source": []
  }
 ],
 "metadata": {
  "kernelspec": {
   "display_name": "Python 3",
   "language": "python",
   "name": "python3"
  },
  "language_info": {
   "codemirror_mode": {
    "name": "ipython",
    "version": 3
   },
   "file_extension": ".py",
   "mimetype": "text/x-python",
   "name": "python",
   "nbconvert_exporter": "python",
   "pygments_lexer": "ipython3",
   "version": "3.6.1"
  }
 },
 "nbformat": 4,
 "nbformat_minor": 2
}
