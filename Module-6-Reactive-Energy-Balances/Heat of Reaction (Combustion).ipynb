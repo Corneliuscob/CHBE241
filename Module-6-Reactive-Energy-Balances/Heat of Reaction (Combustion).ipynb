{
 "cells": [
  {
   "cell_type": "markdown",
   "metadata": {},
   "source": [
    "# Heat of Reaction (Combustion)\n",
    "\n",
    "## Learning Objectives\n",
    "\n",
    "## Introduction\n",
    "\n",
    "The **heat of reaction**, $\\Delta \\hat{H}_r (T,P) $ is the change in enthalpy for a process in which the quantities of reactants at a temperature and pressure, T and P, react completely in a single reaction to form products.\n",
    "\n",
    "## Overview\n",
    "\n",
    "### Exothermic and Endothermic\n",
    "\n",
    "A simple example we can use to explain the diffrence between **exothermic** and **endothermic** reactions is the burning of hydrogen gas in oxygen.\n",
    "\n",
    "$$ 2 H_{2} \\small{\\text{(g)}} + O_{2 } \\small{\\text{(g)}} \\longrightarrow 2 H_2 O \\small{\\text{(v)}} $$\n",
    "\n",
    "This reaction is **exothermic**. An **exothermic** reaction occurs when the products of the reaction have a lower internal energy. The net energy released, the **heat of reaction**, in this case would be negative and released as heat.\n",
    "\n",
    "If you have the reverse reaction\n",
    "\n",
    "$$ 2 H_2 O \\small{\\text{(v)}} \\longrightarrow 2 H_{2} \\small{\\text{(g)}} + O_{2 } \\small{\\text{(g)}} $$\n",
    "\n",
    "The reaction will be **endothermic**. An **endothermic** reaction occurs when the products of the reaction have a higher internal energy. The net energy released, the **heat of reaction**, in this case would be positive will need heat for the reaction to occur.\n",
    "\n"
   ]
  },
  {
   "cell_type": "code",
   "execution_count": null,
   "metadata": {
    "collapsed": true
   },
   "outputs": [],
   "source": []
  }
 ],
 "metadata": {
  "kernelspec": {
   "display_name": "Python 3",
   "language": "python",
   "name": "python3"
  },
  "language_info": {
   "codemirror_mode": {
    "name": "ipython",
    "version": 3
   },
   "file_extension": ".py",
   "mimetype": "text/x-python",
   "name": "python",
   "nbconvert_exporter": "python",
   "pygments_lexer": "ipython3",
   "version": "3.6.1"
  }
 },
 "nbformat": 4,
 "nbformat_minor": 2
}
