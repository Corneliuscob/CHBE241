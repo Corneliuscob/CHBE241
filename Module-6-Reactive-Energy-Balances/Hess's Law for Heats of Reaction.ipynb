{
 "cells": [
  {
   "cell_type": "markdown",
   "metadata": {},
   "source": [
    "# Hess's Law for Heats of Reaction\n",
    "\n",
    "## Learning Objectives\n",
    "\n",
    "By the end of this section you should be able to:\n",
    "\n",
    "1. Understand the diffrence between path dependence and independence.\n",
    "2. Understand the concept of **Hess's law**.\n",
    "3. Use Hess's law to solve **standard heat of reaction** problems.\n",
    "\n",
    "## Introduction\n",
    "\n",
    "Suppose you wish to determine the **standard heat of reaction** for the reaction\n",
    "\n",
    "$$ C \\small{\\text{(s)}} + \\frac{1}{2} \\space O_2 \\small{\\text{(g)}} \\longrightarrow C O \\small{\\text{(g)}} $$\n",
    "\n",
    "It is very difficult to measure the **standard heat of reaction** for this reaction because if these reactants are at $ 25 ^{\\circ} C$ and $1$ atm, the rate of reaction will be very slow. This makes it impossible to measure the true amount of energy realsed. However, we can use **Hess's law** to find the **standard heat of reaction** for this reaction.\n",
    "\n",
    "## Overview\n",
    "\n",
    "### Path Dependence and Independence\n",
    "\n",
    "Suppose, you and your friend are hiking to the top of a mountain. You choose to hike straight up the mountain while your friend chooses to zig-zag up the mountain. The potential energy gained is **path independant** while the energy you expend is **path dependant**. This is because the potential you gain at the top of the mountain will be the same no matter what route you took, but the energy needed to get to the top of the mountain will vary due to your path.\n",
    "\n",
    "Since **heat of reaction** is a state function, it is path independant. This is why **Hess's law** is works.\n",
    "\n",
    "### Hess's Law\n",
    "\n",
    "Since it is impossible to measure the **standard heat of reaction** for the reaction\n",
    "\n",
    "$$ C \\small{\\text{(s)}} + \\frac{1}{2} \\space O_2 \\small{\\text{(g)}} \\longrightarrow C O \\small{\\text{(g)}} $$\n",
    "\n",
    "we can use **Hess's law** by using other measureable **standard heat of reactions** to solve for the imeasureable quantity. \n",
    "\n",
    "$$ C \\small{\\text{(s)}} + O_2 \\small{\\text{(g)}} \\longrightarrow C O_2 \\small{\\text{(g)}}: \\quad \\Delta \\hat{H}_{r1} ^{\\circ} = -393.51 \\space kJ/mol $$\n",
    "\n",
    "$$C O \\small{\\text{(g)}} + \\frac{1}{2} \\space O_2 \\small{\\text{(g)}} \\longrightarrow C O_2 \\small{\\text{(g)}}: \\quad \\Delta \\hat{H}_{r2} ^{\\circ} = -282.99 \\space kJ/mol $$\n",
    "\n",
    "If we subract reaction one from reaction two, we  will get the first reaction stiochometric and the heat of reaction from that reaction.\n",
    "\n",
    "$$ C \\small{\\text{(s)}} + O_2 \\small{\\text{(g)}} - C O \\small{\\text{(g)}} - \\frac{1}{2} \\space O_2 \\longrightarrow C O_2 \\small{\\text{(g)}} - C O_2 \\small{\\text{(g)}}: \\quad \\Delta \\hat{H}_{r1} ^{\\circ} = ((-393.51) - (-282.99)) \\space kJ/mol $$\n",
    "\n",
    "$$ C \\small{\\text{(s)}} + \\frac{1}{2} \\space O_2 \\small{\\text{(g)}} \\longrightarrow C O \\small{\\text{(g)}}: \\quad \\Delta \\hat{H}_{r1} ^{\\circ} = -110.52 \\space kJ/mol $$"
   ]
  },
  {
   "cell_type": "code",
   "execution_count": null,
   "metadata": {
    "collapsed": true
   },
   "outputs": [],
   "source": []
  }
 ],
 "metadata": {
  "kernelspec": {
   "display_name": "Python 3",
   "language": "python",
   "name": "python3"
  },
  "language_info": {
   "codemirror_mode": {
    "name": "ipython",
    "version": 3
   },
   "file_extension": ".py",
   "mimetype": "text/x-python",
   "name": "python",
   "nbconvert_exporter": "python",
   "pygments_lexer": "ipython3",
   "version": "3.6.1"
  }
 },
 "nbformat": 4,
 "nbformat_minor": 2
}
