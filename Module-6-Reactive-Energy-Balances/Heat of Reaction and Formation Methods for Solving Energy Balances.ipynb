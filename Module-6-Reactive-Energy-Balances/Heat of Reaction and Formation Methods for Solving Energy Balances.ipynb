{
 "cells": [
  {
   "attachments": {},
   "cell_type": "markdown",
   "metadata": {},
   "source": [
    "# Heat of Reaction and Formation Methods for Solving Energy Balances\n",
    "\n",
    "## Learning Objectives\n",
    "\n",
    "By the end of this section you should be able to:\n",
    "\n",
    "\n",
    "\n",
    "## Introduction\n",
    "\n",
    "There are two common methods to solving energy balances. The first is **heat of reaction method**. This method is generally prefered for a single reaction sys where $ \\Delta H_r$ is known. The second method is **heat of formation method**. This method is generally prefered for multiple reactions and systems where $ \\Delta H_r$ is not readily available.\n",
    "\n",
    "## Overview\n",
    "\n",
    "### Heat of Reaction Method\n",
    "\n",
    "There are seven steps to solving an energy balance using the **heat of reaction method**:\n",
    "\n",
    "1. Solve the material balances as much as possible.\n",
    "2. Choose reference states for energy calculations.\n",
    "3. Calculate the extent of reaction for all reactions.\n",
    "4. Prepare the inlet/outlet enthalpy table.\n",
    "5. Calculate Enthalpies.\n",
    "6. Calculate $ \\Delta \\dot{H}$ for the reactor.\n",
    "7. Solve the energy balance.\n",
    "\n",
    "Let's try using this method to solve an energy balance. Suppose you are trying to solve this energy balance:\n",
    "\n",
    "<img src=\"../figures/Module-6/Heat_of_reaction_1.png\" style= \"height:120px\">\n",
    "\n",
    "1. **Solve the material balances as much as possible:**\n",
    "\n",
    "    In this problem, the material balance has already been solved\n",
    "    \n",
    "2. **Choose reference states for energy calculations:**\n",
    "\n",
    "    \n",
    "    \n",
    "3. **Calculate the extent of reaction for all reactions:**\n",
    "    \n",
    "    \n",
    "    \n",
    "4. **Prepare the inlet/outlet enthalpy table:**\n",
    "    \n",
    "    \n",
    "    \n",
    "5. **Calculate Enthalpies:**\n",
    "    \n",
    "    \n",
    "    \n",
    "6. **Calculate $ \\Delta \\dot{H}$ for the reactor:**\n",
    "    \n",
    "    \n",
    "    \n",
    "7. **Solve the energy balance:**\n",
    "    "
   ]
  },
  {
   "cell_type": "code",
   "execution_count": null,
   "metadata": {
    "collapsed": true
   },
   "outputs": [],
   "source": []
  }
 ],
 "metadata": {
  "kernelspec": {
   "display_name": "Python 3",
   "language": "python",
   "name": "python3"
  },
  "language_info": {
   "codemirror_mode": {
    "name": "ipython",
    "version": 3
   },
   "file_extension": ".py",
   "mimetype": "text/x-python",
   "name": "python",
   "nbconvert_exporter": "python",
   "pygments_lexer": "ipython3",
   "version": "3.6.1"
  }
 },
 "nbformat": 4,
 "nbformat_minor": 2
}
