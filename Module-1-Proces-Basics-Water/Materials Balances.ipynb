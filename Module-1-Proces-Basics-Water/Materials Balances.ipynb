{
 "cells": [
  {
   "cell_type": "markdown",
   "metadata": {},
   "source": [
    "# Materials Balances"
   ]
  },
  {
   "cell_type": "markdown",
   "metadata": {},
   "source": [
    "## Introduction\n",
    "There are certain restrictions imposed by nature that must be considered when designing or analyzing a process. For example, you cannot input 1,000 g of lead and output 2000g of lead or gold. Similarly, if you burn 20 kg of wood, you should know that 20 kg of ash and smoke would be the result of the chemical reaction. The basis of these observations is the law of conservation of mass."
   ]
  },
  {
   "cell_type": "markdown",
   "metadata": {},
   "source": [
    "## Overview"
   ]
  },
  {
   "cell_type": "markdown",
   "metadata": {},
   "source": [
    "### The Law of Conservation of Mass\n",
    "The law of conservation of mass states that mass cannot be destroyed or created. We will not be concerned with the almost infinitesimal conversions between mass and energy associated with chemical reactions. This law means that in chemical reactions, the mass of the products will always be equal to the mas of the reactants. This includes anything from fires to acid-base titrations. Therefore, we can use the general balance equation:\n",
    "\n",
    "$$ input + generation - output - consumption = accumulation $$"
   ]
  },
  {
   "cell_type": "markdown",
   "metadata": {
    "collapsed": true
   },
   "source": [
    "### Types of Balances\n",
    "#### 1. Differential Balances\n",
    "Differential balances indicate what is happening in a system at an instant of time and are usually used in a continuous process. Each term of the balance is a rate and has units of the quantity per unit time such as $ \\frac{kg}{s} $.\n",
    "#### 2. Integral Balances \n",
    "Integral balances describe what is happening in a system between two instants of time and are usually used in a batch process. Each term of the equation is an amount of the quantity such as $kg$."
   ]
  },
  {
   "cell_type": "markdown",
   "metadata": {},
   "source": [
    "### Balances on Continuous Steady-State Processes\n",
    "In continuous steady-state processes, the accumulation term in the general balance equation equals zero, and the equation simplifies to\n",
    "\n",
    "$$ input + generation = output + consumption $$\n",
    "\n",
    "If the balance is on a nonreactive process or on total mass, generation and consumption equal zero and the equation further simplifies to\n",
    "\n",
    "$$input = output$$"
   ]
  },
  {
   "cell_type": "markdown",
   "metadata": {},
   "source": [
    "### Integral Balances on Batch Processes\n",
    "Integral balances on batch processes are solved very similarly. Since batch processes don't have continuous inputs and outputs, $generation = accumulation$. Furthermore, the accumulation in the process between $ \\mathbf{t}_0 $ and $ \\mathbf{t}_f $ is simply $ \\mathbf{n}_f - \\mathbf{n}_0 $. Therefore \n",
    "\n",
    "$$ accumulation = final output - initial input $$\n",
    "$$ accumulation = generation - consumption $$\n",
    "\n",
    "Equating these two expressions yields\n",
    "\n",
    "$$ initial \\space input + generation = final \\space output + consumption $$"
   ]
  },
  {
   "cell_type": "markdown",
   "metadata": {},
   "source": [
    "## Problem Statement"
   ]
  },
  {
   "cell_type": "markdown",
   "metadata": {},
   "source": [
    "### Problem 1"
   ]
  },
  {
   "cell_type": "markdown",
   "metadata": {},
   "source": [
    "#### Question\n",
    "One thousand kilograms per hour of a mixture of benzene (B) and toluene (T) containing 50% benzene by mass is separated by distillation into two fractions. The mass flow rate of benzene in the top stream is 450 kg B/h and that of toluene in the bottom stream is 475 kg T/h. The operation is at steady state. Solve for $ \\mathbf{\\dot{m}}_1 $ and $ \\mathbf{\\dot{m}}_2 $\n",
    "\n",
    "![](../figures/Module-1/Continous_balance.jpg)"
   ]
  },
  {
   "cell_type": "markdown",
   "metadata": {},
   "source": [
    "#### Answer by hand\n",
    "Since we know that it is a continuous steady-state non-reactive process, we can use $input = output$.\n",
    "\n",
    "$$ 500 \\space kg \\space B/h = 475 \\space kg \\space B/h + \\mathbf{\\dot{m}}_1  $$\n",
    "\n",
    "$$ \\mathbf{\\dot{m}}_1= 500 \\space kg \\space B/h - 475 \\space kg \\space B/h  $$\n",
    "\n",
    "$$ \\mathbf{\\dot{m}}_1   = 25 \\space kg \\space B/h  $$\n",
    "\n",
    "$$ $$\n",
    "\n",
    "$$ 500 \\space kg \\space B/h = 450 \\space kg \\space B/h + \\mathbf{\\dot{m}}_2  $$\n",
    "\n",
    "$$ \\mathbf{\\dot{m}}_2= 500 \\space kg \\space B/h - 450 \\space kg \\space B/h  $$\n",
    "\n",
    "$$ \\mathbf{\\dot{m}}_2   = 50 \\space kg \\space B/h  $$"
   ]
  },
  {
   "cell_type": "markdown",
   "metadata": {},
   "source": [
    "#### Answer using python"
   ]
  },
  {
   "cell_type": "code",
   "execution_count": 1,
   "metadata": {},
   "outputs": [
    {
     "name": "stdout",
     "output_type": "stream",
     "text": [
      "m1 was found to be: 25 \n",
      "m2 was found to be: 50\n"
     ]
    }
   ],
   "source": [
    "B_in = 500\n",
    "T_in = 500\n",
    "\n",
    "B_out_known = 450\n",
    "T_out_known = 475\n",
    "\n",
    "m1 = T_in - T_out_known\n",
    "m2 = B_in - B_out_known\n",
    "\n",
    "print(\"m1 was found to be:\", m1, \"\\nm2 was found to be:\", m2)"
   ]
  },
  {
   "cell_type": "markdown",
   "metadata": {},
   "source": [
    "### Problem 2 "
   ]
  },
  {
   "cell_type": "markdown",
   "metadata": {},
   "source": [
    "#### Question\n",
    "Two methanol–water mixtures are contained in separate flasks. The first mixture contains\n",
    "40.0 wt% methanol, and the second contains 70.0 wt% methanol. If 200 g of the first mixture is\n",
    "combined with 150 g of the second, what are the mass and composition of the product?\n",
    "\n",
    "![](../figures/Module-1/Batch_balance.jpg)"
   ]
  },
  {
   "cell_type": "markdown",
   "metadata": {},
   "source": [
    "#### Answer by hand\n",
    "Since we know this is a batch non-reactive balance, we can use $ initial \\space input  = final \\space output $\n",
    "\n",
    "$$ 200 \\space g + 150 \\space g = m $$\n",
    "\n",
    "$$ m = 350 \\space g $$\n",
    "\n",
    "$$$$\n",
    "\n",
    "$$ 200 \\space g \\times \\frac{0.400 \\space g \\space \\mathbf{C} \\mathbf{H}_3 \\mathbf{O} \\mathbf{H}}{g} + 150 \\space g \\times \\frac{0.700 \\space g \\space \\mathbf{C} \\mathbf{H}_3 \\mathbf{O} \\mathbf{H}}{g} = m (x) $$\n",
    "\n",
    "$$(350)x = 185$$\n",
    "\n",
    "$$x = 0.529$$\n",
    "\n",
    "$$(1-x) = 0.471 $$\n",
    "\n",
    "Finally, we can test if our values are correct\n",
    "\n",
    "$$(200)(0.600) + (150)(0.300) = (350)(0.471)$$\n",
    "\n",
    "$$ 165 \\space g \\space \\mathbf{H}_2 \\mathbf{O} =  165 \\space g \\space \\mathbf{H}_2 \\mathbf{O} $$"
   ]
  },
  {
   "cell_type": "markdown",
   "metadata": {},
   "source": [
    "#### Answer using python"
   ]
  },
  {
   "cell_type": "code",
   "execution_count": 2,
   "metadata": {},
   "outputs": [
    {
     "name": "stdout",
     "output_type": "stream",
     "text": [
      "m = 350 \n",
      "x = 0.5285714285714286 \n",
      "(1-x) = 0.4714285714285714\n"
     ]
    }
   ],
   "source": [
    "m1 = 200\n",
    "m1_CH3OH = 0.4\n",
    "m1_H20 = 0.6\n",
    "\n",
    "m2 = 150\n",
    "m2_CH3OH = 0.7\n",
    "m2_H20 = 0.3\n",
    "\n",
    "m = m1 + m2\n",
    "x = (m1*m1_CH3OH + m2*m2_CH3OH)/m\n",
    "\n",
    "print(\"m =\", m, \"\\nx =\", x, \"\\n(1-x) =\", (1-x))"
   ]
  },
  {
   "cell_type": "code",
   "execution_count": null,
   "metadata": {
    "collapsed": true
   },
   "outputs": [],
   "source": []
  }
 ],
 "metadata": {
  "kernelspec": {
   "display_name": "Python 3",
   "language": "python",
   "name": "python3"
  },
  "language_info": {
   "codemirror_mode": {
    "name": "ipython",
    "version": 3
   },
   "file_extension": ".py",
   "mimetype": "text/x-python",
   "name": "python",
   "nbconvert_exporter": "python",
   "pygments_lexer": "ipython3",
   "version": "3.6.1"
  }
 },
 "nbformat": 4,
 "nbformat_minor": 2
}
