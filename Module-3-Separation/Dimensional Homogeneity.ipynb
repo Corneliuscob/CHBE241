{
 "cells": [
  {
   "cell_type": "markdown",
   "metadata": {},
   "source": [
    "# Dimensional Homogeneity and Dimensionless Groups"
   ]
  },
  {
   "cell_type": "markdown",
   "metadata": {},
   "source": [
    "## Introduction\n",
    "\n",
    "Quantities can only be added or subtracted between each other if their units are the same. In CHBE 241 (and most other sciences), we need to ensure an equations has quantities of same type of units on both sides. \n",
    "\n",
    "$$ Length = (Length/Time) \\times (Time)$$\n",
    "\n",
    "In this section, we will explore the concept of homogeneity and apply it to chemical equations. An equation could be dimensionally homogenous but invalid if the equation is also not fully-balanced i.e.\n",
    "\n",
    "$$ 2M = M $$\n",
    "\n",
    "is only valid for 1 case of M.\n",
    "\n",
    "**Note**: Dimensions and units are two different things (technically). Dimensions are length, time, distance etc. and units are kilograms ($kg$), Newtons ($N$) etc."
   ]
  },
  {
   "cell_type": "markdown",
   "metadata": {},
   "source": [
    "### Practical examples\n",
    "\n",
    "#### Velocity\n",
    "$$u(m/s) = u_0(m/s) + g(m/{s^2})t(s)$$"
   ]
  },
  {
   "cell_type": "markdown",
   "metadata": {},
   "source": [
    "#### Force \n",
    "$$F(Newtons) = m(kg)a(m/{s^2})$$"
   ]
  },
  {
   "cell_type": "markdown",
   "metadata": {},
   "source": []
  }
 ],
 "metadata": {
  "anaconda-cloud": {},
  "kernelspec": {
   "display_name": "Python [default]",
   "language": "python",
   "name": "python3"
  },
  "language_info": {
   "codemirror_mode": {
    "name": "ipython",
    "version": 3
   },
   "file_extension": ".py",
   "mimetype": "text/x-python",
   "name": "python",
   "nbconvert_exporter": "python",
   "pygments_lexer": "ipython3",
   "version": "3.5.2"
  }
 },
 "nbformat": 4,
 "nbformat_minor": 1
}
