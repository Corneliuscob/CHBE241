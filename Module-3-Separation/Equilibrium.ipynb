{
 "cells": [
  {
   "cell_type": "markdown",
   "metadata": {},
   "source": [
    "# Phase equilibriums (Energy calculations)"
   ]
  },
  {
   "cell_type": "markdown",
   "metadata": {},
   "source": [
    "## Introduction\n",
    "\n",
    "In this section, we will be exploring phase equilibriums and the temperatures and pressures that allow the equilibrium to exist in chemical processes (e.g. boiling points, sublimation points). We will also be factoring in the phase equilibriums in our mass and energy balances for separation cases, such as in a distillation column."
   ]
  },
  {
   "cell_type": "markdown",
   "metadata": {},
   "source": [
    "## Contents\n",
    "\n",
    "- Splitter\n",
    "- Separation\n",
    "- Recycle & Purge\n",
    "- Centrifugation and cyclones\n",
    "- Density and specific gravity\n",
    "- Temperature systems ($K$, $C$, $F$, $R$)\n",
    "- Trend/Curve fitting\n",
    "- **Solid-Liquid Equilibrium**\n",
    "- **Solid-Vapour Equilibrium**\n",
    "- **Liquid-Liquid Equilibrium**\n",
    "\n",
    "---\n"
   ]
  },
  {
   "cell_type": "markdown",
   "metadata": {},
   "source": [
    "### Solid-Liquid Equilibrium"
   ]
  },
  {
   "cell_type": "code",
   "execution_count": null,
   "metadata": {
    "collapsed": true
   },
   "outputs": [],
   "source": []
  }
 ],
 "metadata": {
  "kernelspec": {
   "display_name": "Python [default]",
   "language": "python",
   "name": "python3"
  },
  "language_info": {
   "codemirror_mode": {
    "name": "ipython",
    "version": 3
   },
   "file_extension": ".py",
   "mimetype": "text/x-python",
   "name": "python",
   "nbconvert_exporter": "python",
   "pygments_lexer": "ipython3",
   "version": "3.5.2"
  }
 },
 "nbformat": 4,
 "nbformat_minor": 1
}
