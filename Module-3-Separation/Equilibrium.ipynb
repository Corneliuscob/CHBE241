{
 "cells": [
  {
   "cell_type": "markdown",
   "metadata": {},
   "source": [
    "# Phase equilibriums (Energy calculations)"
   ]
  },
  {
   "cell_type": "markdown",
   "metadata": {},
   "source": [
    "## Introduction\n",
    "\n",
    "In this section, we will be exploring phase equilibriums and the temperatures and pressures that allow the equilibrium to exist in chemical processes (e.g. boiling points, sublimation points). We will also be factoring in the phase equilibriums in our mass and energy balances for separation cases, such as in a distillation column."
   ]
  },
  {
   "cell_type": "markdown",
   "metadata": {},
   "source": [
    "## Contents\n",
    "\n",
    "- Splitter\n",
    "- Separation\n",
    "- Recycle & Purge\n",
    "- Centrifugation and cyclones\n",
    "- Density and specific gravity\n",
    "- Temperature systems ($K$, $C$, $F$, $R$)\n",
    "- Trend/Curve fitting\n",
    "- **Solid-Liquid Equilibrium**\n",
    "- **Solid-Vapour Equilibrium**\n",
    "- **Liquid-Liquid Equilibrium**\n",
    "- **Vapour-Liquid Equilibrium**\n",
    "\n",
    "---\n"
   ]
  },
  {
   "cell_type": "markdown",
   "metadata": {},
   "source": [
    "### Solid-Liquid Equilibrium\n",
    "\n",
    "Solid-Liquid Equilibrium is the point where the temperature and pressure point where a solid and a liquid can co-exist. This is usually the melting or freezing points of a substance. Since a solid is very hard to transport over a process, we usually melt it into liquid form and collect it as a precipitant at the end of the process.\n",
    "\n",
    "---\n"
   ]
  },
  {
   "cell_type": "markdown",
   "metadata": {
    "collapsed": true
   },
   "source": [
    "### Solid-Vapour Equilibrium\n",
    "\n",
    "Solid-Vapour Equilibrium is the temperature and presure point where a solid and a vapour can co-exist. The temperature and pressure point is called the **vaporization** point. \n",
    "\n",
    "---"
   ]
  },
  {
   "cell_type": "markdown",
   "metadata": {},
   "source": [
    "### Liquid-Liquid Equilibrium\n",
    "\n",
    "---"
   ]
  },
  {
   "cell_type": "markdown",
   "metadata": {},
   "source": [
    "### Vapour-Liquid Equilibrium\n",
    "\n",
    "---"
   ]
  },
  {
   "cell_type": "code",
   "execution_count": null,
   "metadata": {
    "collapsed": true
   },
   "outputs": [],
   "source": []
  }
 ],
 "metadata": {
  "anaconda-cloud": {},
  "kernelspec": {
   "display_name": "Python [default]",
   "language": "python",
   "name": "python3"
  },
  "language_info": {
   "codemirror_mode": {
    "name": "ipython",
    "version": 3
   },
   "file_extension": ".py",
   "mimetype": "text/x-python",
   "name": "python",
   "nbconvert_exporter": "python",
   "pygments_lexer": "ipython3",
   "version": "3.5.2"
  }
 },
 "nbformat": 4,
 "nbformat_minor": 1
}
