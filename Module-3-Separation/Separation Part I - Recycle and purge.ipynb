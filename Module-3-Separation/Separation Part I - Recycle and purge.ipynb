{
 "cells": [
  {
   "cell_type": "markdown",
   "metadata": {},
   "source": [
    "# Separation (Part I) - Recycle\n",
    "---\n",
    "\n",
    "### Overview\n",
    "Recycling is an extension of splitters, whereby one of the product streams from the splitter is routed back into a previous process.\n",
    "\n",
    "By the end of this section, you should be able to \n",
    "- Extend the splitter principle to recycle streams and processes\n",
    "- Use conservation of mass to determine the amount of product recycled into the fresh feed stream.\n",
    "\n",
    "### Contents\n",
    "\n",
    "- Splitter\n",
    "- Separation\n",
    "- **Recycle**\n",
    "- Purge\n",
    "- Process and Instrumentation Diagram (P&ID)\n",
    "- Centrifugation and cyclones\n",
    "- Dimensional Homogeneity\n",
    "- Density and specific gravity\n",
    "- Solid-Liquid Equilibrium\n",
    "- Temperature systems ($K$, $C$, $F$, $R$)\n",
    "- Trend/Curve fitting\n",
    "- Solid-Vapour Equilibrium\n",
    "- Liquid-Liquid Equilibrium"
   ]
  },
  {
   "cell_type": "markdown",
   "metadata": {},
   "source": [
    "## Recylce stream\n",
    "\n",
    "---\n",
    "\n",
    "![Figure 1.](http://d2vlcm61l7u1fs.cloudfront.net/media%2F491%2F49119549-6428-4c67-961c-a58661ee0c48%2FphpHx6kxt.png)"
   ]
  },
  {
   "cell_type": "markdown",
   "metadata": {},
   "source": [
    "So even with a recycle stream, the methodology of solving the problem is largely the same. We just need to take into account the return of certain chemicals to the feed stream of any of the previous processes. \n",
    "\n",
    "(**Note**: Disregards the purge stream for the moment, we can come back to that in the next section)\n",
    "\n",
    "### Steps to solve\n",
    "\n",
    "1. If the input stream does not have a flow rate listed in the question or the diagram, assume a mass or volumteric flow rate of a random number, preferrably a mass flow rate with a nice round number like 100 $kg/h$. \n",
    "$$$$\n",
    "2. Draw and label the flow chart based on the question. **Note:** The masses from the fresh feed are conserved and mixed with the recycle stream, giving different fractional compositions. We will **not** be considering chemical reactions between constrituents of the fresh feed and reactor feed.\n",
    "$$$$\n",
    "3. Write expressions for the quantities requested in the problem statement. (e.g. $m_3$ = $m_{B3}$ + $m_{T3}$, $x_B$ = $m_{B3}/m_3$). The expressions should be written to help in solving for the missing parameters of the process.\n",
    "$$$$\n",
    "4. Convert all mixed units to one uniform units (**elaborate**). In most cases, it would be converting all the units to masses. A few methods to remember to use are:\n",
    "    1. Molecular weights.\n",
    "    2. Molecular fractions.\n",
    "$$$$\n",
    "5. Perform a degree-of-freedom analysis on the process to determine if it is solvable. \n",
    "$$$$\n",
    "6. **Do the algebra.** "
   ]
  },
  {
   "cell_type": "markdown",
   "metadata": {
    "collapsed": true
   },
   "source": [
    "## Purge Stream \n",
    "---"
   ]
  },
  {
   "cell_type": "markdown",
   "metadata": {},
   "source": [
    "Referencing the previous diagram again, the purge stream is just other product stream from the splitter coming out of the separator (**Add a label**)."
   ]
  }
 ],
 "metadata": {
  "anaconda-cloud": {},
  "kernelspec": {
   "display_name": "Python [default]",
   "language": "python",
   "name": "python3"
  },
  "language_info": {
   "codemirror_mode": {
    "name": "ipython",
    "version": 3
   },
   "file_extension": ".py",
   "mimetype": "text/x-python",
   "name": "python",
   "nbconvert_exporter": "python",
   "pygments_lexer": "ipython3",
   "version": "3.5.2"
  }
 },
 "nbformat": 4,
 "nbformat_minor": 1
}
