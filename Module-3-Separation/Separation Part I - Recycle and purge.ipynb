{
 "cells": [
  {
   "cell_type": "markdown",
   "metadata": {},
   "source": [
    "# Recylce and purge\n",
    "---\n",
    "\n",
    "### Overview\n",
    "Recycle and purge streams are an extension of splitter streams, whereby one of the product streams from the splitter is routed back into a previous process as a recycle stream and one is directed out of the process as a purge stream.\n",
    "\n",
    "The purpose of a recylce stream is to take unreacted reactants and reuse them, ensuring the highest process efficiency possible. Purge streams are necessary to ensure there is little to no accumulation in the system from the recycle stream feeding back into the fresh feed, preventing dilution of reactants due to waste chemicals. \n",
    "\n",
    "By the end of this section, you should be able to \n",
    "- Extend the splitter principle to recycle and purge streams\n",
    "- Use conservation of mass to determine the amount of product recycled into the fresh feed stream and how much leaves the system.\n",
    "\n",
    "### Contents\n",
    "\n",
    "- Splitter\n",
    "- Separation\n",
    "- **Recycle & Purge**\n",
    "- Centrifugation and cyclones\n",
    "- Density and specific gravity\n",
    "- Solid-Liquid Equilibrium\n",
    "- Temperature systems ($K$, $C$, $F$, $R$)\n",
    "- Trend/Curve fitting\n",
    "- Solid-Vapour Equilibrium\n",
    "- Liquid-Liquid Equilibrium"
   ]
  },
  {
   "cell_type": "markdown",
   "metadata": {},
   "source": [
    "---\n",
    "\n",
    "![Figure 1.](http://d2vlcm61l7u1fs.cloudfront.net/media%2F491%2F49119549-6428-4c67-961c-a58661ee0c48%2FphpHx6kxt.png)"
   ]
  },
  {
   "cell_type": "markdown",
   "metadata": {},
   "source": [
    "So even with a recycle stream, the methodology of solving the problem is largely the same. We just need to take into account the return of certain chemicals to the feed stream of any of the previous processes. "
   ]
  },
  {
   "cell_type": "markdown",
   "metadata": {},
   "source": [
    "### Steps to solve\n",
    "\n",
    "1. If the **fresh feed** stream does not have a flow rate listed in the question or the diagram, assume a mass or molecular flow rate of a random number, preferrably a mass flow rate with a nice round number like 100 $kg/h$ or 100 $mol/hr$. We **cannot** assume a basis for the reactor feed, since it will depend on the sum of the fresh feed and the recylce stream.\n",
    "$$$$\n",
    "2. Draw and label the flow chart based on the question. We will **not** be considering chemical reactions between constrituents of the fresh feed and reactor feed in the feed streams, only when they're in the reactor.\n",
    "$$$$\n",
    "3. Write expressions for the quantities requested in the problem statement. (e.g. $m_3$ = $m_{B3}$ + $m_{T3}$, $x_B$ = $m_{B3}/m_3$). The expressions should be written to help in solving for the missing parameters of the process.\n",
    "$$$$\n",
    "4. Perform a degree-of-freedom analysis on the process to determine if it is solvable. \n",
    "$$$$\n",
    "5. Convert all mixed units to one uniform units. In most cases, it would be converting all the units to masses, but in the case of reactive systems, you'd want to convert them to moles per unit time.\n",
    "$$$$\n",
    "6. **Do the algebra.** "
   ]
  },
  {
   "cell_type": "markdown",
   "metadata": {},
   "source": [
    "# Works cited"
   ]
  },
  {
   "cell_type": "code",
   "execution_count": null,
   "metadata": {
    "collapsed": true
   },
   "outputs": [],
   "source": []
  }
 ],
 "metadata": {
  "anaconda-cloud": {},
  "kernelspec": {
   "display_name": "Python [default]",
   "language": "python",
   "name": "python3"
  },
  "language_info": {
   "codemirror_mode": {
    "name": "ipython",
    "version": 3
   },
   "file_extension": ".py",
   "mimetype": "text/x-python",
   "name": "python",
   "nbconvert_exporter": "python",
   "pygments_lexer": "ipython3",
   "version": "3.5.2"
  }
 },
 "nbformat": 4,
 "nbformat_minor": 1
}
