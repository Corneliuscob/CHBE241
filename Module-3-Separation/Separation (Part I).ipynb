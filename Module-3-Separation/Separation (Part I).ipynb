{
 "cells": [
  {
   "cell_type": "markdown",
   "metadata": {},
   "source": [
    "# Separation (Part I)\n",
    "---\n",
    "\n",
    "### Overview\n",
    "Separation is essential in chemical processes, maybe it's purifying the end products or fractioning a mixture into it's constituents for recycling or different reactions. \n",
    "\n",
    "### Contents\n",
    "\n",
    "- Splitter\n",
    "- Recycle\n",
    "- Purge\n",
    "- Process and Instrumentation Diagram (P&ID)\n",
    "- Centrifugation and cyclones\n",
    "- Dimensional Homogeneity\n",
    "- Density and specific gravity\n",
    "- Solid-Liquid Equilibrium\n",
    "- Temperature systems ($K$, $C$, $F$, $R$)\n",
    "- Trend/Curve fitting\n",
    "- Solid-Vapour Equilibrium\n",
    "- Liquid-Liquid Equilibrium\n",
    "\n"
   ]
  },
  {
   "cell_type": "markdown",
   "metadata": {},
   "source": [
    "## Splitter\n",
    "---"
   ]
  },
  {
   "cell_type": "markdown",
   "metadata": {},
   "source": [
    "![Figure 1.](../figures/SplitterExample.png)\n",
    "<div style=\"text-align:center\">Figure 1.</div>"
   ]
  },
  {
   "cell_type": "markdown",
   "metadata": {},
   "source": [
    "Figure 1. is the block flow diagram for a splitter. The purpose of the \n",
    "\n",
    "#### Noteworthy:\n",
    "\n",
    "1. A volumetric flow rate is given for the feed stream, but mass flow rates and fractions will\n",
    "be needed for balances. The mass flow rate of the stream should therefore be considered\n",
    "an unknown process variable and labeled as such on the chart. Its value will be determined\n",
    "from the known volumetric flow rate and density of the feed stream.\n",
    "\n",
    "2. Since mass balances will be written, the given component mole fractions in the overhead\n",
    "product stream will have to be converted to mass fractions. The mass fractions are accordingly\n",
    "labeled as unknowns.\n",
    "\n",
    "3. We could have labeled the mass flow rate and mass fractions of the bottom stream as we did\n",
    "the overhead. However, since we have no information about either the flow rate or composition\n",
    "of this stream, we have instead labeled the component flow rates (following the rule\n",
    "of thumb given in Step 2 of the general procedure).\n",
    "\n",
    "4. Every component mass flow rate in every process stream can be expressed in terms of labeled\n",
    "quantities and variables. (Verify this statement.) For example, the flow rates of toluene (kg\n",
    "T/h) in the feed, overhead, and bottom streams are, respectively, 0.55 , (1 ), and\n",
    ". The flowchart is therefore labeled completely.\n",
    "\n",
    "5. The 8%–92% benzene split between the product streams is not a stream flow rate or composition\n",
    "variable; nevertheless, we write it on the chart to remind ourselves that it is an additional\n",
    "relation among the stream variables and so should be included in the degree-of-freedom\n",
    "analysis."
   ]
  },
  {
   "cell_type": "markdown",
   "metadata": {},
   "source": [
    "## Works cited"
   ]
  }
 ],
 "metadata": {
  "anaconda-cloud": {},
  "kernelspec": {
   "display_name": "Python [default]",
   "language": "python",
   "name": "python3"
  },
  "language_info": {
   "codemirror_mode": {
    "name": "ipython",
    "version": 3
   },
   "file_extension": ".py",
   "mimetype": "text/x-python",
   "name": "python",
   "nbconvert_exporter": "python",
   "pygments_lexer": "ipython3",
   "version": "3.5.2"
  }
 },
 "nbformat": 4,
 "nbformat_minor": 1
}
