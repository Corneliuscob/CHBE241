{
 "cells": [
  {
   "cell_type": "markdown",
   "metadata": {},
   "source": [
    "# Hey, trying out the Markdown cells. This will be the trial for CHEM 154 material\n",
    "\n",
    "#### This notebook aims to help Victor with self-teaching. And self-help. And therapy.\n",
    "\n",
    "$$ 2y^{-2} + 3xe^2 = z $$"
   ]
  },
  {
   "cell_type": "markdown",
   "metadata": {},
   "source": [
    "#### Trial chem equations\n",
    "\n",
    "$$HCO^{-3} + OH^{-1} \\longrightarrow I dunno$$"
   ]
  },
  {
   "cell_type": "markdown",
   "metadata": {},
   "source": [
    "### The following are topics from the standard CHEM 154 syllabus (2016W) that we will be reviewing in this Notebook. No, you don't need to remember everything from CHEM 154. Yet. Lmao.\n",
    "---"
   ]
  },
  {
   "cell_type": "markdown",
   "metadata": {},
   "source": [
    "#### Reaction stoichiometry (Ch 4)\n",
    "\n",
    "#### Bulk Properties of Matter (Ch 12)\n",
    "Gases; Liquids; Phase Diagrams.\n",
    "\n",
    "#### Intermolecular Interactions (Ch 10, redacted)\n",
    "Phase transitions & vapour/liquid equilibrium calculation.\n",
    "\n",
    "#### Thermochemistry and Thermodynamics (Ch 7, Ch 19 )\n",
    "First Law; Enthalpy; Standard State; Calorimetry; Hess's Law; Kirchoff's law; Standard Enthalpy of Formation; Entropy; Spontaneity in Chemical Reactions; Second Law; Third Law; Gibbs Free Energy; Spontaneity and Approach to Equilibrium."
   ]
  },
  {
   "cell_type": "markdown",
   "metadata": {},
   "source": [
    "## Reaction Stoichiometry\n",
    "\n",
    "Reaction stoichiometry allows us to determine the amount of substance that is consumed or produced by a reaction. Think of a molecule's molecular equation, such as \n",
    "\n",
    "$$SO_{2(g)}$$ \n",
    "\n",
    "as the ratio of stuff in the molecule. In this case it would be 1 sulphur atom to 2 oxygen atoms in this sulfur dioxide molecule.\n",
    "\n",
    "Now stoichiometry is the theory of this proportion applied to chemical equations. Think of it as a mathematical equation where everything on the left has to equal everything on the left ($2 = 1 + 1$). \n",
    "\n",
    "Coefficients in chemistry act the same as coefficients in math, multiplying everything in the molecular equation by the coefficient to represent the total number of atoms at play.\n",
    "\n",
    "Building on the sulfur dioxide example, the production of sulfur dioxide is essential in the production of fertilizers, metal processing and cocaine. \n",
    "\n",
    "Many metal ores occur as sulfides and are roasted to form an oxide and sulfur dioxide, for example, in the manufacture of lead: \n",
    "\n",
    "$$2PbS_{(s)} + 3O_{2(g)} \\longrightarrow 2PbO_{s} + 2SO_{2(g)} $$\n",
    "\n",
    "This equation indicates that for every 2 molecules (g-moles, lb-moles) of $PbS$ that react/3 molecules\n",
    "(g-mole, lb-mole) of $O_2$ reacts to produce 2 molecules (g-moles, lb-moles) of $PbO$ and 2 molecules of $SO_2$. \n",
    "\n",
    "The numbers that precede the formulas for each species are the stoichiometric coefficients of the reaction\n",
    "components. Overall, it is akin to making the equation say\n",
    "\n",
    "$$2 Pb\\mkern8ptatoms + 2 S \\mkern8ptatoms + 6O\\mkern8pt  atoms = 2Pb \\mkern8pt atoms + 2 O \\mkern8pt atoms + 2 S \\mkern8pt atoms + 4 O atoms$$\n",
    "\n",
    "(if we \"multiply out\" the molecular equations)\n",
    "\n",
    "Note that the total number of atoms on the left equal the number on the right. Knowing the total number of atoms in the reactant and product side of the equation allows us to then use their respective molar masses to find the total mass of the reactants or products. \n",
    "\n",
    "### Steps in balancing reaction stoichiometry\n",
    "\n",
    "Let's use the previous example of $2PbS_{(s)} + 3O_{2(g)} $ to explore blancing a reaction. We usually don't get pre-balanced equations, so when we are asked what is the equation of the reaction of lead sulfide and oxygen, we start off with $PbS$ and $O_2$\n",
    "\n",
    "&nbsp; &nbsp; 1. In the first step, write out the reaction.\n",
    "\n",
    "$$PbS_{(s)} + O_{2(g)} \\longrightarrow PbO_{(s)} + SO_{2(g)} $$\n",
    "\n",
    "&nbsp; &nbsp; 2. Give each molecule an unknown coefficient.\n",
    "\n",
    "$$(a)PbS_{(s)} + (b)O_{2(g)} \\longrightarrow (c)PbO_{(s)} + (d)SO_{2(g)} $$\n",
    "\n",
    "&nbsp; &nbsp; 3. Balance the coefficients based on the atoms found in the chemical equation\n",
    "\n",
    "$$(a)PbS_{(s)} + (b)O_{2(g)} \\longrightarrow (c)PbO_{(s)} + (d)SO_{2(g)} $$\n",
    "\n",
    "$$Pb: a  = c $$\n",
    "$$S: a = d $$\n",
    "$$O: 2b = c + 2d $$\n",
    "\n",
    "Notice that in this case, we cannot solve for all the unknowns, since we only have 3 equations but 4 unknowns (You will use this method to determine if material or energy balances can be solved later in the course).\n",
    "\n",
    "In this case, we solve for equality between 2 coefficients\n",
    "\n",
    "$$ 2b = a + 2a $$\n",
    "$$ 2b = 3a $$\n",
    "$$ b = {3/2}a $$\n",
    "\n",
    "We then choose a \"basis\", a random number for 'a' that will then give us all the subsequent coefficients of 'b', 'c' and 'd'. \n",
    "\n",
    "$$ a = 1 $$\n",
    "$$ b = {3/2} $$\n",
    "$$ c = 1 $$\n",
    "$$ d = 1 $$ \n",
    "\n",
    "$$PbS_{(s)} + {3/2}O_{2(g)} \\longrightarrow PbO_{(s)} + (d)SO_{2(g)} $$"
   ]
  },
  {
   "cell_type": "code",
   "execution_count": 2,
   "metadata": {
    "collapsed": false
   },
   "outputs": [],
   "source": [
    "from ipywidgets import widgets \n",
    "from ipywidgets import interact\n",
    "from IPython.display import display\n",
    "import numpy as np\n",
    "import matplotlib.pyplot as plt\n",
    "%matplotlib inline  \n",
    "text = widgets.Text()\n",
    "display(text)\n",
    "\n",
    "\n",
    "def handle_submit(sender):\n",
    "    print(text.value)\n",
    "\n",
    "text.on_submit(handle_submit)"
   ]
  },
  {
   "cell_type": "code",
   "execution_count": 3,
   "metadata": {
    "collapsed": false,
    "scrolled": true
   },
   "outputs": [
    {
     "data": {
      "text/plain": [
       "'Hello there'"
      ]
     },
     "metadata": {},
     "output_type": "display_data"
    },
    {
     "data": {
      "text/plain": [
       "<function __main__.anotherfunction>"
      ]
     },
     "execution_count": 3,
     "metadata": {},
     "output_type": "execute_result"
    }
   ],
   "source": [
    "#Trial widget (Slider)\n",
    "\n",
    "from __future__ import print_function\n",
    "from ipywidgets import interact, interactive, fixed, interact_manual\n",
    "import ipywidgets as widgets\n",
    "\n",
    "def f(x,y):\n",
    "    return (x,y)\n",
    "\n",
    "def anotherfunction (z):\n",
    "    return z\n",
    "\n",
    "interact(f,x=['apple', 'orange'], y = True);\n",
    "interact(anotherfunction, z = 'Hello there')"
   ]
  },
  {
   "cell_type": "code",
   "execution_count": 4,
   "metadata": {
    "collapsed": false
   },
   "outputs": [],
   "source": [
    "#Trial widget (Button)\n",
    "\n",
    "button_true = widgets.Button(description = \"True\")\n",
    "button_false = widgets.Button(description = \"False\")\n",
    "display(button_true)\n",
    "display (button_false)\n",
    "\n",
    "def on_button_clicked(b):\n",
    "    print(\"This is correct; it is true\")\n",
    "def on_button_clicked_fail(b):\n",
    "    print(\"Uh oh; this is false\")\n",
    "\n",
    "button_true.on_click(on_button_clicked)\n",
    "button_false.on_click(on_button_clicked_fail)"
   ]
  },
  {
   "cell_type": "code",
   "execution_count": null,
   "metadata": {
    "collapsed": true
   },
   "outputs": [],
   "source": []
  }
 ],
 "metadata": {
  "anaconda-cloud": {},
  "kernelspec": {
   "display_name": "Python [default]",
   "language": "python",
   "name": "python3"
  },
  "language_info": {
   "codemirror_mode": {
    "name": "ipython",
    "version": 3
   },
   "file_extension": ".py",
   "mimetype": "text/x-python",
   "name": "python",
   "nbconvert_exporter": "python",
   "pygments_lexer": "ipython3",
   "version": "3.5.2"
  },
  "widgets": {
   "state": {
    "5a2bd71c73f54a6b8e139650fd7036a9": {
     "views": [
      {
       "cell_index": 6
      }
     ]
    },
    "914d243f0ac243ed9e454023d68c06e0": {
     "views": [
      {
       "cell_index": 7
      }
     ]
    },
    "b2d26befee4b4efebadb3cbc310376ae": {
     "views": [
      {
       "cell_index": 7
      }
     ]
    },
    "b9d7baf1df384dc497280598a1317ea5": {
     "views": [
      {
       "cell_index": 5
      }
     ]
    },
    "eb879e7347da4e2abe5917c4b1d0117a": {
     "views": [
      {
       "cell_index": 6
      }
     ]
    }
   },
   "version": "1.2.0"
  }
 },
 "nbformat": 4,
 "nbformat_minor": 1
}
