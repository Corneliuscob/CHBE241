{
 "cells": [
  {
   "cell_type": "markdown",
   "metadata": {},
   "source": [
    "# Hey, trying out the Markdown cells. This will be the trial for CHEM 154 material\n",
    "\n",
    "#### This notebook aims to help Victor with self-teaching. And self-help. And therapy.\n",
    "\n",
    "$$ 2y^{-2} + 3xe^2 = z $$"
   ]
  },
  {
   "cell_type": "markdown",
   "metadata": {},
   "source": [
    "### Overview of Chem 154"
   ]
  },
  {
   "cell_type": "markdown",
   "metadata": {},
   "source": [
    "    1. First list item\n",
    "    2. Second list item"
   ]
  },
  {
   "cell_type": "markdown",
   "metadata": {},
   "source": [
    "#### Trial chem equations\n",
    "\n",
    "$$HCO^{-3} + OH^{-1} \\longrightarrow I dunno$$"
   ]
  },
  {
   "cell_type": "markdown",
   "metadata": {},
   "source": [
    "### Reaction stoichiometry (Ch 4)\n",
    "\n",
    "### Periodicity (Ch 9)\n",
    "Electronic Configurations of the Elements; periodic trends including atomic/ion sizes, ionization energies, electron affinity, electronegativity\n",
    "\n",
    "### Bulk Properties of Matter (Ch 12)\n",
    "Gases; Liquids; Phase Diagrams\n",
    "\n",
    "### Intermolecular Interactions (Ch 10)\n",
    "Bond Polarity; Bond Lengths; Molecular Polarity; Intermolecular Forces; van der Waals eqn of state; Lennard-Jones potential; dispersion forces; phase transitions & vapour/liquid equilibrium calculation\n",
    "\n",
    "### Principles of Chemical Equilibrium:(Ch 15, Ch 16, Ch 17 and Ch 18)\n",
    "Solubility Equilibria; Acid-Base Theories; Acid-Base Equilibria; buffers; activity; TX & PX phase diagrams; due-point calculation\n",
    "\n",
    "### Thermochemistry and Thermodynamics (Ch 7, Ch 19 )\n",
    "First Law; Enthalpy; Standard State; Calorimetry; Hess's Law; Kirchoff's law; Standard Enthalpy of Formation; Entropy; Spontaneity in Chemical Reactions; Second Law; Third Law; Gibbs Free Energy; Spontaneity and Approach to Equilibrium\n",
    "\n",
    "### Kinetics (Ch 14)\n",
    "Rate equation; zero, first and psuedo-first order; equilibrium; maximum conversion; catalysis\n",
    "\n",
    "### Electrochemistry: Batteries, Corrosion, Fuel Cells and Membrane Potentials (Ch 20)\n",
    "Redox processes; Electrochemical cells; Nernst Equation; Applications of Electrochemical cells\n",
    "\n"
   ]
  },
  {
   "cell_type": "code",
   "execution_count": 1,
   "metadata": {
    "collapsed": false
   },
   "outputs": [
    {
     "name": "stdout",
     "output_type": "stream",
     "text": [
      "Sumbit\n",
      "Sumbit 2\n"
     ]
    }
   ],
   "source": [
    "from ipywidgets import widgets \n",
    "from ipywidgets import interact\n",
    "from IPython.display import display\n",
    "import numpy as np\n",
    "import matplotlib.pyplot as plt\n",
    "%matplotlib inline  \n",
    "text = widgets.Text()\n",
    "display(text)\n",
    "\n",
    "\n",
    "def handle_submit(sender):\n",
    "    print(text.value)\n",
    "\n",
    "text.on_submit(handle_submit)"
   ]
  },
  {
   "cell_type": "code",
   "execution_count": 10,
   "metadata": {
    "collapsed": false,
    "scrolled": true
   },
   "outputs": [
    {
     "data": {
      "text/plain": [
       "'What'"
      ]
     },
     "metadata": {},
     "output_type": "display_data"
    }
   ],
   "source": [
    "#Trial widget (Slider)\n",
    "\n",
    "from __future__ import print_function\n",
    "from ipywidgets import interact, interactive, fixed, interact_manual\n",
    "import ipywidgets as widgets\n",
    "\n",
    "def f(x,y):\n",
    "    return (x,y)\n",
    "\n",
    "def anotherfunction (z):\n",
    "    return z\n",
    "\n",
    "interact(f,x=['apple', 'orange'], y = True);\n",
    "interact(anotherfunction, z = 'Hello there')"
   ]
  },
  {
   "cell_type": "code",
   "execution_count": 3,
   "metadata": {
    "collapsed": false
   },
   "outputs": [
    {
     "name": "stdout",
     "output_type": "stream",
     "text": [
      "This is correct; it is true\n",
      "Uh oh; this is false\n"
     ]
    }
   ],
   "source": [
    "#Trial widget (Button)\n",
    "\n",
    "button_true = widgets.Button(description = \"True\")\n",
    "button_false = widgets.Button(description = \"False\")\n",
    "display(button_true)\n",
    "display (button_false)\n",
    "\n",
    "def on_button_clicked(b):\n",
    "    print(\"This is correct; it is true\")\n",
    "def on_button_clicked_fail(b):\n",
    "    print(\"Uh oh; this is false\")\n",
    "\n",
    "button_true.on_click(on_button_clicked)\n",
    "button_false.on_click(on_button_clicked_fail)"
   ]
  },
  {
   "cell_type": "code",
   "execution_count": null,
   "metadata": {
    "collapsed": true
   },
   "outputs": [],
   "source": []
  }
 ],
 "metadata": {
  "anaconda-cloud": {},
  "kernelspec": {
   "display_name": "Python [default]",
   "language": "python",
   "name": "python3"
  },
  "language_info": {
   "codemirror_mode": {
    "name": "ipython",
    "version": 3
   },
   "file_extension": ".py",
   "mimetype": "text/x-python",
   "name": "python",
   "nbconvert_exporter": "python",
   "pygments_lexer": "ipython3",
   "version": "3.5.2"
  },
  "widgets": {
   "state": {
    "45511f6f7e1d4a6b94ea35f5671999a2": {
     "views": [
      {
       "cell_index": 7
      }
     ]
    },
    "681d1b3376f44292a525c45443cd4882": {
     "views": [
      {
       "cell_index": 5
      }
     ]
    },
    "79702e6cf11440498ae1619c85689a51": {
     "views": [
      {
       "cell_index": 6
      }
     ]
    },
    "7f3e6387051d47d1ba3ffaba795cd9ec": {
     "views": [
      {
       "cell_index": 7
      }
     ]
    },
    "87b8fa472a1a4701a748d760af874695": {
     "views": [
      {
       "cell_index": 6
      }
     ]
    },
    "d6b23d37e25d4f3d85820a91768c3306": {
     "views": [
      {
       "cell_index": 6
      }
     ]
    },
    "d7af244bd59747b99c7b58c697f0c52d": {
     "views": [
      {
       "cell_index": 6
      }
     ]
    }
   },
   "version": "1.2.0"
  }
 },
 "nbformat": 4,
 "nbformat_minor": 1
}
