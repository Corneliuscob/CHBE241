{
 "cells": [
  {
   "cell_type": "markdown",
   "metadata": {},
   "source": [
    "# Types of Processes\n",
    "\n",
    "# Introduction\n",
    "\n",
    "Chemical processes can all be classified as:\n",
    "__Batch__, __Continuous-flow__, and  __Semi-batch__ and as __steady-state__ or __transient__ (unsteady-state). This notebook will cover the first three classifications. "
   ]
  },
  {
   "cell_type": "markdown",
   "metadata": {},
   "source": [
    "## Batch Processes\n",
    "\n",
    "> All reactants fed to the reactor at the beginning of the process and the products are removed when the reaction is complete. No reactants are fed to the reactor and no product is removed during the process.\n",
    "\n",
    "> *Note* The textbook refers to this as \"no mass crossing the system boundaries\" "
   ]
  },
  {
   "cell_type": "markdown",
   "metadata": {
    "collapsed": true
   },
   "source": [
    "### Example: \n",
    "\n",
    ">Many pharmaceutical drugs are created in batch processes as they are __easy to control__ and have low risk of __contamination__."
   ]
  },
  {
   "cell_type": "markdown",
   "metadata": {},
   "source": [
    "## Continuous flow processes\n",
    "\n",
    ">Continuous flow processes are where the inputs and outputs of the reactor flow at a constant rate"
   ]
  },
  {
   "cell_type": "markdown",
   "metadata": {},
   "source": [
    "### A continuous flow process example\n",
    "Zoloft is a anti-depressant drug developed by Pfizer. \n",
    "![](img/Zoloft-process.png)\n",
    "1-naph-thol, and 1,2-dichlorobenzene are reacted with various catalysts then hydrogenated over a Pt/CaCO3 catalyst to form the drug.\n",
    "\n",
    "<table>\n",
    "<th style=\"width: 60%;vertical-align: top;\">\n",
    "<p style = \" padding-top: 15px\">The continuous reactor takes in the substrate marked 1a above, hydrogen and carbon dioxide. and outputs the product (Zoloft) and the carbon dioxide.</p>\n",
    "<p>The flow rates given are:\n",
    "CO2=1.0 mL*min<sup>-1</sup>, organic = 0.4 mL min*<sup>-1</sup></p>\n",
    "\n",
    "<p><i>Question:</i> Is it possible to determine the output flow?</p>\n",
    "<p><i>Answer:</i> No. Since volume is not a conserved property, there is not enough information here to determine the output flow </p>\n",
    "</th>\n",
    "\n",
    "<th><img src=\"img/continuous-flow-process.png\" alt=\"\" style=\"height:200px;\"></th>\n",
    "\n",
    "</table>\n"
   ]
  },
  {
   "cell_type": "code",
   "execution_count": 14,
   "metadata": {
    "hide_input": true,
    "scrolled": true
   },
   "outputs": [
    {
     "data": {
      "application/vnd.jupyter.widget-view+json": {
       "model_id": "be7e77fe061e4ac4a4ee17e86e7cd992"
      }
     },
     "metadata": {},
     "output_type": "display_data"
    }
   ],
   "source": [
    "from ipywidgets import widgets \n",
    "from IPython.display import display\n",
    "\n",
    "button_show = widgets.Button(description = \"See answer\")\n",
    "display(button_show)\n",
    "\n",
    "def on_button_clicked(b):\n",
    "    print(\"No. Since volume is not a conserved property, there is not enough information here to determine the output flow\")\n",
    "\n",
    "\n",
    "button_show.on_click(on_button_clicked)\n"
   ]
  },
  {
   "cell_type": "markdown",
   "metadata": {
    "collapsed": true
   },
   "source": [
    "## Semi-Batch Processes\n",
    "\n",
    "> A semi-batch process is when reactants are periodically added or products are periodically removed. \n",
    "The textbook defines Semi-batch processes as \"neither batch nor continuous\""
   ]
  },
  {
   "cell_type": "code",
   "execution_count": null,
   "metadata": {},
   "outputs": [],
   "source": []
  },
  {
   "cell_type": "code",
   "execution_count": null,
   "metadata": {
    "collapsed": true
   },
   "outputs": [],
   "source": []
  }
 ],
 "metadata": {
  "celltoolbar": "Edit Metadata",
  "kernelspec": {
   "display_name": "Python 3",
   "language": "python",
   "name": "python3"
  },
  "language_info": {
   "codemirror_mode": {
    "name": "ipython",
    "version": 3
   },
   "file_extension": ".py",
   "mimetype": "text/x-python",
   "name": "python",
   "nbconvert_exporter": "python",
   "pygments_lexer": "ipython3",
   "version": "3.6.1"
  }
 },
 "nbformat": 4,
 "nbformat_minor": 2
}
