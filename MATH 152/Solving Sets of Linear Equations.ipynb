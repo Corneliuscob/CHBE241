{
 "cells": [
  {
   "cell_type": "markdown",
   "metadata": {},
   "source": [
    "# Sloving Sets of Linear Equations"
   ]
  },
  {
   "cell_type": "markdown",
   "metadata": {},
   "source": [
    "## By Hand"
   ]
  },
  {
   "cell_type": "markdown",
   "metadata": {},
   "source": [
    "### Substitution method for solving linear systems"
   ]
  },
  {
   "cell_type": "markdown",
   "metadata": {},
   "source": [
    "The one of the simplist methods to solve a system of linear equations is the subsitition method. The substition method functions by substituting one of the y or x values for another. Here is an example:"
   ]
  },
  {
   "cell_type": "markdown",
   "metadata": {},
   "source": [
    "$$ y = 2x + 4 $$\n",
    "$$ 3x + y = 9 $$"
   ]
  },
  {
   "cell_type": "markdown",
   "metadata": {},
   "source": [
    "We can now subtitute the y in the first equation into the second equation and solve."
   ]
  },
  {
   "cell_type": "markdown",
   "metadata": {},
   "source": [
    "$$ 3x + (2x + 4) = 9 $$\n",
    "$$ 5x = 5 $$\n",
    "$$ x = 1 $$"
   ]
  },
  {
   "cell_type": "markdown",
   "metadata": {},
   "source": [
    "Finally we can sove for y using x."
   ]
  },
  {
   "cell_type": "markdown",
   "metadata": {},
   "source": [
    "$$ y = 2(1) + 4 $$\n",
    "$$ y = 6 $$"
   ]
  },
  {
   "cell_type": "markdown",
   "metadata": {},
   "source": [
    "### Row reduction method for solving linear systems"
   ]
  },
  {
   "cell_type": "markdown",
   "metadata": {},
   "source": [
    "A more complicated but more practical method to solve large matricies is row reduction. There are four main rules to matrix manipulation:\n",
    "\n",
    "1. Multiply a row by a non-zero constant.\n",
    "2. Add one row to another.\n",
    "3. Interchange between rows.\n",
    "4. Add a multiple of one row to another.\n",
    "\n",
    "We will be using these rules to help us solve a system of linear equations.\n",
    "\n",
    "In this example, we must first convert the system of linear equatons into a matrix. Then, we must row reduce the matrix until we get ones along the diagonal of the matrix and a lower triangle of zeros. Here is the system of equations:"
   ]
  },
  {
   "cell_type": "markdown",
   "metadata": {},
   "source": [
    "$$ x + y - z = 5 $$\n",
    "$$ 2x + y + 3z = 2 $$\n",
    "$$ 4x - y + 2z = -1 $$"
   ]
  },
  {
   "cell_type": "markdown",
   "metadata": {},
   "source": [
    "We must convert this system into an augmented matrix."
   ]
  },
  {
   "cell_type": "markdown",
   "metadata": {},
   "source": [
    "$$\n",
    "\\begin{vmatrix}\n",
    "1 & 1 & -1 & | & 5 \\\\\n",
    "2 & 1 & 3 & | & 2 \\\\\n",
    "4 & -1 & 2 & | & -1 \n",
    "\\end{vmatrix}\n",
    "$$"
   ]
  },
  {
   "cell_type": "markdown",
   "metadata": {},
   "source": [
    "Now we shall row reduce the augmented matrix using the previous rules stated. First, we will $ \\mathbf{R}_2 - 2\\mathbf{R}_1 $"
   ]
  },
  {
   "cell_type": "markdown",
   "metadata": {},
   "source": [
    "\\begin{equation*}\n",
    "\\begin{vmatrix}\n",
    "1 & 1 & -1 & | & 5 \\\\\n",
    "0 & -1 & 5 & | & -8 \\\\\n",
    "4 & -1 & 2 & | & -1 \n",
    "\\end{vmatrix}\n",
    "\\end{equation*}"
   ]
  },
  {
   "cell_type": "markdown",
   "metadata": {},
   "source": [
    "Second, we will $ \\mathbf{R}_3 - 4\\mathbf{R}_1 $"
   ]
  },
  {
   "cell_type": "markdown",
   "metadata": {},
   "source": [
    "$$\n",
    "\\begin{vmatrix}\n",
    "1 & 1 & -1 & | & 5 \\\\\n",
    "0 & -1 & 5 & | & -8 \\\\\n",
    "0 & -5 & 6 & | & -21 \n",
    "\\end{vmatrix}\n",
    "$$"
   ]
  },
  {
   "cell_type": "markdown",
   "metadata": {},
   "source": [
    "Next, we will $ -1 \\times \\mathbf{R}_2 $"
   ]
  },
  {
   "cell_type": "markdown",
   "metadata": {},
   "source": [
    "$$\n",
    "\\begin{vmatrix}\n",
    "1 & 1 & -1 & | & 5 \\\\\n",
    "0 & 1 & -5 & | & 8 \\\\\n",
    "0 & -5 & 6 & | & -21 \n",
    "\\end{vmatrix}\n",
    "$$"
   ]
  },
  {
   "cell_type": "markdown",
   "metadata": {},
   "source": [
    "After this, we will $ \\mathbf{R}_3 + 5\\mathbf{R}_2 $"
   ]
  },
  {
   "cell_type": "markdown",
   "metadata": {},
   "source": [
    "$$\n",
    "\\begin{vmatrix}\n",
    "1 & 1 & -1 & | & 5 \\\\\n",
    "0 & 1 & -5 & | & 8 \\\\\n",
    "0 & 0 & -19 & | & 19 \n",
    "\\end{vmatrix}\n",
    "$$"
   ]
  },
  {
   "cell_type": "markdown",
   "metadata": {},
   "source": [
    "Finally we will $ \\frac{\\mathbf{R}_3}{-19}  $"
   ]
  },
  {
   "cell_type": "markdown",
   "metadata": {},
   "source": [
    "$$\n",
    "\\begin{vmatrix}\n",
    "1 & 1 & -1 & | & 5 \\\\\n",
    "0 & 1 & -5 & | & 8 \\\\\n",
    "0 & 0 & 1 & | & -1 \n",
    "\\end{vmatrix}\n",
    "$$"
   ]
  },
  {
   "cell_type": "markdown",
   "metadata": {},
   "source": [
    "Since now we know $$ z = -1 $$ we can solve for y which is $$ y = 3 $$ and finally solve for x which is $$ x = 1 $$"
   ]
  },
  {
   "cell_type": "markdown",
   "metadata": {},
   "source": [
    "## Using python"
   ]
  },
  {
   "cell_type": "markdown",
   "metadata": {},
   "source": [
    "As stated before, Python is a very powerful high level programming language that can be used to compute tedious and complex arithmetic questions. Here is a simple example of how you can use Python to solve a system of linear equations."
   ]
  },
  {
   "cell_type": "markdown",
   "metadata": {},
   "source": [
    "Lets say we have the same system of equations as shown above. Lets solve it using Python!"
   ]
  },
  {
   "cell_type": "markdown",
   "metadata": {},
   "source": [
    "$$ x + y - z = 5 $$\n",
    "$$ 2x + y + 3z = 2 $$\n",
    "$$ 4x - y + 2z = -1 $$"
   ]
  },
  {
   "cell_type": "code",
   "execution_count": 8,
   "metadata": {},
   "outputs": [
    {
     "data": {
      "text/plain": [
       "array([[ 1.],\n",
       "       [ 3.],\n",
       "       [-1.]])"
      ]
     },
     "execution_count": 8,
     "metadata": {},
     "output_type": "execute_result"
    }
   ],
   "source": [
    "import numpy as py\n",
    "from scipy.linalg import solve\n",
    "\n",
    "A = [[1, 1, -1], [2, 1, 3], [4, -1, 2]]\n",
    "b = [[5], [2], [-1]]\n",
    "\n",
    "x = solve(A,b)\n",
    "x"
   ]
  },
  {
   "cell_type": "markdown",
   "metadata": {},
   "source": [
    "Here you can see what took multiple steps of matrix manipulation is easily solved in a few lines of code in Python."
   ]
  },
  {
   "cell_type": "markdown",
   "metadata": {},
   "source": [
    "Now you try using Python to solve this system of linear equations!\n",
    "$$ x + 3y - z = 2 $$\n",
    "$$ 2x + 5 + 3z = 1 $$\n",
    "$$ x - 3y + 2z = -4 $$"
   ]
  },
  {
   "cell_type": "code",
   "execution_count": null,
   "metadata": {
    "collapsed": true
   },
   "outputs": [],
   "source": []
  },
  {
   "cell_type": "markdown",
   "metadata": {},
   "source": [
    "### Works cited\n",
    "\n",
    "http://www.mathportal.org/algebra/solving-system-of-linear-equations/row-reduction-method.php"
   ]
  },
  {
   "cell_type": "code",
   "execution_count": null,
   "metadata": {
    "collapsed": true
   },
   "outputs": [],
   "source": []
  }
 ],
 "metadata": {
  "anaconda-cloud": {},
  "kernelspec": {
   "display_name": "Python 3",
   "language": "python",
   "name": "python3"
  },
  "language_info": {
   "codemirror_mode": {
    "name": "ipython",
    "version": 3
   },
   "file_extension": ".py",
   "mimetype": "text/x-python",
   "name": "python",
   "nbconvert_exporter": "python",
   "pygments_lexer": "ipython3",
   "version": "3.6.1"
  }
 },
 "nbformat": 4,
 "nbformat_minor": 2
}
