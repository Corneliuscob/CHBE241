{
 "cells": [
  {
   "cell_type": "markdown",
   "metadata": {},
   "source": [
    "# Sloving Sets of Linear Equations"
   ]
  },
  {
   "cell_type": "markdown",
   "metadata": {},
   "source": [
    "## By Hand"
   ]
  },
  {
   "cell_type": "markdown",
   "metadata": {},
   "source": [
    "### Substitution method for solving linear systems"
   ]
  },
  {
   "cell_type": "markdown",
   "metadata": {},
   "source": [
    "The one of the simplist methods to solve a system of linear equations is the subsitition method. The substition method functions by substituting one of the y values for another. Here is an example:"
   ]
  },
  {
   "cell_type": "markdown",
   "metadata": {},
   "source": [
    "$$ y = 2x + 4 $$\n",
    "$$ 3x + y = 9 $$"
   ]
  },
  {
   "cell_type": "markdown",
   "metadata": {},
   "source": [
    "We can now subtitute the y in the first equation into the second equation and solve."
   ]
  },
  {
   "cell_type": "markdown",
   "metadata": {},
   "source": [
    "$$ 3x + (2x + 4) = 9 $$\n",
    "$$ 5x = 5 $$\n",
    "$$ x = 1 $$"
   ]
  },
  {
   "cell_type": "markdown",
   "metadata": {},
   "source": [
    "Finally we can sove for y using x."
   ]
  },
  {
   "cell_type": "markdown",
   "metadata": {},
   "source": [
    "$$ y = 2(1) + 4 $$\n",
    "$$ y = 6 $$"
   ]
  },
  {
   "cell_type": "markdown",
   "metadata": {},
   "source": [
    "### Row reduction method for solving linear systems"
   ]
  },
  {
   "cell_type": "markdown",
   "metadata": {},
   "source": [
    "A more complicated but more practical method to solve large matricies is row reduction. There are four main rules to matrix manipulation:\n",
    "\n",
    "1. Multiply a row by a non-zero constant.\n",
    "2. Add one row to another.\n",
    "3. Interchange between rows.\n",
    "4. Add a multiple of one row to another.\n",
    "\n",
    "In this we must first convert the system of linear equatons into a matrix. Then we must row reduce the matrix until we get ones along the diagonal of the matrix and a lower triangle of zeros. Here is an example:"
   ]
  },
  {
   "cell_type": "markdown",
   "metadata": {},
   "source": [
    "$$ 3x + 2y - z = 1 $$\n",
    "$$ x - 2y + z = 0 $$\n",
    "$$ 2x + y - 3z = -1 $$"
   ]
  },
  {
   "cell_type": "markdown",
   "metadata": {},
   "source": [
    "We must convert this system into a matrix."
   ]
  },
  {
   "cell_type": "markdown",
   "metadata": {},
   "source": [
    "\\begin{equation*}\n",
    "\\begin{vmatrix}\n",
    "3 & 2 & -1 & | & 1 \\\\\n",
    "1 & -2 & 1 & | & 0 \\\\\n",
    "2 & 1 & -3 & | & -1 \n",
    "\\end{vmatrix}\n",
    "\\end{equation*}"
   ]
  },
  {
   "cell_type": "markdown",
   "metadata": {},
   "source": [
    "Now we shall row reduce the Matrix using the previous rules stated."
   ]
  },
  {
   "cell_type": "code",
   "execution_count": null,
   "metadata": {
    "collapsed": true
   },
   "outputs": [],
   "source": []
  }
 ],
 "metadata": {
  "kernelspec": {
   "display_name": "Python 3",
   "language": "python",
   "name": "python3"
  },
  "language_info": {
   "codemirror_mode": {
    "name": "ipython",
    "version": 3
   },
   "file_extension": ".py",
   "mimetype": "text/x-python",
   "name": "python",
   "nbconvert_exporter": "python",
   "pygments_lexer": "ipython3",
   "version": "3.6.1"
  }
 },
 "nbformat": 4,
 "nbformat_minor": 2
}
