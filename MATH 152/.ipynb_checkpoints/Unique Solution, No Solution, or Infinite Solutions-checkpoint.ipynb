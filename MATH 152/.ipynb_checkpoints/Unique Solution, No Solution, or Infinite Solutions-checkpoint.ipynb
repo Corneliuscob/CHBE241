{
 "cells": [
  {
   "cell_type": "markdown",
   "metadata": {},
   "source": [
    "# Unique Solution, No Solution, or Infinte Solutions"
   ]
  },
  {
   "cell_type": "markdown",
   "metadata": {},
   "source": [
    "## Introduction"
   ]
  },
  {
   "cell_type": "markdown",
   "metadata": {},
   "source": [
    "There are three diffrent types of solutions for a system of linear equations: unique solutions, no solutions, or infinitely many solutions. The structure of your matrix after you row reduce will inform you one what type of solution you have."
   ]
  },
  {
   "cell_type": "markdown",
   "metadata": {},
   "source": [
    "## Unique Solution"
   ]
  },
  {
   "cell_type": "markdown",
   "metadata": {},
   "source": [
    "The example shown preivously in this module had a unique solution. The structure of the row reduced matrix was"
   ]
  },
  {
   "cell_type": "markdown",
   "metadata": {},
   "source": [
    "\\begin{equation*}\n",
    "\\begin{vmatrix}\n",
    "1 & 1 & -1 & | & 5 \\\\\n",
    "0 & 1 & -5 & | & 8 \\\\\n",
    "0 & 0 & 1 & | & -1 \n",
    "\\end{vmatrix}\n",
    "\\end{equation*}"
   ]
  },
  {
   "cell_type": "markdown",
   "metadata": {},
   "source": [
    "and the solution was "
   ]
  },
  {
   "cell_type": "markdown",
   "metadata": {},
   "source": [
    "$$ x = 1 $$\n",
    "$$ y = 3 $$\n",
    "$$ z = -1 $$"
   ]
  },
  {
   "cell_type": "markdown",
   "metadata": {},
   "source": [
    "As you can see, each varible in the matrix can have only one possible value, and this is how you know that this matrix has one unique solution."
   ]
  },
  {
   "cell_type": "markdown",
   "metadata": {},
   "source": [
    "## No solution"
   ]
  },
  {
   "cell_type": "markdown",
   "metadata": {},
   "source": [
    "Lets supose you have a system of linear equations that consist of:"
   ]
  },
  {
   "cell_type": "markdown",
   "metadata": {},
   "source": [
    "$$ x + y + z = 2 $$\n",
    "$$ y - 3z = 1 $$\n",
    "$$ 2x + y + 5z = 0 $$"
   ]
  },
  {
   "cell_type": "markdown",
   "metadata": {},
   "source": [
    "The augmented matrix would be:"
   ]
  },
  {
   "cell_type": "markdown",
   "metadata": {},
   "source": [
    "\\begin{equation*}\n",
    "\\begin{vmatrix}\n",
    "1 & 1 & 1 & | & 2 \\\\\n",
    "0 & 1 & -3 & | & 1 \\\\\n",
    "2 & 1 & 5 & | & 0 \n",
    "\\end{vmatrix}\n",
    "\\end{equation*}"
   ]
  },
  {
   "cell_type": "markdown",
   "metadata": {},
   "source": [
    "And the row reduced matrix would be:"
   ]
  },
  {
   "cell_type": "markdown",
   "metadata": {},
   "source": [
    "\\begin{equation*}\n",
    "\\begin{vmatrix}\n",
    "1 & 0 & 4 & | & 1 \\\\\n",
    "0 & 1 & -3 & | & 1 \\\\\n",
    "0 & 0 & 0 & | & -3 \n",
    "\\end{vmatrix}\n",
    "\\end{equation*}"
   ]
  },
  {
   "cell_type": "markdown",
   "metadata": {},
   "source": [
    "As you can see, the final row states that \n",
    "$$ 0x + 0y + 0z = -3 $$\n",
    "which impossible, 0 cannot equal -3. Therefore this system of linear equations has no solution."
   ]
  },
  {
   "cell_type": "markdown",
   "metadata": {},
   "source": [
    "## Infinte Solutions"
   ]
  },
  {
   "cell_type": "markdown",
   "metadata": {},
   "source": [
    "Lets supose you have a system of linear equations that consist of:"
   ]
  },
  {
   "cell_type": "markdown",
   "metadata": {},
   "source": [
    "$$ -3x - 5y + 36z = 10 $$\n",
    "$$ -x + 7z = 5 $$\n",
    "$$ x + y - 10z = -4 $$"
   ]
  },
  {
   "cell_type": "markdown",
   "metadata": {},
   "source": [
    "The augmented matrix would be:"
   ]
  },
  {
   "cell_type": "markdown",
   "metadata": {},
   "source": [
    "\\begin{equation*}\n",
    "\\begin{vmatrix}\n",
    "-3 & -5 & 36 & | & 10 \\\\\n",
    "-1 & 0 & 7 & | & 5 \\\\\n",
    "1 & 1 & -10 & | & -4 \n",
    "\\end{vmatrix}\n",
    "\\end{equation*}"
   ]
  },
  {
   "cell_type": "markdown",
   "metadata": {},
   "source": [
    "And the row reduced matrix would be:"
   ]
  },
  {
   "cell_type": "markdown",
   "metadata": {},
   "source": [
    "\\begin{equation*}\n",
    "\\begin{vmatrix}\n",
    "1 & 0 & -7 & | & -5 \\\\\n",
    "0 & 2 & -3 & | & 1 \\\\\n",
    "0 & 0 & 0 & | & 0 \n",
    "\\end{vmatrix}\n",
    "\\end{equation*}"
   ]
  },
  {
   "cell_type": "markdown",
   "metadata": {},
   "source": [
    "As you can see, the final row of the row reduced matrix consists of 0. This means that for any value of Z, there will be a unique solution of x and y, therefore this system of linear equations has infintite solutions."
   ]
  },
  {
   "cell_type": "markdown",
   "metadata": {},
   "source": [
    "## Works Cited\n",
    "\n",
    "No solution system: https://cosmolearning.org/video-lectures/gaussian-elimination-3x3-matrix-no-solution/\n",
    "\n",
    "Infinite solution system: https://www.youtube.com/watch?v=aZgC7FnT9Ok"
   ]
  },
  {
   "cell_type": "code",
   "execution_count": null,
   "metadata": {
    "collapsed": true
   },
   "outputs": [],
   "source": []
  }
 ],
 "metadata": {
  "kernelspec": {
   "display_name": "Python 3",
   "language": "python",
   "name": "python3"
  },
  "language_info": {
   "codemirror_mode": {
    "name": "ipython",
    "version": 3
   },
   "file_extension": ".py",
   "mimetype": "text/x-python",
   "name": "python",
   "nbconvert_exporter": "python",
   "pygments_lexer": "ipython3",
   "version": "3.6.1"
  }
 },
 "nbformat": 4,
 "nbformat_minor": 2
}
